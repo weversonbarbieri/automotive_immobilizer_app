{
 "cells": [
  {
   "cell_type": "code",
   "execution_count": 58,
   "id": "e297a8e3",
   "metadata": {},
   "outputs": [],
   "source": [
    "import pandas as pd\n",
    "import os\n",
    "from supabase import create_client, Client"
   ]
  },
  {
   "cell_type": "code",
   "execution_count": 59,
   "id": "28d85ad8",
   "metadata": {},
   "outputs": [],
   "source": [
    "# Get Supabase URL from environment variable\n",
    "url: str = os.environ.get(\"NEXT_PUBLIC_SUPABASE_URL\")\n",
    "# Get Supabase anonymous key from environment variable \n",
    "key: str = os.environ.get(\"NEXT_PUBLIC_SUPABASE_ANON_KEY\")"
   ]
  },
  {
   "cell_type": "code",
   "execution_count": 60,
   "id": "db775d9f",
   "metadata": {},
   "outputs": [],
   "source": [
    "# Initialize Supabase client with URL and anonymous key\n",
    "Supabase: Client = create_client(url, key)"
   ]
  },
  {
   "cell_type": "code",
   "execution_count": 4,
   "id": "00e5c7b5",
   "metadata": {},
   "outputs": [],
   "source": [
    "# Query all records from year_make_model_table in Supabase and store the response \n",
    "response = (Supabase.table(\"year_make_model_table\").select(\"*\").execute())"
   ]
  },
  {
   "cell_type": "code",
   "execution_count": 5,
   "id": "2d23befc",
   "metadata": {},
   "outputs": [],
   "source": [
    "# Store the queried data from Supabase response into a variable\n",
    "year_make_model_data = response.data"
   ]
  },
  {
   "cell_type": "code",
   "execution_count": 6,
   "id": "0d27ea58",
   "metadata": {},
   "outputs": [],
   "source": [
    "# Convert the data to dataframe format\n",
    "df = pd.DataFrame(year_make_model_data)"
   ]
  },
  {
   "cell_type": "code",
   "execution_count": 7,
   "id": "35ac6149",
   "metadata": {},
   "outputs": [],
   "source": [
    "# Converting all values in column Model to string, as some of models are numbers, for instance BMWs 318, 328, 525\n",
    "df = df.astype({'model':'string'})"
   ]
  },
  {
   "cell_type": "code",
   "execution_count": 8,
   "id": "ca83294f",
   "metadata": {},
   "outputs": [
    {
     "name": "stdout",
     "output_type": "stream",
     "text": [
      "<class 'pandas.core.frame.DataFrame'>\n",
      "RangeIndex: 1000 entries, 0 to 999\n",
      "Data columns (total 8 columns):\n",
      " #   Column           Non-Null Count  Dtype \n",
      "---  ------           --------------  ----- \n",
      " 0   id               1000 non-null   int64 \n",
      " 1   year             1000 non-null   object\n",
      " 2   make             1000 non-null   object\n",
      " 3   model            1000 non-null   string\n",
      " 4   security         767 non-null    object\n",
      " 5   parameter_reset  267 non-null    object\n",
      " 6   created_at       1000 non-null   object\n",
      " 7   updated_at       1000 non-null   object\n",
      "dtypes: int64(1), object(6), string(1)\n",
      "memory usage: 62.6+ KB\n"
     ]
    }
   ],
   "source": [
    "# Confirm if the Dtype from the column Model changed to string.\n",
    "df.info()"
   ]
  },
  {
   "cell_type": "code",
   "execution_count": 9,
   "id": "42c65a5c",
   "metadata": {},
   "outputs": [],
   "source": [
    "# Drop unnecessary columns\n",
    "df_dropped_columns = df.drop(columns=['id', 'created_at', 'updated_at'])"
   ]
  },
  {
   "cell_type": "code",
   "execution_count": 10,
   "id": "19728bdf",
   "metadata": {},
   "outputs": [
    {
     "data": {
      "text/plain": [
       "make\n",
       "BMW           98\n",
       "Toyota        80\n",
       "Ford          65\n",
       "Acura         65\n",
       "Honda         63\n",
       "Dodge         57\n",
       "Chrysler      48\n",
       "Chevrolet     47\n",
       "Mazda         45\n",
       "Lexus         41\n",
       "Oldsmobile    39\n",
       "Nissan        38\n",
       "GMC           36\n",
       "Cadillac      34\n",
       "Buick         28\n",
       "Pontiac       27\n",
       "Mercury       24\n",
       "Audi          23\n",
       "Infiniti      21\n",
       "Lincoln       21\n",
       "Jeep          20\n",
       "Jaguar        19\n",
       "Mitsubishi    19\n",
       "Volkswagen    18\n",
       "Plymouth      15\n",
       "Saturn         7\n",
       "Land Rover     1\n",
       "Mini           1\n",
       "Name: count, dtype: int64"
      ]
     },
     "execution_count": 10,
     "metadata": {},
     "output_type": "execute_result"
    }
   ],
   "source": [
    "# Check which models the df has and print only the unique values\n",
    "df_dropped_columns['make'].value_counts()"
   ]
  },
  {
   "cell_type": "code",
   "execution_count": 11,
   "id": "493693d7",
   "metadata": {},
   "outputs": [],
   "source": [
    "# Function to create a df based on the make\n",
    "def create_df_make(make, df):\n",
    "    df_make_filtered = df[df['make'] == make]\n",
    "    return df_make_filtered"
   ]
  },
  {
   "cell_type": "code",
   "execution_count": 12,
   "id": "79a95447",
   "metadata": {},
   "outputs": [],
   "source": [
    "# Filter only Ford models and create a df.\n",
    "df_ford_filtered = create_df_make('Ford', df_dropped_columns)"
   ]
  },
  {
   "cell_type": "code",
   "execution_count": 13,
   "id": "4e5c8ec6",
   "metadata": {},
   "outputs": [
    {
     "data": {
      "text/html": [
       "<div>\n",
       "<style scoped>\n",
       "    .dataframe tbody tr th:only-of-type {\n",
       "        vertical-align: middle;\n",
       "    }\n",
       "\n",
       "    .dataframe tbody tr th {\n",
       "        vertical-align: top;\n",
       "    }\n",
       "\n",
       "    .dataframe thead th {\n",
       "        text-align: right;\n",
       "    }\n",
       "</style>\n",
       "<table border=\"1\" class=\"dataframe\">\n",
       "  <thead>\n",
       "    <tr style=\"text-align: right;\">\n",
       "      <th></th>\n",
       "      <th>year</th>\n",
       "      <th>make</th>\n",
       "      <th>model</th>\n",
       "      <th>security</th>\n",
       "      <th>parameter_reset</th>\n",
       "    </tr>\n",
       "  </thead>\n",
       "  <tbody>\n",
       "    <tr>\n",
       "      <th>190</th>\n",
       "      <td>1996</td>\n",
       "      <td>Ford</td>\n",
       "      <td>Mustang</td>\n",
       "      <td>PATS Type A (Stand Alone PATS Module)</td>\n",
       "      <td>Parameter Reset Not Required</td>\n",
       "    </tr>\n",
       "    <tr>\n",
       "      <th>191</th>\n",
       "      <td>1996</td>\n",
       "      <td>Ford</td>\n",
       "      <td>Taurus (Duratec &amp; SHO only)</td>\n",
       "      <td>PATS Type A (Stand Alone PATS Module)</td>\n",
       "      <td>Parameter Reset Not Required</td>\n",
       "    </tr>\n",
       "    <tr>\n",
       "      <th>247</th>\n",
       "      <td>1997</td>\n",
       "      <td>Ford</td>\n",
       "      <td>Expedition</td>\n",
       "      <td>PATS Type A (Stand Alone PATS Module)</td>\n",
       "      <td>Parameter Reset Not Required</td>\n",
       "    </tr>\n",
       "    <tr>\n",
       "      <th>248</th>\n",
       "      <td>1997</td>\n",
       "      <td>Ford</td>\n",
       "      <td>Mustang</td>\n",
       "      <td>PATS Type A (Stand Alone PATS Module)</td>\n",
       "      <td>Parameter Reset Not Required</td>\n",
       "    </tr>\n",
       "    <tr>\n",
       "      <th>249</th>\n",
       "      <td>1997</td>\n",
       "      <td>Ford</td>\n",
       "      <td>Taurus (Duratec &amp; SHO only)</td>\n",
       "      <td>PATS Type A (Stand Alone PATS Module)</td>\n",
       "      <td>Parameter Reset Not Required</td>\n",
       "    </tr>\n",
       "  </tbody>\n",
       "</table>\n",
       "</div>"
      ],
      "text/plain": [
       "     year  make                        model  \\\n",
       "190  1996  Ford                      Mustang   \n",
       "191  1996  Ford  Taurus (Duratec & SHO only)   \n",
       "247  1997  Ford                   Expedition   \n",
       "248  1997  Ford                      Mustang   \n",
       "249  1997  Ford  Taurus (Duratec & SHO only)   \n",
       "\n",
       "                                  security               parameter_reset  \n",
       "190  PATS Type A (Stand Alone PATS Module)  Parameter Reset Not Required  \n",
       "191  PATS Type A (Stand Alone PATS Module)  Parameter Reset Not Required  \n",
       "247  PATS Type A (Stand Alone PATS Module)  Parameter Reset Not Required  \n",
       "248  PATS Type A (Stand Alone PATS Module)  Parameter Reset Not Required  \n",
       "249  PATS Type A (Stand Alone PATS Module)  Parameter Reset Not Required  "
      ]
     },
     "execution_count": 13,
     "metadata": {},
     "output_type": "execute_result"
    }
   ],
   "source": [
    "# Print the head of the df\n",
    "df_ford_filtered.head(5)"
   ]
  },
  {
   "cell_type": "code",
   "execution_count": 14,
   "id": "0217207f",
   "metadata": {},
   "outputs": [
    {
     "data": {
      "text/plain": [
       "model\n",
       "Mustang                        7\n",
       "Expedition                     6\n",
       "Crown Victoria                 5\n",
       "Explorer (4dr)                 5\n",
       "Explorer Sport (2dr)           5\n",
       "F-150 Heritage                 4\n",
       "Taurus (Duratec & SHO only)    4\n",
       "Windstar                       4\n",
       "Focus                          3\n",
       "Taurus                         3\n",
       "Excursion                      3\n",
       "Contour (V6-only)              3\n",
       "Explorer Sport Trac            2\n",
       "Ranger (2.3L, 3.0L, & 4.0L)    2\n",
       "F-150 Harley-Davidson          2\n",
       "Ranger (3.0L & 4.0L only)      2\n",
       "Escape                         2\n",
       "F-250 (under 8500# GVW)        2\n",
       "Thunderbird                    1\n",
       "Name: count, dtype: Int64"
      ]
     },
     "execution_count": 14,
     "metadata": {},
     "output_type": "execute_result"
    }
   ],
   "source": [
    "# Count all models under the column 'model'\n",
    "df_ford_filtered['model'].value_counts()"
   ]
  },
  {
   "cell_type": "markdown",
   "id": "2189b390",
   "metadata": {},
   "source": [
    "### Note: there's no need to modify the model names as shown above"
   ]
  },
  {
   "cell_type": "code",
   "execution_count": 15,
   "id": "39f8e1f9",
   "metadata": {},
   "outputs": [],
   "source": [
    "# Count and check the value under column \"security\"\n",
    "pats_type_list = df_ford_filtered['security'].value_counts()"
   ]
  },
  {
   "cell_type": "code",
   "execution_count": 16,
   "id": "8c5aca03",
   "metadata": {},
   "outputs": [
    {
     "data": {
      "text/plain": [
       "security\n",
       "PATS Type B (Stand Alone PATS Module)                                                                                                             20\n",
       "PATS Type C (Instrument Cluster)                                                                                                                  19\n",
       "PATS Type E (Powertrain Control Module)                                                                                                           17\n",
       "PATS Type A (Stand Alone PATS Module)                                                                                                              6\n",
       "Built July 23rd 2000 or Earlier: PATS Type B (Stand Alone PATS Module)\\nBuilt July 24th 2000 or Later: PATS Type E (Powertrain Control Module)     2\n",
       "Built February 1st or earlier: PATS Type A (Stand Alone PATS Module)\\nBuilt February 2nd or later: PATS Type E (Powertrain Control Module)         1\n",
       "Name: count, dtype: int64"
      ]
     },
     "execution_count": 16,
     "metadata": {},
     "output_type": "execute_result"
    }
   ],
   "source": [
    "# Print the pats type list\n",
    "pats_type_list"
   ]
  },
  {
   "cell_type": "markdown",
   "id": "61db70d5",
   "metadata": {},
   "source": [
    "### Security Column Data Analysis\n",
    "After analyzing all data within the 'security' column, it was identified two combined pieces of information that need to be separated:\n",
    "\n",
    "1. Security system name and theft module location\n",
    "2. Multiple security systems defined by manufacturing date appearing in the same row"
   ]
  },
  {
   "cell_type": "code",
   "execution_count": 17,
   "id": "fbe1a7fe",
   "metadata": {},
   "outputs": [],
   "source": [
    "# Function to filter the Ford df based on the security type column\n",
    "def filter_df_security_column(pats_type, df_filtered):\n",
    "    df_ford_security_type = df_filtered[df_filtered['security'] == pats_type]\n",
    "    return df_ford_security_type"
   ]
  },
  {
   "cell_type": "code",
   "execution_count": 18,
   "id": "465855df",
   "metadata": {},
   "outputs": [
    {
     "name": "stderr",
     "output_type": "stream",
     "text": [
      "<>:9: SyntaxWarning: invalid escape sequence '\\)'\n",
      "<>:9: SyntaxWarning: invalid escape sequence '\\)'\n",
      "C:\\Users\\Weverson Barbieri\\AppData\\Local\\Temp\\ipykernel_6652\\2269462474.py:9: SyntaxWarning: invalid escape sequence '\\)'\n",
      "  df_make_security_type[['pats_type', 'pats_module_location']] = df_make_security_type['security'].str.split('(', n=1, expand=True).replace({'\\)': ''}, regex=True)\n"
     ]
    }
   ],
   "source": [
    "# Function to create a df based on the pats type\n",
    "def split_security_info(pats_type, df_filtered):\n",
    "    \n",
    "    # Call the function to create the df based on the pats type\n",
    "    df_make_security_type = filter_df_security_column(pats_type, df_filtered)\n",
    "\n",
    "    # Split the data under column 'security' between 2 columns using the char '(' the delimiter\n",
    "    # Furthermore, use the method replace and regex to remove the char ')'\n",
    "    df_make_security_type[['pats_type', 'pats_module_location']] = df_make_security_type['security'].str.split('(', n=1, expand=True).replace({'\\)': ''}, regex=True)\n",
    "\n",
    "    # Drop the column 'security'\n",
    "    df_pats_type_dropped_column = df_make_security_type.drop(columns=['security'])\n",
    "\n",
    "    # Return the df with the modifications done\n",
    "    return df_pats_type_dropped_column"
   ]
  },
  {
   "cell_type": "code",
   "execution_count": 19,
   "id": "13b77436",
   "metadata": {},
   "outputs": [
    {
     "name": "stderr",
     "output_type": "stream",
     "text": [
      "C:\\Users\\Weverson Barbieri\\AppData\\Local\\Temp\\ipykernel_6652\\2269462474.py:9: SettingWithCopyWarning: \n",
      "A value is trying to be set on a copy of a slice from a DataFrame.\n",
      "Try using .loc[row_indexer,col_indexer] = value instead\n",
      "\n",
      "See the caveats in the documentation: https://pandas.pydata.org/pandas-docs/stable/user_guide/indexing.html#returning-a-view-versus-a-copy\n",
      "  df_make_security_type[['pats_type', 'pats_module_location']] = df_make_security_type['security'].str.split('(', n=1, expand=True).replace({'\\)': ''}, regex=True)\n",
      "C:\\Users\\Weverson Barbieri\\AppData\\Local\\Temp\\ipykernel_6652\\2269462474.py:9: SettingWithCopyWarning: \n",
      "A value is trying to be set on a copy of a slice from a DataFrame.\n",
      "Try using .loc[row_indexer,col_indexer] = value instead\n",
      "\n",
      "See the caveats in the documentation: https://pandas.pydata.org/pandas-docs/stable/user_guide/indexing.html#returning-a-view-versus-a-copy\n",
      "  df_make_security_type[['pats_type', 'pats_module_location']] = df_make_security_type['security'].str.split('(', n=1, expand=True).replace({'\\)': ''}, regex=True)\n"
     ]
    }
   ],
   "source": [
    "# Create a df containing only PATS Type B vehicles by calling split_security_info() function\n",
    "# This splits the security info into separate columns for PATS type and module location\n",
    "# Returns a new df with the security column split and filtered for PATS Type B vehicles\n",
    "df_pats_type_b = split_security_info('PATS Type B (Stand Alone PATS Module)', df_ford_filtered)"
   ]
  },
  {
   "cell_type": "code",
   "execution_count": 20,
   "id": "30752313",
   "metadata": {},
   "outputs": [
    {
     "data": {
      "text/html": [
       "<div>\n",
       "<style scoped>\n",
       "    .dataframe tbody tr th:only-of-type {\n",
       "        vertical-align: middle;\n",
       "    }\n",
       "\n",
       "    .dataframe tbody tr th {\n",
       "        vertical-align: top;\n",
       "    }\n",
       "\n",
       "    .dataframe thead th {\n",
       "        text-align: right;\n",
       "    }\n",
       "</style>\n",
       "<table border=\"1\" class=\"dataframe\">\n",
       "  <thead>\n",
       "    <tr style=\"text-align: right;\">\n",
       "      <th></th>\n",
       "      <th>year</th>\n",
       "      <th>make</th>\n",
       "      <th>model</th>\n",
       "      <th>parameter_reset</th>\n",
       "      <th>pats_type</th>\n",
       "      <th>pats_module_location</th>\n",
       "    </tr>\n",
       "  </thead>\n",
       "  <tbody>\n",
       "    <tr>\n",
       "      <th>326</th>\n",
       "      <td>1998</td>\n",
       "      <td>Ford</td>\n",
       "      <td>Crown Victoria</td>\n",
       "      <td>Parameter Reset Required</td>\n",
       "      <td>PATS Type B</td>\n",
       "      <td>Stand Alone PATS Module</td>\n",
       "    </tr>\n",
       "    <tr>\n",
       "      <th>328</th>\n",
       "      <td>1998</td>\n",
       "      <td>Ford</td>\n",
       "      <td>Explorer (4dr)</td>\n",
       "      <td>Parameter Reset Required</td>\n",
       "      <td>PATS Type B</td>\n",
       "      <td>Stand Alone PATS Module</td>\n",
       "    </tr>\n",
       "  </tbody>\n",
       "</table>\n",
       "</div>"
      ],
      "text/plain": [
       "     year  make           model           parameter_reset     pats_type  \\\n",
       "326  1998  Ford  Crown Victoria  Parameter Reset Required  PATS Type B    \n",
       "328  1998  Ford  Explorer (4dr)  Parameter Reset Required  PATS Type B    \n",
       "\n",
       "        pats_module_location  \n",
       "326  Stand Alone PATS Module  \n",
       "328  Stand Alone PATS Module  "
      ]
     },
     "execution_count": 20,
     "metadata": {},
     "output_type": "execute_result"
    }
   ],
   "source": [
    "# Print the head to see the changes\n",
    "df_pats_type_b.head(2)"
   ]
  },
  {
   "cell_type": "code",
   "execution_count": 21,
   "id": "a967bf22",
   "metadata": {},
   "outputs": [
    {
     "data": {
      "text/plain": [
       "security\n",
       "PATS Type B (Stand Alone PATS Module)                                                                                                             20\n",
       "PATS Type C (Instrument Cluster)                                                                                                                  19\n",
       "PATS Type E (Powertrain Control Module)                                                                                                           17\n",
       "PATS Type A (Stand Alone PATS Module)                                                                                                              6\n",
       "Built July 23rd 2000 or Earlier: PATS Type B (Stand Alone PATS Module)\\nBuilt July 24th 2000 or Later: PATS Type E (Powertrain Control Module)     2\n",
       "Built February 1st or earlier: PATS Type A (Stand Alone PATS Module)\\nBuilt February 2nd or later: PATS Type E (Powertrain Control Module)         1\n",
       "Name: count, dtype: int64"
      ]
     },
     "execution_count": 21,
     "metadata": {},
     "output_type": "execute_result"
    }
   ],
   "source": [
    "# Print the pats type list to see what is the next\n",
    "pats_type_list"
   ]
  },
  {
   "cell_type": "code",
   "execution_count": 22,
   "id": "25b7a7f2",
   "metadata": {},
   "outputs": [
    {
     "name": "stderr",
     "output_type": "stream",
     "text": [
      "C:\\Users\\Weverson Barbieri\\AppData\\Local\\Temp\\ipykernel_6652\\2269462474.py:9: SettingWithCopyWarning: \n",
      "A value is trying to be set on a copy of a slice from a DataFrame.\n",
      "Try using .loc[row_indexer,col_indexer] = value instead\n",
      "\n",
      "See the caveats in the documentation: https://pandas.pydata.org/pandas-docs/stable/user_guide/indexing.html#returning-a-view-versus-a-copy\n",
      "  df_make_security_type[['pats_type', 'pats_module_location']] = df_make_security_type['security'].str.split('(', n=1, expand=True).replace({'\\)': ''}, regex=True)\n",
      "C:\\Users\\Weverson Barbieri\\AppData\\Local\\Temp\\ipykernel_6652\\2269462474.py:9: SettingWithCopyWarning: \n",
      "A value is trying to be set on a copy of a slice from a DataFrame.\n",
      "Try using .loc[row_indexer,col_indexer] = value instead\n",
      "\n",
      "See the caveats in the documentation: https://pandas.pydata.org/pandas-docs/stable/user_guide/indexing.html#returning-a-view-versus-a-copy\n",
      "  df_make_security_type[['pats_type', 'pats_module_location']] = df_make_security_type['security'].str.split('(', n=1, expand=True).replace({'\\)': ''}, regex=True)\n"
     ]
    }
   ],
   "source": [
    "# Call the function to create the df with pats type c\n",
    "df_pats_type_c = split_security_info('PATS Type C (Instrument Cluster)', df_ford_filtered)"
   ]
  },
  {
   "cell_type": "code",
   "execution_count": 23,
   "id": "3409ef9b",
   "metadata": {},
   "outputs": [
    {
     "data": {
      "text/html": [
       "<div>\n",
       "<style scoped>\n",
       "    .dataframe tbody tr th:only-of-type {\n",
       "        vertical-align: middle;\n",
       "    }\n",
       "\n",
       "    .dataframe tbody tr th {\n",
       "        vertical-align: top;\n",
       "    }\n",
       "\n",
       "    .dataframe thead th {\n",
       "        text-align: right;\n",
       "    }\n",
       "</style>\n",
       "<table border=\"1\" class=\"dataframe\">\n",
       "  <thead>\n",
       "    <tr style=\"text-align: right;\">\n",
       "      <th></th>\n",
       "      <th>year</th>\n",
       "      <th>make</th>\n",
       "      <th>model</th>\n",
       "      <th>parameter_reset</th>\n",
       "      <th>pats_type</th>\n",
       "      <th>pats_module_location</th>\n",
       "    </tr>\n",
       "  </thead>\n",
       "  <tbody>\n",
       "    <tr>\n",
       "      <th>431</th>\n",
       "      <td>1999</td>\n",
       "      <td>Ford</td>\n",
       "      <td>Expedition</td>\n",
       "      <td>Parameter Reset Required</td>\n",
       "      <td>PATS Type C</td>\n",
       "      <td>Instrument Cluster</td>\n",
       "    </tr>\n",
       "    <tr>\n",
       "      <th>434</th>\n",
       "      <td>1999</td>\n",
       "      <td>Ford</td>\n",
       "      <td>F-150 Heritage</td>\n",
       "      <td>Parameter Reset Required</td>\n",
       "      <td>PATS Type C</td>\n",
       "      <td>Instrument Cluster</td>\n",
       "    </tr>\n",
       "  </tbody>\n",
       "</table>\n",
       "</div>"
      ],
      "text/plain": [
       "     year  make           model           parameter_reset     pats_type  \\\n",
       "431  1999  Ford      Expedition  Parameter Reset Required  PATS Type C    \n",
       "434  1999  Ford  F-150 Heritage  Parameter Reset Required  PATS Type C    \n",
       "\n",
       "    pats_module_location  \n",
       "431   Instrument Cluster  \n",
       "434   Instrument Cluster  "
      ]
     },
     "execution_count": 23,
     "metadata": {},
     "output_type": "execute_result"
    }
   ],
   "source": [
    "# Print the head to see the changes\n",
    "df_pats_type_c.head(2)"
   ]
  },
  {
   "cell_type": "code",
   "execution_count": 24,
   "id": "abf7f240",
   "metadata": {},
   "outputs": [
    {
     "name": "stderr",
     "output_type": "stream",
     "text": [
      "C:\\Users\\Weverson Barbieri\\AppData\\Local\\Temp\\ipykernel_6652\\2269462474.py:9: SettingWithCopyWarning: \n",
      "A value is trying to be set on a copy of a slice from a DataFrame.\n",
      "Try using .loc[row_indexer,col_indexer] = value instead\n",
      "\n",
      "See the caveats in the documentation: https://pandas.pydata.org/pandas-docs/stable/user_guide/indexing.html#returning-a-view-versus-a-copy\n",
      "  df_make_security_type[['pats_type', 'pats_module_location']] = df_make_security_type['security'].str.split('(', n=1, expand=True).replace({'\\)': ''}, regex=True)\n",
      "C:\\Users\\Weverson Barbieri\\AppData\\Local\\Temp\\ipykernel_6652\\2269462474.py:9: SettingWithCopyWarning: \n",
      "A value is trying to be set on a copy of a slice from a DataFrame.\n",
      "Try using .loc[row_indexer,col_indexer] = value instead\n",
      "\n",
      "See the caveats in the documentation: https://pandas.pydata.org/pandas-docs/stable/user_guide/indexing.html#returning-a-view-versus-a-copy\n",
      "  df_make_security_type[['pats_type', 'pats_module_location']] = df_make_security_type['security'].str.split('(', n=1, expand=True).replace({'\\)': ''}, regex=True)\n"
     ]
    }
   ],
   "source": [
    "# Call the function to create the df with pats type e\n",
    "df_pats_type_e = split_security_info('PATS Type E (Powertrain Control Module)', df_ford_filtered)"
   ]
  },
  {
   "cell_type": "code",
   "execution_count": 25,
   "id": "4de3d36e",
   "metadata": {},
   "outputs": [
    {
     "data": {
      "text/html": [
       "<div>\n",
       "<style scoped>\n",
       "    .dataframe tbody tr th:only-of-type {\n",
       "        vertical-align: middle;\n",
       "    }\n",
       "\n",
       "    .dataframe tbody tr th {\n",
       "        vertical-align: top;\n",
       "    }\n",
       "\n",
       "    .dataframe thead th {\n",
       "        text-align: right;\n",
       "    }\n",
       "</style>\n",
       "<table border=\"1\" class=\"dataframe\">\n",
       "  <thead>\n",
       "    <tr style=\"text-align: right;\">\n",
       "      <th></th>\n",
       "      <th>year</th>\n",
       "      <th>make</th>\n",
       "      <th>model</th>\n",
       "      <th>parameter_reset</th>\n",
       "      <th>pats_type</th>\n",
       "      <th>pats_module_location</th>\n",
       "    </tr>\n",
       "  </thead>\n",
       "  <tbody>\n",
       "    <tr>\n",
       "      <th>429</th>\n",
       "      <td>1999</td>\n",
       "      <td>Ford</td>\n",
       "      <td>Contour (V6-only)</td>\n",
       "      <td>Parameter Reset Not Required</td>\n",
       "      <td>PATS Type E</td>\n",
       "      <td>Powertrain Control Module</td>\n",
       "    </tr>\n",
       "    <tr>\n",
       "      <th>548</th>\n",
       "      <td>2000</td>\n",
       "      <td>Ford</td>\n",
       "      <td>Contour (V6-only)</td>\n",
       "      <td>Parameter Reset Not Required</td>\n",
       "      <td>PATS Type E</td>\n",
       "      <td>Powertrain Control Module</td>\n",
       "    </tr>\n",
       "  </tbody>\n",
       "</table>\n",
       "</div>"
      ],
      "text/plain": [
       "     year  make              model               parameter_reset  \\\n",
       "429  1999  Ford  Contour (V6-only)  Parameter Reset Not Required   \n",
       "548  2000  Ford  Contour (V6-only)  Parameter Reset Not Required   \n",
       "\n",
       "        pats_type       pats_module_location  \n",
       "429  PATS Type E   Powertrain Control Module  \n",
       "548  PATS Type E   Powertrain Control Module  "
      ]
     },
     "execution_count": 25,
     "metadata": {},
     "output_type": "execute_result"
    }
   ],
   "source": [
    "# Print the head to see the changes\n",
    "df_pats_type_e.head(2)"
   ]
  },
  {
   "cell_type": "code",
   "execution_count": 26,
   "id": "e71d886f",
   "metadata": {},
   "outputs": [
    {
     "name": "stderr",
     "output_type": "stream",
     "text": [
      "C:\\Users\\Weverson Barbieri\\AppData\\Local\\Temp\\ipykernel_6652\\2269462474.py:9: SettingWithCopyWarning: \n",
      "A value is trying to be set on a copy of a slice from a DataFrame.\n",
      "Try using .loc[row_indexer,col_indexer] = value instead\n",
      "\n",
      "See the caveats in the documentation: https://pandas.pydata.org/pandas-docs/stable/user_guide/indexing.html#returning-a-view-versus-a-copy\n",
      "  df_make_security_type[['pats_type', 'pats_module_location']] = df_make_security_type['security'].str.split('(', n=1, expand=True).replace({'\\)': ''}, regex=True)\n",
      "C:\\Users\\Weverson Barbieri\\AppData\\Local\\Temp\\ipykernel_6652\\2269462474.py:9: SettingWithCopyWarning: \n",
      "A value is trying to be set on a copy of a slice from a DataFrame.\n",
      "Try using .loc[row_indexer,col_indexer] = value instead\n",
      "\n",
      "See the caveats in the documentation: https://pandas.pydata.org/pandas-docs/stable/user_guide/indexing.html#returning-a-view-versus-a-copy\n",
      "  df_make_security_type[['pats_type', 'pats_module_location']] = df_make_security_type['security'].str.split('(', n=1, expand=True).replace({'\\)': ''}, regex=True)\n"
     ]
    }
   ],
   "source": [
    "# Call the function\n",
    "df_pats_type_a = split_security_info('PATS Type A (Stand Alone PATS Module)', df_ford_filtered)"
   ]
  },
  {
   "cell_type": "code",
   "execution_count": 27,
   "id": "0d111880",
   "metadata": {},
   "outputs": [
    {
     "data": {
      "text/html": [
       "<div>\n",
       "<style scoped>\n",
       "    .dataframe tbody tr th:only-of-type {\n",
       "        vertical-align: middle;\n",
       "    }\n",
       "\n",
       "    .dataframe tbody tr th {\n",
       "        vertical-align: top;\n",
       "    }\n",
       "\n",
       "    .dataframe thead th {\n",
       "        text-align: right;\n",
       "    }\n",
       "</style>\n",
       "<table border=\"1\" class=\"dataframe\">\n",
       "  <thead>\n",
       "    <tr style=\"text-align: right;\">\n",
       "      <th></th>\n",
       "      <th>year</th>\n",
       "      <th>make</th>\n",
       "      <th>model</th>\n",
       "      <th>parameter_reset</th>\n",
       "      <th>pats_type</th>\n",
       "      <th>pats_module_location</th>\n",
       "    </tr>\n",
       "  </thead>\n",
       "  <tbody>\n",
       "    <tr>\n",
       "      <th>190</th>\n",
       "      <td>1996</td>\n",
       "      <td>Ford</td>\n",
       "      <td>Mustang</td>\n",
       "      <td>Parameter Reset Not Required</td>\n",
       "      <td>PATS Type A</td>\n",
       "      <td>Stand Alone PATS Module</td>\n",
       "    </tr>\n",
       "    <tr>\n",
       "      <th>191</th>\n",
       "      <td>1996</td>\n",
       "      <td>Ford</td>\n",
       "      <td>Taurus (Duratec &amp; SHO only)</td>\n",
       "      <td>Parameter Reset Not Required</td>\n",
       "      <td>PATS Type A</td>\n",
       "      <td>Stand Alone PATS Module</td>\n",
       "    </tr>\n",
       "  </tbody>\n",
       "</table>\n",
       "</div>"
      ],
      "text/plain": [
       "     year  make                        model               parameter_reset  \\\n",
       "190  1996  Ford                      Mustang  Parameter Reset Not Required   \n",
       "191  1996  Ford  Taurus (Duratec & SHO only)  Parameter Reset Not Required   \n",
       "\n",
       "        pats_type     pats_module_location  \n",
       "190  PATS Type A   Stand Alone PATS Module  \n",
       "191  PATS Type A   Stand Alone PATS Module  "
      ]
     },
     "execution_count": 27,
     "metadata": {},
     "output_type": "execute_result"
    }
   ],
   "source": [
    "# Print the head to see the changes\n",
    "df_pats_type_a.head(2)"
   ]
  },
  {
   "cell_type": "code",
   "execution_count": 28,
   "id": "d59123de",
   "metadata": {},
   "outputs": [
    {
     "data": {
      "text/plain": [
       "security\n",
       "PATS Type B (Stand Alone PATS Module)                                                                                                             20\n",
       "PATS Type C (Instrument Cluster)                                                                                                                  19\n",
       "PATS Type E (Powertrain Control Module)                                                                                                           17\n",
       "PATS Type A (Stand Alone PATS Module)                                                                                                              6\n",
       "Built July 23rd 2000 or Earlier: PATS Type B (Stand Alone PATS Module)\\nBuilt July 24th 2000 or Later: PATS Type E (Powertrain Control Module)     2\n",
       "Built February 1st or earlier: PATS Type A (Stand Alone PATS Module)\\nBuilt February 2nd or later: PATS Type E (Powertrain Control Module)         1\n",
       "Name: count, dtype: int64"
      ]
     },
     "execution_count": 28,
     "metadata": {},
     "output_type": "execute_result"
    }
   ],
   "source": [
    "# Print the pats type again\n",
    "pats_type_list"
   ]
  },
  {
   "cell_type": "code",
   "execution_count": 29,
   "id": "bd4e11d9",
   "metadata": {},
   "outputs": [
    {
     "name": "stderr",
     "output_type": "stream",
     "text": [
      "<>:19: SyntaxWarning: invalid escape sequence '\\)'\n",
      "<>:19: SyntaxWarning: invalid escape sequence '\\)'\n",
      "C:\\Users\\Weverson Barbieri\\AppData\\Local\\Temp\\ipykernel_6652\\2316733318.py:19: SyntaxWarning: invalid escape sequence '\\)'\n",
      "  df_make_built_date_exploded_lines[['pats_type', 'pats_module_location']] = df_make_built_date_exploded_lines['security'].str.split('(', n=1, expand=True).replace({'\\)': ''}, regex=True)\n"
     ]
    }
   ],
   "source": [
    "# Function to create a df after separating the columns with pats_type and pats module location based on a especific string\n",
    "def separate_pats_type_pats_ecu_location(built_date, df_make_filtered):\n",
    "    # Check mark with true the rows under column 'security' that contains the string 'Built July 23rd 2000'\n",
    "    df_make_filtered['Built Date'] = df_make_filtered['security'].str.contains(built_date, case=False)\n",
    "\n",
    "    # Create a df only with the string 'Built July' under the column 'security' \n",
    "    df_make_filtered_built_date = df_make_filtered[df_make_filtered['Built Date'] == True]\n",
    "\n",
    "    # Separate the information under column 'security' using the char '\\n' as the demiliter and treat different configuration based on the built date\n",
    "    df_make_filtered_built_date['security'] = df_make_filtered_built_date['security'].str.split('\\n')\n",
    "\n",
    "    # Explode the column 'security' to create separate rows for each security configuration\n",
    "    # This splits nested lists into individual rows while preserving the rest of the row's values\n",
    "    # Example: if a row has 2 security configs, it will create 2 separate rows with the same year/make/model\n",
    "    df_make_built_date_exploded_lines = df_make_filtered_built_date.explode('security').reset_index(drop=True).drop(columns=['Built Date'])\n",
    "\n",
    "    # Split the data under column 'security' between 2 columns using the char '(' as delimiter.\n",
    "    # Furthermore, use the method replace and regex to remove the char ')'\n",
    "    df_make_built_date_exploded_lines[['pats_type', 'pats_module_location']] = df_make_built_date_exploded_lines['security'].str.split('(', n=1, expand=True).replace({'\\)': ''}, regex=True)\n",
    "\n",
    "    return df_make_built_date_exploded_lines"
   ]
  },
  {
   "cell_type": "code",
   "execution_count": 30,
   "id": "ac6042ac",
   "metadata": {},
   "outputs": [
    {
     "name": "stderr",
     "output_type": "stream",
     "text": [
      "C:\\Users\\Weverson Barbieri\\AppData\\Local\\Temp\\ipykernel_6652\\2316733318.py:4: SettingWithCopyWarning: \n",
      "A value is trying to be set on a copy of a slice from a DataFrame.\n",
      "Try using .loc[row_indexer,col_indexer] = value instead\n",
      "\n",
      "See the caveats in the documentation: https://pandas.pydata.org/pandas-docs/stable/user_guide/indexing.html#returning-a-view-versus-a-copy\n",
      "  df_make_filtered['Built Date'] = df_make_filtered['security'].str.contains(built_date, case=False)\n",
      "C:\\Users\\Weverson Barbieri\\AppData\\Local\\Temp\\ipykernel_6652\\2316733318.py:10: SettingWithCopyWarning: \n",
      "A value is trying to be set on a copy of a slice from a DataFrame.\n",
      "Try using .loc[row_indexer,col_indexer] = value instead\n",
      "\n",
      "See the caveats in the documentation: https://pandas.pydata.org/pandas-docs/stable/user_guide/indexing.html#returning-a-view-versus-a-copy\n",
      "  df_make_filtered_built_date['security'] = df_make_filtered_built_date['security'].str.split('\\n')\n"
     ]
    }
   ],
   "source": [
    "# Call the function to create a df containing the string 'Built July' \n",
    "df_ford_built_july_exploded_lines = separate_pats_type_pats_ecu_location('Built July', df_ford_filtered)"
   ]
  },
  {
   "cell_type": "code",
   "execution_count": 31,
   "id": "a3ef07b3",
   "metadata": {},
   "outputs": [],
   "source": [
    "# Regex to get the date information on the 'pats type' column\n",
    "ford_built_july_info = df_ford_built_july_exploded_lines['pats_type'].str.extract(r'^(.*?):\\s*P')"
   ]
  },
  {
   "cell_type": "code",
   "execution_count": 32,
   "id": "676fd3b7",
   "metadata": {},
   "outputs": [],
   "source": [
    "# Convert the data to a list\n",
    "ford_built_july_info_list = ford_built_july_info[0].to_list()"
   ]
  },
  {
   "cell_type": "code",
   "execution_count": 33,
   "id": "42d0e3d8",
   "metadata": {},
   "outputs": [
    {
     "data": {
      "text/plain": [
       "['Built July 23rd 2000 or Earlier',\n",
       " 'Built July 24th 2000 or Later',\n",
       " 'Built July 23rd 2000 or Earlier',\n",
       " 'Built July 24th 2000 or Later']"
      ]
     },
     "execution_count": 33,
     "metadata": {},
     "output_type": "execute_result"
    }
   ],
   "source": [
    "# Print the data list to see the result\n",
    "ford_built_july_info_list"
   ]
  },
  {
   "cell_type": "code",
   "execution_count": 34,
   "id": "6c856a32",
   "metadata": {},
   "outputs": [],
   "source": [
    "def update_models_with_built_date_info(df_make_built_date_exploded_lines):\n",
    "    # Create a list with the models updated with their respective built date from column 'pats_type'\n",
    "    updated_models = []\n",
    "\n",
    "    # Loop to concatenate the built date information under column 'model' \n",
    "    for model in df_make_built_date_exploded_lines['model'].unique():\n",
    "        # Loop over the list with the built date information and get unique values\n",
    "        for data in set(ford_built_july_info_list):\n",
    "            # Store the updated models under a variable\n",
    "            updated_model = f'{model} / {data}'\n",
    "            # Append the updated models to the list\n",
    "            updated_models.append(updated_model)\n",
    "\n",
    "    # Update the column 'model' with the new models.\n",
    "    df_make_built_date_exploded_lines['model'] = updated_models\n",
    "\n",
    "    return df_make_built_date_exploded_lines"
   ]
  },
  {
   "cell_type": "code",
   "execution_count": 36,
   "id": "d82e8dc3",
   "metadata": {},
   "outputs": [],
   "source": [
    "# Call the function to update the models with the built date\n",
    "df_ford_built_july_updated_models = update_models_with_built_date_info(df_ford_built_july_exploded_lines)"
   ]
  },
  {
   "cell_type": "code",
   "execution_count": 37,
   "id": "5a50354b",
   "metadata": {},
   "outputs": [
    {
     "data": {
      "text/html": [
       "<div>\n",
       "<style scoped>\n",
       "    .dataframe tbody tr th:only-of-type {\n",
       "        vertical-align: middle;\n",
       "    }\n",
       "\n",
       "    .dataframe tbody tr th {\n",
       "        vertical-align: top;\n",
       "    }\n",
       "\n",
       "    .dataframe thead th {\n",
       "        text-align: right;\n",
       "    }\n",
       "</style>\n",
       "<table border=\"1\" class=\"dataframe\">\n",
       "  <thead>\n",
       "    <tr style=\"text-align: right;\">\n",
       "      <th></th>\n",
       "      <th>year</th>\n",
       "      <th>make</th>\n",
       "      <th>model</th>\n",
       "      <th>security</th>\n",
       "      <th>parameter_reset</th>\n",
       "      <th>pats_type</th>\n",
       "      <th>pats_module_location</th>\n",
       "    </tr>\n",
       "  </thead>\n",
       "  <tbody>\n",
       "    <tr>\n",
       "      <th>0</th>\n",
       "      <td>2001</td>\n",
       "      <td>Ford</td>\n",
       "      <td>Explorer Sport (2dr) / Built July 23rd 2000 or...</td>\n",
       "      <td>Built July 23rd 2000 or Earlier: PATS Type B (...</td>\n",
       "      <td>Parameter Reset Required</td>\n",
       "      <td>Built July 23rd 2000 or Earlier: PATS Type B</td>\n",
       "      <td>Stand Alone PATS Module</td>\n",
       "    </tr>\n",
       "    <tr>\n",
       "      <th>1</th>\n",
       "      <td>2001</td>\n",
       "      <td>Ford</td>\n",
       "      <td>Explorer Sport (2dr) / Built July 24th 2000 or...</td>\n",
       "      <td>Built July 24th 2000 or Later: PATS Type E (Po...</td>\n",
       "      <td>Parameter Reset Required</td>\n",
       "      <td>Built July 24th 2000 or Later: PATS Type E</td>\n",
       "      <td>Powertrain Control Module</td>\n",
       "    </tr>\n",
       "  </tbody>\n",
       "</table>\n",
       "</div>"
      ],
      "text/plain": [
       "   year  make                                              model  \\\n",
       "0  2001  Ford  Explorer Sport (2dr) / Built July 23rd 2000 or...   \n",
       "1  2001  Ford  Explorer Sport (2dr) / Built July 24th 2000 or...   \n",
       "\n",
       "                                            security  \\\n",
       "0  Built July 23rd 2000 or Earlier: PATS Type B (...   \n",
       "1  Built July 24th 2000 or Later: PATS Type E (Po...   \n",
       "\n",
       "            parameter_reset                                      pats_type  \\\n",
       "0  Parameter Reset Required  Built July 23rd 2000 or Earlier: PATS Type B    \n",
       "1  Parameter Reset Required    Built July 24th 2000 or Later: PATS Type E    \n",
       "\n",
       "        pats_module_location  \n",
       "0    Stand Alone PATS Module  \n",
       "1  Powertrain Control Module  "
      ]
     },
     "execution_count": 37,
     "metadata": {},
     "output_type": "execute_result"
    }
   ],
   "source": [
    "# Print the head to see the results\n",
    "df_ford_built_july_updated_models.head(2)"
   ]
  },
  {
   "cell_type": "code",
   "execution_count": 38,
   "id": "8e947d45",
   "metadata": {},
   "outputs": [],
   "source": [
    "# Remove the built date information and keep only the pats type info on the column pats_type\n",
    "df_ford_built_july_updated_models['pats_type'] = df_ford_built_july_updated_models['pats_type'].str.extract(r'(?:.*?:)?\\s*(PATS.*)')"
   ]
  },
  {
   "cell_type": "code",
   "execution_count": 39,
   "id": "23f6baf1",
   "metadata": {},
   "outputs": [],
   "source": [
    "# Drop the security column\n",
    "df_ford_built_july_final_version = df_ford_built_july_updated_models.drop(columns=['security'])"
   ]
  },
  {
   "cell_type": "code",
   "execution_count": 40,
   "id": "4853e91a",
   "metadata": {},
   "outputs": [
    {
     "data": {
      "text/html": [
       "<div>\n",
       "<style scoped>\n",
       "    .dataframe tbody tr th:only-of-type {\n",
       "        vertical-align: middle;\n",
       "    }\n",
       "\n",
       "    .dataframe tbody tr th {\n",
       "        vertical-align: top;\n",
       "    }\n",
       "\n",
       "    .dataframe thead th {\n",
       "        text-align: right;\n",
       "    }\n",
       "</style>\n",
       "<table border=\"1\" class=\"dataframe\">\n",
       "  <thead>\n",
       "    <tr style=\"text-align: right;\">\n",
       "      <th></th>\n",
       "      <th>year</th>\n",
       "      <th>make</th>\n",
       "      <th>model</th>\n",
       "      <th>parameter_reset</th>\n",
       "      <th>pats_type</th>\n",
       "      <th>pats_module_location</th>\n",
       "    </tr>\n",
       "  </thead>\n",
       "  <tbody>\n",
       "    <tr>\n",
       "      <th>0</th>\n",
       "      <td>2001</td>\n",
       "      <td>Ford</td>\n",
       "      <td>Explorer Sport (2dr) / Built July 23rd 2000 or...</td>\n",
       "      <td>Parameter Reset Required</td>\n",
       "      <td>PATS Type B</td>\n",
       "      <td>Stand Alone PATS Module</td>\n",
       "    </tr>\n",
       "    <tr>\n",
       "      <th>1</th>\n",
       "      <td>2001</td>\n",
       "      <td>Ford</td>\n",
       "      <td>Explorer Sport (2dr) / Built July 24th 2000 or...</td>\n",
       "      <td>Parameter Reset Required</td>\n",
       "      <td>PATS Type E</td>\n",
       "      <td>Powertrain Control Module</td>\n",
       "    </tr>\n",
       "    <tr>\n",
       "      <th>2</th>\n",
       "      <td>2001</td>\n",
       "      <td>Ford</td>\n",
       "      <td>Explorer Sport Trac / Built July 23rd 2000 or ...</td>\n",
       "      <td>Parameter Reset Required</td>\n",
       "      <td>PATS Type B</td>\n",
       "      <td>Stand Alone PATS Module</td>\n",
       "    </tr>\n",
       "    <tr>\n",
       "      <th>3</th>\n",
       "      <td>2001</td>\n",
       "      <td>Ford</td>\n",
       "      <td>Explorer Sport Trac / Built July 24th 2000 or ...</td>\n",
       "      <td>Parameter Reset Required</td>\n",
       "      <td>PATS Type E</td>\n",
       "      <td>Powertrain Control Module</td>\n",
       "    </tr>\n",
       "  </tbody>\n",
       "</table>\n",
       "</div>"
      ],
      "text/plain": [
       "   year  make                                              model  \\\n",
       "0  2001  Ford  Explorer Sport (2dr) / Built July 23rd 2000 or...   \n",
       "1  2001  Ford  Explorer Sport (2dr) / Built July 24th 2000 or...   \n",
       "2  2001  Ford  Explorer Sport Trac / Built July 23rd 2000 or ...   \n",
       "3  2001  Ford  Explorer Sport Trac / Built July 24th 2000 or ...   \n",
       "\n",
       "            parameter_reset     pats_type       pats_module_location  \n",
       "0  Parameter Reset Required  PATS Type B     Stand Alone PATS Module  \n",
       "1  Parameter Reset Required  PATS Type E   Powertrain Control Module  \n",
       "2  Parameter Reset Required  PATS Type B     Stand Alone PATS Module  \n",
       "3  Parameter Reset Required  PATS Type E   Powertrain Control Module  "
      ]
     },
     "execution_count": 40,
     "metadata": {},
     "output_type": "execute_result"
    }
   ],
   "source": [
    "# Print the df to see the final results.\n",
    "df_ford_built_july_final_version"
   ]
  },
  {
   "cell_type": "code",
   "execution_count": 41,
   "id": "36a08038",
   "metadata": {},
   "outputs": [
    {
     "name": "stderr",
     "output_type": "stream",
     "text": [
      "C:\\Users\\Weverson Barbieri\\AppData\\Local\\Temp\\ipykernel_6652\\2316733318.py:4: SettingWithCopyWarning: \n",
      "A value is trying to be set on a copy of a slice from a DataFrame.\n",
      "Try using .loc[row_indexer,col_indexer] = value instead\n",
      "\n",
      "See the caveats in the documentation: https://pandas.pydata.org/pandas-docs/stable/user_guide/indexing.html#returning-a-view-versus-a-copy\n",
      "  df_make_filtered['Built Date'] = df_make_filtered['security'].str.contains(built_date, case=False)\n",
      "C:\\Users\\Weverson Barbieri\\AppData\\Local\\Temp\\ipykernel_6652\\2316733318.py:10: SettingWithCopyWarning: \n",
      "A value is trying to be set on a copy of a slice from a DataFrame.\n",
      "Try using .loc[row_indexer,col_indexer] = value instead\n",
      "\n",
      "See the caveats in the documentation: https://pandas.pydata.org/pandas-docs/stable/user_guide/indexing.html#returning-a-view-versus-a-copy\n",
      "  df_make_filtered_built_date['security'] = df_make_filtered_built_date['security'].str.split('\\n')\n"
     ]
    }
   ],
   "source": [
    "# Call the function to create a df containing the string 'Built February'\n",
    "df_ford_filtered_built_february = separate_pats_type_pats_ecu_location('Built February', df_ford_filtered)"
   ]
  },
  {
   "cell_type": "code",
   "execution_count": 42,
   "id": "0bc0351d",
   "metadata": {},
   "outputs": [
    {
     "data": {
      "text/html": [
       "<div>\n",
       "<style scoped>\n",
       "    .dataframe tbody tr th:only-of-type {\n",
       "        vertical-align: middle;\n",
       "    }\n",
       "\n",
       "    .dataframe tbody tr th {\n",
       "        vertical-align: top;\n",
       "    }\n",
       "\n",
       "    .dataframe thead th {\n",
       "        text-align: right;\n",
       "    }\n",
       "</style>\n",
       "<table border=\"1\" class=\"dataframe\">\n",
       "  <thead>\n",
       "    <tr style=\"text-align: right;\">\n",
       "      <th></th>\n",
       "      <th>year</th>\n",
       "      <th>make</th>\n",
       "      <th>model</th>\n",
       "      <th>security</th>\n",
       "      <th>parameter_reset</th>\n",
       "      <th>pats_type</th>\n",
       "      <th>pats_module_location</th>\n",
       "    </tr>\n",
       "  </thead>\n",
       "  <tbody>\n",
       "    <tr>\n",
       "      <th>0</th>\n",
       "      <td>1998</td>\n",
       "      <td>Ford</td>\n",
       "      <td>Contour (V6-only)</td>\n",
       "      <td>Built February 1st or earlier: PATS Type A (St...</td>\n",
       "      <td>Parameter Reset Not Required</td>\n",
       "      <td>Built February 1st or earlier: PATS Type A</td>\n",
       "      <td>Stand Alone PATS Module</td>\n",
       "    </tr>\n",
       "    <tr>\n",
       "      <th>1</th>\n",
       "      <td>1998</td>\n",
       "      <td>Ford</td>\n",
       "      <td>Contour (V6-only)</td>\n",
       "      <td>Built February 2nd or later: PATS Type E (Powe...</td>\n",
       "      <td>Parameter Reset Not Required</td>\n",
       "      <td>Built February 2nd or later: PATS Type E</td>\n",
       "      <td>Powertrain Control Module</td>\n",
       "    </tr>\n",
       "  </tbody>\n",
       "</table>\n",
       "</div>"
      ],
      "text/plain": [
       "   year  make              model  \\\n",
       "0  1998  Ford  Contour (V6-only)   \n",
       "1  1998  Ford  Contour (V6-only)   \n",
       "\n",
       "                                            security  \\\n",
       "0  Built February 1st or earlier: PATS Type A (St...   \n",
       "1  Built February 2nd or later: PATS Type E (Powe...   \n",
       "\n",
       "                parameter_reset                                    pats_type  \\\n",
       "0  Parameter Reset Not Required  Built February 1st or earlier: PATS Type A    \n",
       "1  Parameter Reset Not Required    Built February 2nd or later: PATS Type E    \n",
       "\n",
       "        pats_module_location  \n",
       "0    Stand Alone PATS Module  \n",
       "1  Powertrain Control Module  "
      ]
     },
     "execution_count": 42,
     "metadata": {},
     "output_type": "execute_result"
    }
   ],
   "source": [
    "# Print the df to see the results\n",
    "df_ford_filtered_built_february"
   ]
  },
  {
   "cell_type": "code",
   "execution_count": 43,
   "id": "c6847284",
   "metadata": {},
   "outputs": [],
   "source": [
    "# Extract only the built info\n",
    "ford_built_february_info = df_ford_filtered_built_february['security'].str.extract(r'^(.*?):\\s*P')"
   ]
  },
  {
   "cell_type": "code",
   "execution_count": 44,
   "id": "3eca3927",
   "metadata": {},
   "outputs": [],
   "source": [
    "# Convert the built date in a list\n",
    "ford_built_february_info_list = ford_built_february_info[0].to_list()"
   ]
  },
  {
   "cell_type": "code",
   "execution_count": 45,
   "id": "81e5d5e1",
   "metadata": {},
   "outputs": [
    {
     "data": {
      "text/plain": [
       "['Built February 1st or earlier', 'Built February 2nd or later']"
      ]
     },
     "execution_count": 45,
     "metadata": {},
     "output_type": "execute_result"
    }
   ],
   "source": [
    "# Print the list\n",
    "ford_built_february_info_list"
   ]
  },
  {
   "cell_type": "code",
   "execution_count": 46,
   "id": "4ec153a4",
   "metadata": {},
   "outputs": [],
   "source": [
    "# Call the function to update the models\n",
    "df_ford_filtered_built_february_updated_models = update_models_with_built_date_info(df_ford_filtered_built_february)"
   ]
  },
  {
   "cell_type": "code",
   "execution_count": 47,
   "id": "ffecde88",
   "metadata": {},
   "outputs": [
    {
     "data": {
      "text/html": [
       "<div>\n",
       "<style scoped>\n",
       "    .dataframe tbody tr th:only-of-type {\n",
       "        vertical-align: middle;\n",
       "    }\n",
       "\n",
       "    .dataframe tbody tr th {\n",
       "        vertical-align: top;\n",
       "    }\n",
       "\n",
       "    .dataframe thead th {\n",
       "        text-align: right;\n",
       "    }\n",
       "</style>\n",
       "<table border=\"1\" class=\"dataframe\">\n",
       "  <thead>\n",
       "    <tr style=\"text-align: right;\">\n",
       "      <th></th>\n",
       "      <th>year</th>\n",
       "      <th>make</th>\n",
       "      <th>model</th>\n",
       "      <th>security</th>\n",
       "      <th>parameter_reset</th>\n",
       "      <th>pats_type</th>\n",
       "      <th>pats_module_location</th>\n",
       "    </tr>\n",
       "  </thead>\n",
       "  <tbody>\n",
       "    <tr>\n",
       "      <th>0</th>\n",
       "      <td>1998</td>\n",
       "      <td>Ford</td>\n",
       "      <td>Contour (V6-only) / Built July 23rd 2000 or Ea...</td>\n",
       "      <td>Built February 1st or earlier: PATS Type A (St...</td>\n",
       "      <td>Parameter Reset Not Required</td>\n",
       "      <td>Built February 1st or earlier: PATS Type A</td>\n",
       "      <td>Stand Alone PATS Module</td>\n",
       "    </tr>\n",
       "    <tr>\n",
       "      <th>1</th>\n",
       "      <td>1998</td>\n",
       "      <td>Ford</td>\n",
       "      <td>Contour (V6-only) / Built July 24th 2000 or Later</td>\n",
       "      <td>Built February 2nd or later: PATS Type E (Powe...</td>\n",
       "      <td>Parameter Reset Not Required</td>\n",
       "      <td>Built February 2nd or later: PATS Type E</td>\n",
       "      <td>Powertrain Control Module</td>\n",
       "    </tr>\n",
       "  </tbody>\n",
       "</table>\n",
       "</div>"
      ],
      "text/plain": [
       "   year  make                                              model  \\\n",
       "0  1998  Ford  Contour (V6-only) / Built July 23rd 2000 or Ea...   \n",
       "1  1998  Ford  Contour (V6-only) / Built July 24th 2000 or Later   \n",
       "\n",
       "                                            security  \\\n",
       "0  Built February 1st or earlier: PATS Type A (St...   \n",
       "1  Built February 2nd or later: PATS Type E (Powe...   \n",
       "\n",
       "                parameter_reset                                    pats_type  \\\n",
       "0  Parameter Reset Not Required  Built February 1st or earlier: PATS Type A    \n",
       "1  Parameter Reset Not Required    Built February 2nd or later: PATS Type E    \n",
       "\n",
       "        pats_module_location  \n",
       "0    Stand Alone PATS Module  \n",
       "1  Powertrain Control Module  "
      ]
     },
     "execution_count": 47,
     "metadata": {},
     "output_type": "execute_result"
    }
   ],
   "source": [
    "# Print the df to see the results\n",
    "df_ford_filtered_built_february_updated_models"
   ]
  },
  {
   "cell_type": "code",
   "execution_count": 48,
   "id": "86523729",
   "metadata": {},
   "outputs": [],
   "source": [
    "# Remove the built date information and keep only the pats type info on the column pats_type\n",
    "df_ford_filtered_built_february_updated_models['pats_type'] = df_ford_filtered_built_february_updated_models['pats_type'].str.extract(r'(?:.*?:)?\\s*(PATS.*)') "
   ]
  },
  {
   "cell_type": "code",
   "execution_count": 49,
   "id": "f6994c4a",
   "metadata": {},
   "outputs": [],
   "source": [
    "# Drop column 'security'\n",
    "df_ford_filtered_built_february_final_version = df_ford_filtered_built_february_updated_models.drop(columns=['security'])"
   ]
  },
  {
   "cell_type": "code",
   "execution_count": 50,
   "id": "da870838",
   "metadata": {},
   "outputs": [
    {
     "data": {
      "text/html": [
       "<div>\n",
       "<style scoped>\n",
       "    .dataframe tbody tr th:only-of-type {\n",
       "        vertical-align: middle;\n",
       "    }\n",
       "\n",
       "    .dataframe tbody tr th {\n",
       "        vertical-align: top;\n",
       "    }\n",
       "\n",
       "    .dataframe thead th {\n",
       "        text-align: right;\n",
       "    }\n",
       "</style>\n",
       "<table border=\"1\" class=\"dataframe\">\n",
       "  <thead>\n",
       "    <tr style=\"text-align: right;\">\n",
       "      <th></th>\n",
       "      <th>year</th>\n",
       "      <th>make</th>\n",
       "      <th>model</th>\n",
       "      <th>parameter_reset</th>\n",
       "      <th>pats_type</th>\n",
       "      <th>pats_module_location</th>\n",
       "    </tr>\n",
       "  </thead>\n",
       "  <tbody>\n",
       "    <tr>\n",
       "      <th>0</th>\n",
       "      <td>1998</td>\n",
       "      <td>Ford</td>\n",
       "      <td>Contour (V6-only) / Built July 23rd 2000 or Ea...</td>\n",
       "      <td>Parameter Reset Not Required</td>\n",
       "      <td>PATS Type A</td>\n",
       "      <td>Stand Alone PATS Module</td>\n",
       "    </tr>\n",
       "    <tr>\n",
       "      <th>1</th>\n",
       "      <td>1998</td>\n",
       "      <td>Ford</td>\n",
       "      <td>Contour (V6-only) / Built July 24th 2000 or Later</td>\n",
       "      <td>Parameter Reset Not Required</td>\n",
       "      <td>PATS Type E</td>\n",
       "      <td>Powertrain Control Module</td>\n",
       "    </tr>\n",
       "  </tbody>\n",
       "</table>\n",
       "</div>"
      ],
      "text/plain": [
       "   year  make                                              model  \\\n",
       "0  1998  Ford  Contour (V6-only) / Built July 23rd 2000 or Ea...   \n",
       "1  1998  Ford  Contour (V6-only) / Built July 24th 2000 or Later   \n",
       "\n",
       "                parameter_reset     pats_type       pats_module_location  \n",
       "0  Parameter Reset Not Required  PATS Type A     Stand Alone PATS Module  \n",
       "1  Parameter Reset Not Required  PATS Type E   Powertrain Control Module  "
      ]
     },
     "execution_count": 50,
     "metadata": {},
     "output_type": "execute_result"
    }
   ],
   "source": [
    "# Print the results\n",
    "df_ford_filtered_built_february_final_version "
   ]
  },
  {
   "cell_type": "code",
   "execution_count": 51,
   "id": "514b8376",
   "metadata": {},
   "outputs": [],
   "source": [
    "# Concatenate all ford dfs after changes\n",
    "df_ford_filtered_concatenated = pd.concat([df_pats_type_b, df_pats_type_c, df_pats_type_e, df_pats_type_a, df_ford_built_july_final_version, df_ford_filtered_built_february_final_version])"
   ]
  },
  {
   "cell_type": "code",
   "execution_count": 52,
   "id": "f3d8c3d9",
   "metadata": {},
   "outputs": [],
   "source": [
    "# Sort the df based on year and drop the index column\n",
    "df_ford_final_version = df_ford_filtered_concatenated.sort_values(['year'])"
   ]
  },
  {
   "cell_type": "code",
   "execution_count": 53,
   "id": "6f7097ec",
   "metadata": {},
   "outputs": [
    {
     "data": {
      "text/plain": [
       "model\n",
       "Mustang                                                   7\n",
       "Expedition                                                6\n",
       "Crown Victoria                                            5\n",
       "Explorer (4dr)                                            5\n",
       "Taurus (Duratec & SHO only)                               4\n",
       "Explorer Sport (2dr)                                      4\n",
       "Windstar                                                  4\n",
       "F-150 Heritage                                            4\n",
       "Taurus                                                    3\n",
       "Excursion                                                 3\n",
       "Focus                                                     3\n",
       "F-150 Harley-Davidson                                     2\n",
       "Escape                                                    2\n",
       "Ranger (2.3L, 3.0L, & 4.0L)                               2\n",
       "Contour (V6-only)                                         2\n",
       "Ranger (3.0L & 4.0L only)                                 2\n",
       "F-250 (under 8500# GVW)                                   2\n",
       "Explorer Sport (2dr) / Built July 23rd 2000 or Earlier    1\n",
       "Explorer Sport (2dr) / Built July 24th 2000 or Later      1\n",
       "Explorer Sport Trac / Built July 23rd 2000 or Earlier     1\n",
       "Explorer Sport Trac / Built July 24th 2000 or Later       1\n",
       "Contour (V6-only) / Built July 24th 2000 or Later         1\n",
       "Contour (V6-only) / Built July 23rd 2000 or Earlier       1\n",
       "Explorer Sport Trac                                       1\n",
       "Thunderbird                                               1\n",
       "Name: count, dtype: int64"
      ]
     },
     "execution_count": 53,
     "metadata": {},
     "output_type": "execute_result"
    }
   ],
   "source": [
    "df_ford_final_version['model'].value_counts()"
   ]
  },
  {
   "cell_type": "code",
   "execution_count": 62,
   "id": "0316503a",
   "metadata": {},
   "outputs": [],
   "source": [
    "data = df_ford_final_version.iloc[0]"
   ]
  },
  {
   "cell_type": "code",
   "execution_count": 69,
   "id": "20f82163",
   "metadata": {},
   "outputs": [
    {
     "data": {
      "text/plain": [
       "pandas.core.series.Series"
      ]
     },
     "execution_count": 69,
     "metadata": {},
     "output_type": "execute_result"
    }
   ],
   "source": [
    "type(data)"
   ]
  },
  {
   "cell_type": "code",
   "execution_count": 65,
   "id": "deb90e07",
   "metadata": {},
   "outputs": [],
   "source": [
    "data_dict = dict(data)"
   ]
  },
  {
   "cell_type": "code",
   "execution_count": 68,
   "id": "090a993d",
   "metadata": {},
   "outputs": [
    {
     "name": "stdout",
     "output_type": "stream",
     "text": [
      "year: 1996\n",
      "make: Ford\n",
      "model: Taurus (Duratec & SHO only)\n",
      "parameter_reset: Parameter Reset Not Required\n",
      "pats_type: PATS Type A \n",
      "pats_module_location: Stand Alone PATS Module\n"
     ]
    }
   ],
   "source": [
    "for key, value in data_dict.items():\n",
    "    print(f'{key}: {value}')"
   ]
  },
  {
   "cell_type": "code",
   "execution_count": 86,
   "id": "815d0d96",
   "metadata": {},
   "outputs": [],
   "source": [
    "# Current code shows download from GM folder\n",
    "response = Supabase.storage.from_('key-relearn-procedures').list()"
   ]
  },
  {
   "cell_type": "code",
   "execution_count": 88,
   "id": "c4279308",
   "metadata": {},
   "outputs": [],
   "source": [
    "for file in response:\n",
    "    print(f'{file}')"
   ]
  },
  {
   "cell_type": "code",
   "execution_count": null,
   "id": "c6e6c670",
   "metadata": {},
   "outputs": [],
   "source": [
    "# Export the Ford df to csv file\n",
    "df_ford_final_version.to_csv('C:\\Language_Projects\\Language_Projects\\Python\\Flagship_1\\Immo_Assistant.app\\dataframe_csv_files\\df_ford.csv', index=False)"
   ]
  }
 ],
 "metadata": {
  "kernelspec": {
   "display_name": "Python 3",
   "language": "python",
   "name": "python3"
  },
  "language_info": {
   "codemirror_mode": {
    "name": "ipython",
    "version": 3
   },
   "file_extension": ".py",
   "mimetype": "text/x-python",
   "name": "python",
   "nbconvert_exporter": "python",
   "pygments_lexer": "ipython3",
   "version": "3.12.2"
  }
 },
 "nbformat": 4,
 "nbformat_minor": 5
}
