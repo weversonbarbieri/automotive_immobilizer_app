{
 "cells": [
  {
   "cell_type": "code",
   "execution_count": 1,
   "metadata": {},
   "outputs": [],
   "source": [
    "import pandas as pd\n",
    "import os\n",
    "from supabase import create_client, Client"
   ]
  },
  {
   "cell_type": "code",
   "execution_count": null,
   "metadata": {},
   "outputs": [],
   "source": [
    "make = 'Ford'\n",
    "make.lower()"
   ]
  },
  {
   "cell_type": "code",
   "execution_count": 5,
   "metadata": {},
   "outputs": [],
   "source": [
    "selected_make = f'{make.lower()}_table'"
   ]
  },
  {
   "cell_type": "code",
   "execution_count": 6,
   "metadata": {},
   "outputs": [
    {
     "data": {
      "text/plain": [
       "'ford_table'"
      ]
     },
     "execution_count": 6,
     "metadata": {},
     "output_type": "execute_result"
    }
   ],
   "source": [
    "selected_make"
   ]
  },
  {
   "cell_type": "markdown",
   "metadata": {},
   "source": [
    "### Vehicle Security System Data Structure\n",
    "\n",
    "#### Overview\n",
    "The security system information varies significantly between manufacturers, requiring separate database tables to efficiently store and manage the data.\n",
    "\n",
    "1. Ford Motor Company Group\n",
    "Brands: Ford, Lincoln, Mercury, Mazda\n",
    "\n",
    "Key Features:\n",
    "- PATS (Passive Anti-Theft System) specific information\n",
    "- Parameter reset requirements\n",
    "- Module location details\n",
    "- Split between keyed and push-to-start variants\n",
    "\n",
    "2. General Motors Group\n",
    "Brands: Chevrolet, Cadillac, Buick, GMC, Pontiac, Saturn, Hummer\n",
    "\n",
    "Key Features:\n",
    "- Hardware part numbers\n",
    "- Cloning compatibility information\n",
    "- Multiple security system types (VATS, PK3, etc.)\n",
    "\n",
    "3. Basic Security Info Group\n",
    "Brands: Toyota, Honda, Nissan, etc.\n",
    "\n",
    "Key Features:\n",
    "- Standard security system information\n",
    "- No special procedures or additional data required"
   ]
  },
  {
   "cell_type": "code",
   "execution_count": 2,
   "metadata": {},
   "outputs": [
    {
     "name": "stderr",
     "output_type": "stream",
     "text": [
      "<>:2: SyntaxWarning: invalid escape sequence '\\L'\n",
      "<>:2: SyntaxWarning: invalid escape sequence '\\L'\n",
      "C:\\Users\\Weverson Barbieri\\AppData\\Local\\Temp\\ipykernel_8552\\507487594.py:2: SyntaxWarning: invalid escape sequence '\\L'\n",
      "  df = pd.read_excel('C:\\Language_Projects\\Language_Projects\\Python\\Flagship_1\\Immo_Assistant.app\\data\\year_make_model_df.xlsx')\n"
     ]
    }
   ],
   "source": [
    "# Read the DataFrame and save it in the variable df.\n",
    "df = pd.read_excel('C:\\Language_Projects\\Language_Projects\\Python\\Flagship_1\\Immo_Assistant.app\\data\\year_make_model_df.xlsx')"
   ]
  },
  {
   "cell_type": "code",
   "execution_count": 3,
   "metadata": {},
   "outputs": [
    {
     "data": {
      "text/plain": [
       "Index(['Year', 'Make', 'Model', 'Security', 'ParameterReset'], dtype='object')"
      ]
     },
     "execution_count": 3,
     "metadata": {},
     "output_type": "execute_result"
    }
   ],
   "source": [
    "# Get a list with all column names\n",
    "df.columns"
   ]
  },
  {
   "cell_type": "code",
   "execution_count": 4,
   "metadata": {},
   "outputs": [],
   "source": [
    "# Create a map to rename the column names before import the csv file to Supabase\n",
    "df_column_names_map = {\n",
    "                    'Year': 'year',\n",
    "                    'Make': 'make',\n",
    "                    'Model': 'model',\n",
    "                    'Security': 'security',\n",
    "                    'ParameterReset': 'parameter_reset'\n",
    "}"
   ]
  },
  {
   "cell_type": "code",
   "execution_count": 5,
   "metadata": {},
   "outputs": [],
   "source": [
    "# Create a function to rename the columns\n",
    "def rename_column_names(df):\n",
    "    df_renamed_columns = df.rename(columns=df_column_names_map)\n",
    "    return df_renamed_columns"
   ]
  },
  {
   "cell_type": "code",
   "execution_count": 6,
   "metadata": {},
   "outputs": [],
   "source": [
    "# Call the function to rename the columns\n",
    "df_renamed_columns = rename_column_names(df)"
   ]
  },
  {
   "cell_type": "code",
   "execution_count": 7,
   "metadata": {},
   "outputs": [
    {
     "data": {
      "text/html": [
       "<div>\n",
       "<style scoped>\n",
       "    .dataframe tbody tr th:only-of-type {\n",
       "        vertical-align: middle;\n",
       "    }\n",
       "\n",
       "    .dataframe tbody tr th {\n",
       "        vertical-align: top;\n",
       "    }\n",
       "\n",
       "    .dataframe thead th {\n",
       "        text-align: right;\n",
       "    }\n",
       "</style>\n",
       "<table border=\"1\" class=\"dataframe\">\n",
       "  <thead>\n",
       "    <tr style=\"text-align: right;\">\n",
       "      <th></th>\n",
       "      <th>year</th>\n",
       "      <th>make</th>\n",
       "      <th>model</th>\n",
       "      <th>security</th>\n",
       "      <th>parameter_reset</th>\n",
       "    </tr>\n",
       "  </thead>\n",
       "  <tbody>\n",
       "    <tr>\n",
       "      <th>0</th>\n",
       "      <td>1986</td>\n",
       "      <td>Chevrolet</td>\n",
       "      <td>Corvette</td>\n",
       "      <td>VATS</td>\n",
       "      <td>NaN</td>\n",
       "    </tr>\n",
       "    <tr>\n",
       "      <th>1</th>\n",
       "      <td>1987</td>\n",
       "      <td>Chevrolet</td>\n",
       "      <td>Corvette</td>\n",
       "      <td>VATS</td>\n",
       "      <td>NaN</td>\n",
       "    </tr>\n",
       "  </tbody>\n",
       "</table>\n",
       "</div>"
      ],
      "text/plain": [
       "   year       make     model security parameter_reset\n",
       "0  1986  Chevrolet  Corvette     VATS             NaN\n",
       "1  1987  Chevrolet  Corvette     VATS             NaN"
      ]
     },
     "execution_count": 7,
     "metadata": {},
     "output_type": "execute_result"
    }
   ],
   "source": [
    "# Print the head to confirm the changes\n",
    "df_renamed_columns.head(2)"
   ]
  },
  {
   "cell_type": "markdown",
   "metadata": {},
   "source": [
    "### Data Export and Supabase Import Process\n",
    "After renaming the columns, the data will be exported locally to the project's root folder and then imported into the Supabase cloud database. This will store the table data before any manipulation or manufacturer-specific division."
   ]
  },
  {
   "cell_type": "code",
   "execution_count": 8,
   "metadata": {},
   "outputs": [
    {
     "name": "stderr",
     "output_type": "stream",
     "text": [
      "<>:2: SyntaxWarning: invalid escape sequence '\\L'\n",
      "<>:2: SyntaxWarning: invalid escape sequence '\\L'\n",
      "C:\\Users\\Weverson Barbieri\\AppData\\Local\\Temp\\ipykernel_17444\\3442244793.py:2: SyntaxWarning: invalid escape sequence '\\L'\n",
      "  df_renamed_columns.to_csv('C:\\Language_Projects\\Language_Projects\\Python\\Flagship_1\\Immo_Assistant.app\\dataframe_csv_files\\df_main.csv', index=False)\n"
     ]
    }
   ],
   "source": [
    "# Download the df to csv file\n",
    "df_renamed_columns.to_csv('C:\\Language_Projects\\Language_Projects\\Python\\Flagship_1\\Immo_Assistant.app\\dataframe_csv_files\\df_main.csv', index=False)"
   ]
  },
  {
   "cell_type": "code",
   "execution_count": 8,
   "metadata": {},
   "outputs": [],
   "source": [
    "# Get Supabase URL from environment variable\n",
    "url: str = os.environ.get(\"NEXT_PUBLIC_SUPABASE_URL\")\n",
    "# Get Supabase anonymous key from environment variable \n",
    "key: str = os.environ.get(\"NEXT_PUBLIC_SUPABASE_ANON_KEY\")"
   ]
  },
  {
   "cell_type": "code",
   "execution_count": 9,
   "metadata": {},
   "outputs": [],
   "source": [
    "# Initialize Supabase client with URL and anonymous key\n",
    "Supabase: Client = create_client(url, key)"
   ]
  },
  {
   "cell_type": "code",
   "execution_count": 10,
   "metadata": {},
   "outputs": [],
   "source": [
    "def query_table_from_supabaseto_df(table_name):\n",
    "    # Query all records from the table in Supabase and store the response \n",
    "    response_table = (Supabase.table(table_name).select(\"*\").execute())\n",
    "\n",
    "    # Store the queried data from Supabase response into a variab\n",
    "    year_make_model_data = response_table.data\n",
    "\n",
    "    # Convert the data to dataframe format\n",
    "    df = pd.DataFrame(year_make_model_data)\n",
    "\n",
    "    # Drop unnecessary columns came from the Supabase table\n",
    "    df_dropped_columns = df.drop(columns=['id', 'created_at', 'updated_at'])\n",
    "\n",
    "    # Return a clear df after query\n",
    "    return df_dropped_columns"
   ]
  },
  {
   "cell_type": "code",
   "execution_count": 11,
   "metadata": {},
   "outputs": [],
   "source": [
    "# Call the function to get a cleared df after query from Supabase\n",
    "df_dropped_columns = query_table_from_supabaseto_df(\"year_make_model_table\")"
   ]
  },
  {
   "cell_type": "code",
   "execution_count": 12,
   "metadata": {},
   "outputs": [
    {
     "data": {
      "text/plain": [
       "make\n",
       "BMW           98\n",
       "Toyota        80\n",
       "Ford          65\n",
       "Acura         65\n",
       "Honda         63\n",
       "Dodge         57\n",
       "Chrysler      48\n",
       "Chevrolet     47\n",
       "Mazda         45\n",
       "Lexus         41\n",
       "Oldsmobile    39\n",
       "Nissan        38\n",
       "GMC           36\n",
       "Cadillac      34\n",
       "Buick         28\n",
       "Pontiac       27\n",
       "Mercury       24\n",
       "Audi          23\n",
       "Infiniti      21\n",
       "Lincoln       21\n",
       "Jeep          20\n",
       "Jaguar        19\n",
       "Mitsubishi    19\n",
       "Volkswagen    18\n",
       "Plymouth      15\n",
       "Saturn         7\n",
       "Land Rover     1\n",
       "Mini           1\n",
       "Name: count, dtype: int64"
      ]
     },
     "execution_count": 12,
     "metadata": {},
     "output_type": "execute_result"
    }
   ],
   "source": [
    "# Check which models the df has and print only the unique values\n",
    "df_dropped_columns['make'].value_counts()"
   ]
  },
  {
   "cell_type": "code",
   "execution_count": 13,
   "metadata": {},
   "outputs": [
    {
     "name": "stdout",
     "output_type": "stream",
     "text": [
      "<class 'pandas.core.frame.DataFrame'>\n",
      "RangeIndex: 3463 entries, 0 to 3462\n",
      "Data columns (total 5 columns):\n",
      " #   Column          Non-Null Count  Dtype \n",
      "---  ------          --------------  ----- \n",
      " 0   Year            3463 non-null   int64 \n",
      " 1   Make            3463 non-null   object\n",
      " 2   Model           3463 non-null   object\n",
      " 3   Security        3156 non-null   object\n",
      " 4   ParameterReset  938 non-null    object\n",
      "dtypes: int64(1), object(4)\n",
      "memory usage: 135.4+ KB\n"
     ]
    }
   ],
   "source": [
    "# Confirm if the Dtype from the column Model changed to string.\n",
    "df.info()"
   ]
  },
  {
   "cell_type": "code",
   "execution_count": 14,
   "metadata": {},
   "outputs": [],
   "source": [
    "# Create a new dataframe containing only Chevrolet: 'Chevrolet', 'Pontiac', 'Cadillac', 'Buick', 'Oldsmobile', 'GMC', 'Saturn', 'Hummer'\n",
    "chevrolet_list = ['Chevrolet', 'Pontiac', 'Cadillac', 'Buick', 'Oldsmobile', 'GMC', 'Saturn', 'Hummer']"
   ]
  },
  {
   "cell_type": "code",
   "execution_count": 15,
   "metadata": {},
   "outputs": [],
   "source": [
    "# Create a dataframe containing only chevrolet brands \n",
    "df_chevrolet = df_dropped_columns[df_dropped_columns['make'].isin(chevrolet_list)]"
   ]
  },
  {
   "cell_type": "code",
   "execution_count": 16,
   "metadata": {},
   "outputs": [],
   "source": [
    "# Drop the column 'ParameterReset' as it is not applicable to Chevrolet\n",
    "df_chevrolet_dropped_column = df_chevrolet.drop(columns=['parameter_reset'])"
   ]
  },
  {
   "cell_type": "markdown",
   "metadata": {},
   "source": [
    "#### After creating the Chevrolet brands DataFrame, hardware part numbers must be manually integrated from proprietary company systems. This multi-step process ensures data accuracy and security compliance.\n",
    "\n",
    "Process Steps\n",
    "    Data Preparation\n",
    "\n",
    "1. Export filtered Chevrolet DataFrame to Excel\n",
    "    - Create template for hardware number entry\n",
    "    - Manual Integration\n",
    "\n",
    "2. Access company's internal systems\n",
    "    - Add hardware numbers from GM compatibility charts\n",
    "    - Cross-reference with existing documentation\n",
    "    - Quality Control\n",
    "\n",
    "3. Verify all entered part numbers\n",
    "    - Validate data format consistency\n",
    "    - Cross-check cloning compatibility status\n",
    "    \n",
    "Note: Manual integration is required due to system access restrictions and data sensitivity requirements."
   ]
  },
  {
   "cell_type": "code",
   "execution_count": 17,
   "metadata": {},
   "outputs": [
    {
     "name": "stderr",
     "output_type": "stream",
     "text": [
      "<>:2: SyntaxWarning: invalid escape sequence '\\L'\n",
      "<>:2: SyntaxWarning: invalid escape sequence '\\L'\n",
      "C:\\Users\\Weverson Barbieri\\AppData\\Local\\Temp\\ipykernel_8552\\3614794800.py:2: SyntaxWarning: invalid escape sequence '\\L'\n",
      "  df_chevrolet_xlsx = pd.read_excel(\"C:\\Language_Projects\\Language_Projects\\Python\\Flagship_1\\Immo_Assistant.app\\dataframe_each_make_xlsx_file\\chevrolet_hardware_list.xlsx\")\n"
     ]
    }
   ],
   "source": [
    "# After including the hardware part numbers, read the df with all chevrolet brands to make the final changes before import to Supabase\n",
    "df_chevrolet_xlsx = pd.read_excel(\"C:\\Language_Projects\\Language_Projects\\Python\\Flagship_1\\Immo_Assistant.app\\dataframe_each_make_xlsx_file\\chevrolet_hardware_list.xlsx\")"
   ]
  },
  {
   "cell_type": "code",
   "execution_count": 18,
   "metadata": {},
   "outputs": [
    {
     "data": {
      "text/plain": [
       "Index(['Year', 'Make', 'Model', 'Security', 'hardware_part_number'], dtype='object')"
      ]
     },
     "execution_count": 18,
     "metadata": {},
     "output_type": "execute_result"
    }
   ],
   "source": [
    "# Print the columns\n",
    "df_chevrolet_xlsx.columns"
   ]
  },
  {
   "cell_type": "code",
   "execution_count": 19,
   "metadata": {},
   "outputs": [],
   "source": [
    "# Rename the columns to import to Supabase\n",
    "df_chevrolet_renamed_columns = df_chevrolet_xlsx.rename(columns={'Year': 'year', 'Make': 'make', 'Model': 'model', 'Security': 'security'})"
   ]
  },
  {
   "cell_type": "code",
   "execution_count": 20,
   "metadata": {},
   "outputs": [
    {
     "data": {
      "text/plain": [
       "Index(['year', 'make', 'model', 'security', 'hardware_part_number'], dtype='object')"
      ]
     },
     "execution_count": 20,
     "metadata": {},
     "output_type": "execute_result"
    }
   ],
   "source": [
    "# Print the columns to see the results\n",
    "df_chevrolet_renamed_columns.columns"
   ]
  },
  {
   "cell_type": "code",
   "execution_count": 48,
   "metadata": {},
   "outputs": [
    {
     "name": "stderr",
     "output_type": "stream",
     "text": [
      "<>:2: SyntaxWarning: invalid escape sequence '\\L'\n",
      "<>:2: SyntaxWarning: invalid escape sequence '\\L'\n",
      "C:\\Users\\Weverson Barbieri\\AppData\\Local\\Temp\\ipykernel_17444\\3851937748.py:2: SyntaxWarning: invalid escape sequence '\\L'\n",
      "  df_chevrolet_renamed_columns.to_csv(\"C:\\Language_Projects\\Language_Projects\\Python\\Flagship_1\\Immo_Assistant.app\\dataframe_csv_files\\df_chevrolet_brands_hdw.csv\", index=False)\n"
     ]
    }
   ],
   "source": [
    "# Download the csv file to import to Supabase\n",
    "df_chevrolet_renamed_columns.to_csv(\"C:\\Language_Projects\\Language_Projects\\Python\\Flagship_1\\Immo_Assistant.app\\dataframe_csv_files\\df_chevrolet_brands_hdw.csv\", index=False)"
   ]
  },
  {
   "cell_type": "code",
   "execution_count": 21,
   "metadata": {},
   "outputs": [
    {
     "name": "stderr",
     "output_type": "stream",
     "text": [
      "<>:2: SyntaxWarning: invalid escape sequence '\\L'\n",
      "<>:2: SyntaxWarning: invalid escape sequence '\\L'\n",
      "C:\\Users\\Weverson Barbieri\\AppData\\Local\\Temp\\ipykernel_8552\\1625161208.py:2: SyntaxWarning: invalid escape sequence '\\L'\n",
      "  list_clonable_modules = pd.read_excel('C:\\Language_Projects\\Language_Projects\\Python\\Flagship_1\\Immo_Assistant.app\\data\\List of Clonable Modules.xlsx')\n"
     ]
    }
   ],
   "source": [
    "# Load the xlsx file containing the clonable hardware part numbers   \n",
    "list_clonable_modules = pd.read_excel('C:\\Language_Projects\\Language_Projects\\Python\\Flagship_1\\Immo_Assistant.app\\data\\List of Clonable Modules.xlsx')"
   ]
  },
  {
   "cell_type": "code",
   "execution_count": 22,
   "metadata": {},
   "outputs": [
    {
     "data": {
      "text/plain": [
       "Index(['Cloning Tools', 'ECM Hardware', 'cloning_status', 'ECU Brand', 'Year',\n",
       "       'Year/Model/Engine Size/HP', 'Manufacturer', 'Vehicle Type', 'Notes'],\n",
       "      dtype='object')"
      ]
     },
     "execution_count": 22,
     "metadata": {},
     "output_type": "execute_result"
    }
   ],
   "source": [
    "# Print the column names\n",
    "list_clonable_modules.columns"
   ]
  },
  {
   "cell_type": "code",
   "execution_count": 23,
   "metadata": {},
   "outputs": [],
   "source": [
    "# Drop most columns and leave only 2 columns named: 'ECM Hardware' and 'cloning_status' and store in a variable\n",
    "list_clonable_modules_updated = list_clonable_modules.drop(columns=['Cloning Tools', 'ECU Brand', 'Year', 'Year/Model/Engine Size/HP', 'Manufacturer', 'Vehicle Type', 'Notes'])"
   ]
  },
  {
   "cell_type": "code",
   "execution_count": 24,
   "metadata": {},
   "outputs": [
    {
     "data": {
      "text/html": [
       "<div>\n",
       "<style scoped>\n",
       "    .dataframe tbody tr th:only-of-type {\n",
       "        vertical-align: middle;\n",
       "    }\n",
       "\n",
       "    .dataframe tbody tr th {\n",
       "        vertical-align: top;\n",
       "    }\n",
       "\n",
       "    .dataframe thead th {\n",
       "        text-align: right;\n",
       "    }\n",
       "</style>\n",
       "<table border=\"1\" class=\"dataframe\">\n",
       "  <thead>\n",
       "    <tr style=\"text-align: right;\">\n",
       "      <th></th>\n",
       "      <th>ECM Hardware</th>\n",
       "      <th>cloning_status</th>\n",
       "    </tr>\n",
       "  </thead>\n",
       "  <tbody>\n",
       "    <tr>\n",
       "      <th>0</th>\n",
       "      <td>E83 (GM)</td>\n",
       "      <td>Currently possible</td>\n",
       "    </tr>\n",
       "    <tr>\n",
       "      <th>1</th>\n",
       "      <td>E78 (GM)</td>\n",
       "      <td>Currently possible</td>\n",
       "    </tr>\n",
       "    <tr>\n",
       "      <th>2</th>\n",
       "      <td>E87 (GM)</td>\n",
       "      <td>Currently possible</td>\n",
       "    </tr>\n",
       "    <tr>\n",
       "      <th>3</th>\n",
       "      <td>E39 (GM)</td>\n",
       "      <td>Currently possible</td>\n",
       "    </tr>\n",
       "    <tr>\n",
       "      <th>4</th>\n",
       "      <td>E39A (GM)</td>\n",
       "      <td>Currently possible</td>\n",
       "    </tr>\n",
       "  </tbody>\n",
       "</table>\n",
       "</div>"
      ],
      "text/plain": [
       "  ECM Hardware      cloning_status\n",
       "0     E83 (GM)  Currently possible\n",
       "1     E78 (GM)  Currently possible\n",
       "2     E87 (GM)  Currently possible\n",
       "3     E39 (GM)  Currently possible\n",
       "4    E39A (GM)  Currently possible"
      ]
     },
     "execution_count": 24,
     "metadata": {},
     "output_type": "execute_result"
    }
   ],
   "source": [
    "# Print the first rows on the dataframe updated\n",
    "list_clonable_modules_updated.head()"
   ]
  },
  {
   "cell_type": "code",
   "execution_count": 25,
   "metadata": {},
   "outputs": [],
   "source": [
    "# Filter the hardware pn# that can be cloned\n",
    "df_list_clonable_modules_filtered = list_clonable_modules_updated[list_clonable_modules_updated['cloning_status'] == 'Currently possible']"
   ]
  },
  {
   "cell_type": "code",
   "execution_count": 26,
   "metadata": {},
   "outputs": [
    {
     "data": {
      "text/plain": [
       "Index(['ECM Hardware', 'cloning_status'], dtype='object')"
      ]
     },
     "execution_count": 26,
     "metadata": {},
     "output_type": "execute_result"
    }
   ],
   "source": [
    "# Print the columns\n",
    "df_list_clonable_modules_filtered.columns"
   ]
  },
  {
   "cell_type": "code",
   "execution_count": 27,
   "metadata": {},
   "outputs": [],
   "source": [
    "# Rename column ecm_hdw\n",
    "df_list_clonable_modules_chevrolet = df_list_clonable_modules_filtered.rename(columns={'ECM Hardware': 'ecm_hardware'})"
   ]
  },
  {
   "cell_type": "markdown",
   "metadata": {},
   "source": [
    "#### Data Processing and Database Import for Clonable Hardware Part Numbers\n",
    "##### After cleaning the DataFrame containing the clonable hardware part numbers:\n",
    "1. Export the data as a CSV file locally\n",
    "2. Import it into the Supabase database"
   ]
  },
  {
   "cell_type": "code",
   "execution_count": 29,
   "metadata": {},
   "outputs": [
    {
     "name": "stderr",
     "output_type": "stream",
     "text": [
      "<>:2: SyntaxWarning: invalid escape sequence '\\L'\n",
      "<>:2: SyntaxWarning: invalid escape sequence '\\L'\n",
      "C:\\Users\\Weverson Barbieri\\AppData\\Local\\Temp\\ipykernel_17444\\97026906.py:2: SyntaxWarning: invalid escape sequence '\\L'\n",
      "  df_list_clonable_modules_chevrolet.to_csv('C:\\Language_Projects\\Language_Projects\\Python\\Flagship_1\\Immo_Assistant.app\\dataframe_csv_files\\df_chevrolet_clonable_list.csv', index=False)\n"
     ]
    }
   ],
   "source": [
    "# Export the data as a CSV file locally\n",
    "df_list_clonable_modules_chevrolet.to_csv('C:\\Language_Projects\\Language_Projects\\Python\\Flagship_1\\Immo_Assistant.app\\dataframe_csv_files\\df_chevrolet_clonable_list.csv', index=False)"
   ]
  },
  {
   "cell_type": "code",
   "execution_count": 28,
   "metadata": {},
   "outputs": [],
   "source": [
    "# Call the function to get a cleared df after query from Supabase\n",
    "df_chevrolet_clonable_hdw = query_table_from_supabaseto_df(\"chevrolet_clonable_table\")"
   ]
  },
  {
   "cell_type": "code",
   "execution_count": 29,
   "metadata": {},
   "outputs": [
    {
     "data": {
      "text/html": [
       "<div>\n",
       "<style scoped>\n",
       "    .dataframe tbody tr th:only-of-type {\n",
       "        vertical-align: middle;\n",
       "    }\n",
       "\n",
       "    .dataframe tbody tr th {\n",
       "        vertical-align: top;\n",
       "    }\n",
       "\n",
       "    .dataframe thead th {\n",
       "        text-align: right;\n",
       "    }\n",
       "</style>\n",
       "<table border=\"1\" class=\"dataframe\">\n",
       "  <thead>\n",
       "    <tr style=\"text-align: right;\">\n",
       "      <th></th>\n",
       "      <th>ecm_hardware</th>\n",
       "      <th>cloning_status</th>\n",
       "    </tr>\n",
       "  </thead>\n",
       "  <tbody>\n",
       "    <tr>\n",
       "      <th>0</th>\n",
       "      <td>E83 (GM)</td>\n",
       "      <td>Currently possible</td>\n",
       "    </tr>\n",
       "    <tr>\n",
       "      <th>1</th>\n",
       "      <td>E78 (GM)</td>\n",
       "      <td>Currently possible</td>\n",
       "    </tr>\n",
       "  </tbody>\n",
       "</table>\n",
       "</div>"
      ],
      "text/plain": [
       "  ecm_hardware      cloning_status\n",
       "0     E83 (GM)  Currently possible\n",
       "1     E78 (GM)  Currently possible"
      ]
     },
     "execution_count": 29,
     "metadata": {},
     "output_type": "execute_result"
    }
   ],
   "source": [
    "# Print the head\n",
    "df_chevrolet_clonable_hdw.head(2)"
   ]
  },
  {
   "cell_type": "code",
   "execution_count": 30,
   "metadata": {},
   "outputs": [],
   "source": [
    "# Query all records from chevrolet_brands_hdw_table in Supabase and store the response\n",
    "df_chevrolet = query_table_from_supabaseto_df('chevrolet_brands_hdw_table')"
   ]
  },
  {
   "cell_type": "code",
   "execution_count": 31,
   "metadata": {},
   "outputs": [
    {
     "data": {
      "text/plain": [
       "Index(['year', 'make', 'model', 'security', 'hardware_part_number'], dtype='object')"
      ]
     },
     "execution_count": 31,
     "metadata": {},
     "output_type": "execute_result"
    }
   ],
   "source": [
    "# Print the columns\n",
    "df_chevrolet.columns"
   ]
  },
  {
   "cell_type": "code",
   "execution_count": 32,
   "metadata": {},
   "outputs": [],
   "source": [
    "# Create a list to store the hardwares prefixes got from the clonable list\n",
    "clonable_modules_list = []\n",
    "\n",
    "# Iterate in the column 'ECM Hardware' to get their prefixes\n",
    "for part_number in df_chevrolet_clonable_hdw['ecm_hardware']:\n",
    "    ecm_hardware_prefix = part_number.split(' ')[0]\n",
    "    clonable_modules_list.append(ecm_hardware_prefix)"
   ]
  },
  {
   "cell_type": "code",
   "execution_count": 33,
   "metadata": {},
   "outputs": [
    {
     "data": {
      "text/html": [
       "<div>\n",
       "<style scoped>\n",
       "    .dataframe tbody tr th:only-of-type {\n",
       "        vertical-align: middle;\n",
       "    }\n",
       "\n",
       "    .dataframe tbody tr th {\n",
       "        vertical-align: top;\n",
       "    }\n",
       "\n",
       "    .dataframe thead th {\n",
       "        text-align: right;\n",
       "    }\n",
       "</style>\n",
       "<table border=\"1\" class=\"dataframe\">\n",
       "  <thead>\n",
       "    <tr style=\"text-align: right;\">\n",
       "      <th></th>\n",
       "      <th>year</th>\n",
       "      <th>make</th>\n",
       "      <th>model</th>\n",
       "      <th>security</th>\n",
       "      <th>hardware_part_number</th>\n",
       "    </tr>\n",
       "  </thead>\n",
       "  <tbody>\n",
       "    <tr>\n",
       "      <th>657</th>\n",
       "      <td>2013</td>\n",
       "      <td>GMC</td>\n",
       "      <td>Savana</td>\n",
       "      <td>PK3+</td>\n",
       "      <td>E38-AK8</td>\n",
       "    </tr>\n",
       "    <tr>\n",
       "      <th>658</th>\n",
       "      <td>2013</td>\n",
       "      <td>GMC</td>\n",
       "      <td>Sierra</td>\n",
       "      <td>PK3+</td>\n",
       "      <td>E86-A24</td>\n",
       "    </tr>\n",
       "    <tr>\n",
       "      <th>659</th>\n",
       "      <td>2013</td>\n",
       "      <td>GMC</td>\n",
       "      <td>Yukon XL</td>\n",
       "      <td>PK3+</td>\n",
       "      <td>Information not available</td>\n",
       "    </tr>\n",
       "    <tr>\n",
       "      <th>660</th>\n",
       "      <td>2013</td>\n",
       "      <td>GMC</td>\n",
       "      <td>Yukon Denali</td>\n",
       "      <td>PK3+</td>\n",
       "      <td>E38-AK8</td>\n",
       "    </tr>\n",
       "    <tr>\n",
       "      <th>661</th>\n",
       "      <td>2013</td>\n",
       "      <td>GMC</td>\n",
       "      <td>Terrain</td>\n",
       "      <td>PK3+\\nSmart Key</td>\n",
       "      <td>E39A-H98S</td>\n",
       "    </tr>\n",
       "  </tbody>\n",
       "</table>\n",
       "</div>"
      ],
      "text/plain": [
       "     year make         model         security       hardware_part_number\n",
       "657  2013  GMC        Savana             PK3+                    E38-AK8\n",
       "658  2013  GMC        Sierra             PK3+                    E86-A24\n",
       "659  2013  GMC      Yukon XL             PK3+  Information not available\n",
       "660  2013  GMC  Yukon Denali             PK3+                    E38-AK8\n",
       "661  2013  GMC       Terrain  PK3+\\nSmart Key                  E39A-H98S"
      ]
     },
     "execution_count": 33,
     "metadata": {},
     "output_type": "execute_result"
    }
   ],
   "source": [
    "# Print the last rows on the dataframe containing the hardware part number values\n",
    "df_chevrolet.tail()"
   ]
  },
  {
   "cell_type": "code",
   "execution_count": 34,
   "metadata": {},
   "outputs": [],
   "source": [
    "# Create a list to store hardware prefixes\n",
    "hardware_prefix_list = []\n",
    "\n",
    "# Iterate into the main dataframe to get the prefixes \n",
    "for hardware_pn in df_chevrolet['hardware_part_number']:\n",
    "    hardware_prefix = hardware_pn.split('-')[0] # [0] indicates the first part of the list where the string needed is located, eg: 'E39', 'E38', etc.\n",
    "    hardware_prefix_list.append(hardware_prefix)\n",
    "    \n",
    "# Add a new column contaning the prefixes\n",
    "df_chevrolet['hardware_prefix'] = hardware_prefix_list"
   ]
  },
  {
   "cell_type": "code",
   "execution_count": 35,
   "metadata": {},
   "outputs": [],
   "source": [
    "# Create a list to store the the string \"Yes\" or \"No\"\n",
    "hardware_clonable_list = []\n",
    "# Variable containing the string \"Yes\" to be used when a given part number is in the clonable_modules_list\n",
    "yes_clonable = 'Yes'\n",
    "# Variable containing the string \"No\" to be used when a given part number IS NOT in the clonable_modules_list\n",
    "not_clonable = 'No'\n",
    "# Loop in the 'hardware_prefix' column to check whether or not the part numbers are clonable \n",
    "for hardware_pn in df_chevrolet['hardware_prefix']:\n",
    "    if hardware_pn in clonable_modules_list:\n",
    "        hardware_clonable_list.append(yes_clonable)\n",
    "    else:\n",
    "        hardware_clonable_list.append(not_clonable)\n",
    "\n",
    "# Create a new column after confirming the part numbers are clonable or not \n",
    "df_chevrolet['Is this hardware clonable?'] = hardware_clonable_list"
   ]
  },
  {
   "cell_type": "code",
   "execution_count": 112,
   "metadata": {},
   "outputs": [],
   "source": [
    "# Drop column 'hardware_prefix' as it was used only to confirm the clonable hardwares\n",
    "df_chevrolet_dropped_hardwarepre = df_chevrolet.drop(columns='hardware_prefix')"
   ]
  },
  {
   "cell_type": "markdown",
   "metadata": {},
   "source": [
    "##### Data Cleaning Analysis\n",
    "The security system descriptions require standardization to ensure data consistency. The following string patterns and special characters need to be removed:\n",
    "\n",
    "##### Required Changes and Text Standardization\n",
    "* Remove special characters\n",
    "* Normalize security system descriptions\n",
    "* Standardize naming conventions\n",
    "\n",
    "1. Special Characters\n",
    "\n",
    "* Remove '+' from system names (e.g., 'PK3+' → 'PK3')\n",
    "* Remove '\\n' line breaks\n",
    "* Remove '*' symbols\n",
    "\n",
    "2. System-Specific Strings\n",
    "* Remove 'Smart Key' references\n",
    "* Remove 'KA+' notation\n",
    "* Remove model-specific notations:\n",
    "* '(GT only)'\n",
    "* '(Z24 only)'\n",
    "* 'only' suffixes"
   ]
  },
  {
   "cell_type": "code",
   "execution_count": 140,
   "metadata": {},
   "outputs": [],
   "source": [
    "# Show all security systems on Chevrolet brands\n",
    "chevrolet_security_systems_list = df_chevrolet_dropped_hardwarepre['security'].value_counts()"
   ]
  },
  {
   "cell_type": "code",
   "execution_count": 113,
   "metadata": {},
   "outputs": [],
   "source": [
    "# Show all makes under Chevrolet and use this list to guide when creating separate Dataframes\n",
    "chevrolet_brands_list = df_chevrolet_dropped_hardwarepre['make'].unique()"
   ]
  },
  {
   "cell_type": "code",
   "execution_count": 135,
   "metadata": {},
   "outputs": [
    {
     "data": {
      "text/plain": [
       "security\n",
       "PK3+                   195\n",
       "PL2                    175\n",
       "PK2                     64\n",
       "PK3                     57\n",
       "PK1                     53\n",
       "PK3+\\nSmart Key         38\n",
       "PL3                     19\n",
       "KA                      15\n",
       "PL3/PK3+                10\n",
       "EZ                       5\n",
       "PL1                      4\n",
       "PK3+/KA                  4\n",
       "VATS                     4\n",
       "Holden                   3\n",
       "Toyota\\nImmobilizer      2\n",
       "Opel                     2\n",
       "PK3/KA+                  2\n",
       "Opt                      2\n",
       "PL1 (GT\\nonly*)          1\n",
       "PL1(Z24\\nonly*)          1\n",
       "GTA\\nonly                1\n",
       "Name: count, dtype: int64"
      ]
     },
     "execution_count": 135,
     "metadata": {},
     "output_type": "execute_result"
    }
   ],
   "source": [
    "# Print the list to be analysed\n",
    "chevrolet_security_systems_list"
   ]
  },
  {
   "cell_type": "code",
   "execution_count": 136,
   "metadata": {},
   "outputs": [],
   "source": [
    "# Create a pattern\n",
    "chevrolet_security_column_regex_pattern = r'\\+|/KA|/|\\n|\\*|Smart\\sKey|KA\\+|\\s*\\(GT.*?\\)|\\s*\\(Z24.*?\\)|\\s+only|\\s{2,}'"
   ]
  },
  {
   "cell_type": "code",
   "execution_count": 137,
   "metadata": {},
   "outputs": [],
   "source": [
    "# Replace uncessary data from column 'security' based on the pattern using regex\n",
    "df_chevrolet_dropped_hardwarepre['security'] = (df_chevrolet_dropped_hardwarepre['security'].str.replace(chevrolet_security_column_regex_pattern, ' ', regex=True).str.strip())"
   ]
  },
  {
   "cell_type": "code",
   "execution_count": 138,
   "metadata": {},
   "outputs": [
    {
     "data": {
      "text/plain": [
       "security\n",
       "PK3                   296\n",
       "PL2                   175\n",
       "PK2                    64\n",
       "PK1                    53\n",
       "PL3                    19\n",
       "KA                     15\n",
       "PL3 PK3                10\n",
       "PL1                     6\n",
       "EZ                      5\n",
       "VATS                    4\n",
       "Holden                  3\n",
       "Toyota Immobilizer      2\n",
       "Opel                    2\n",
       "Opt                     2\n",
       "GTA                     1\n",
       "Name: count, dtype: int64"
      ]
     },
     "execution_count": 138,
     "metadata": {},
     "output_type": "execute_result"
    }
   ],
   "source": [
    "# Print the data on security column to see the results\n",
    "df_chevrolet_dropped_hardwarepre['security'].value_counts()"
   ]
  },
  {
   "cell_type": "code",
   "execution_count": 139,
   "metadata": {},
   "outputs": [
    {
     "data": {
      "text/html": [
       "<div>\n",
       "<style scoped>\n",
       "    .dataframe tbody tr th:only-of-type {\n",
       "        vertical-align: middle;\n",
       "    }\n",
       "\n",
       "    .dataframe tbody tr th {\n",
       "        vertical-align: top;\n",
       "    }\n",
       "\n",
       "    .dataframe thead th {\n",
       "        text-align: right;\n",
       "    }\n",
       "</style>\n",
       "<table border=\"1\" class=\"dataframe\">\n",
       "  <thead>\n",
       "    <tr style=\"text-align: right;\">\n",
       "      <th></th>\n",
       "      <th>year</th>\n",
       "      <th>make</th>\n",
       "      <th>model</th>\n",
       "      <th>security</th>\n",
       "      <th>hardware_part_number</th>\n",
       "      <th>Is this hardware clonable?</th>\n",
       "    </tr>\n",
       "  </thead>\n",
       "  <tbody>\n",
       "    <tr>\n",
       "      <th>0</th>\n",
       "      <td>1986</td>\n",
       "      <td>Chevrolet</td>\n",
       "      <td>Corvette</td>\n",
       "      <td>VATS</td>\n",
       "      <td>Information not available</td>\n",
       "      <td>No</td>\n",
       "    </tr>\n",
       "    <tr>\n",
       "      <th>1</th>\n",
       "      <td>1987</td>\n",
       "      <td>Chevrolet</td>\n",
       "      <td>Corvette</td>\n",
       "      <td>VATS</td>\n",
       "      <td>Information not available</td>\n",
       "      <td>No</td>\n",
       "    </tr>\n",
       "    <tr>\n",
       "      <th>2</th>\n",
       "      <td>1988</td>\n",
       "      <td>Chevrolet</td>\n",
       "      <td>Corvette</td>\n",
       "      <td>VATS</td>\n",
       "      <td>Information not available</td>\n",
       "      <td>No</td>\n",
       "    </tr>\n",
       "    <tr>\n",
       "      <th>3</th>\n",
       "      <td>1988</td>\n",
       "      <td>Pontiac</td>\n",
       "      <td>Firebird</td>\n",
       "      <td>GTA</td>\n",
       "      <td>Information not available</td>\n",
       "      <td>No</td>\n",
       "    </tr>\n",
       "    <tr>\n",
       "      <th>4</th>\n",
       "      <td>1989</td>\n",
       "      <td>Cadillac</td>\n",
       "      <td>Allante</td>\n",
       "      <td>PK1</td>\n",
       "      <td>Information not available</td>\n",
       "      <td>No</td>\n",
       "    </tr>\n",
       "  </tbody>\n",
       "</table>\n",
       "</div>"
      ],
      "text/plain": [
       "   year       make     model security       hardware_part_number  \\\n",
       "0  1986  Chevrolet  Corvette     VATS  Information not available   \n",
       "1  1987  Chevrolet  Corvette     VATS  Information not available   \n",
       "2  1988  Chevrolet  Corvette     VATS  Information not available   \n",
       "3  1988    Pontiac  Firebird      GTA  Information not available   \n",
       "4  1989   Cadillac   Allante      PK1  Information not available   \n",
       "\n",
       "  Is this hardware clonable?  \n",
       "0                         No  \n",
       "1                         No  \n",
       "2                         No  \n",
       "3                         No  \n",
       "4                         No  "
      ]
     },
     "execution_count": 139,
     "metadata": {},
     "output_type": "execute_result"
    }
   ],
   "source": [
    "# Print the head to see the results\n",
    "df_chevrolet_dropped_hardwarepre.head(5)"
   ]
  },
  {
   "cell_type": "code",
   "execution_count": 182,
   "metadata": {},
   "outputs": [],
   "source": [
    "# Rename the last column\n",
    "df_chevrolet_last_version = df_chevrolet_dropped_hardwarepre.rename(columns={'Is this hardware clonable?': 'is_this_hardware_clonable', 'hardware_part_number': 'hdw_pn'})"
   ]
  },
  {
   "cell_type": "code",
   "execution_count": 114,
   "metadata": {},
   "outputs": [],
   "source": [
    "#  Creates a filtered DataFrame containing only records for a specific vehicle make.\n",
    "def create_df_make(make, df):\n",
    "    # Filter the dataframe based on the make given as str and the column 'make'\n",
    "    df_make = df[df['make'] == make]\n",
    "\n",
    "    # Return the df\n",
    "    return df_make"
   ]
  },
  {
   "cell_type": "code",
   "execution_count": 183,
   "metadata": {},
   "outputs": [],
   "source": [
    "# Create a dict to store all dfs from Chevrolet brands \n",
    "chevrolet_dfs = {}\n",
    "\n",
    "# Iterate over the main df and column 'make'\n",
    "for make in df_chevrolet_last_version['make']:\n",
    "    # Filter and the create the df based on the make name\n",
    "    df_make = df_chevrolet_last_version[df_chevrolet_last_version['make'] == make]\n",
    "    # update the dict\n",
    "    chevrolet_dfs.update({make: df_make})"
   ]
  },
  {
   "cell_type": "markdown",
   "metadata": {},
   "source": [
    "### Data Export and Supabase Import Process\n",
    "\n",
    "#### Overview\n",
    "After processing the vehicle security system data, each manufacturer's DataFrame is exported to CSV files and prepared for Supabase database import. The data structure requires specific column naming conventions to maintain consistency and follow database best practices.\n",
    "\n",
    "#### Column Standardization\n",
    "Two main functions handle column renaming:\n",
    "\n",
    "- rename_columns_ford_dfs(): For Ford/Mercury vehicles\n",
    "- rename_columns_chevrolet_dfs(): For GM brand vehicles\n",
    "\n",
    "These functions convert column names to snake_case format, which is:\n",
    "1. More database-friendly\n",
    "2. Follows SQL naming conventions\n",
    "3. Ensures consistency across tables\n",
    "4. Makes queries more readable\n",
    "\n",
    "#### Supabase Implementation\n",
    "##### The CSV files will be imported into separate tables in Supabase:\n",
    "\n",
    "- Ford vehicles → ford_table\n",
    "- Mercury vehicles → mercury_table\n",
    "- Chevrolet vehicles → chevrolet_table\n",
    "- Other GM brands → respective brand tables\n",
    "\n",
    "This separation is necessary because:\n",
    "- Each manufacturer has unique security system characteristics\n",
    "- Different data structures (e.g. Ford's PATS vs GM's hardware cloning information)\n",
    "- Enables more efficient queries and table management\n",
    "- Maintains data organization for the Streamlit interface"
   ]
  },
  {
   "cell_type": "code",
   "execution_count": 159,
   "metadata": {},
   "outputs": [
    {
     "data": {
      "text/plain": [
       "array(['Chevrolet', 'Pontiac', 'Cadillac', 'Buick', 'Oldsmobile', 'GMC',\n",
       "       'Saturn', 'Hummer'], dtype=object)"
      ]
     },
     "execution_count": 159,
     "metadata": {},
     "output_type": "execute_result"
    }
   ],
   "source": [
    "# Print the chevrolet brands list\n",
    "chevrolet_brands_list"
   ]
  },
  {
   "cell_type": "code",
   "execution_count": 160,
   "metadata": {},
   "outputs": [],
   "source": [
    "# Create the df with Chevrolet data\n",
    "df_chevrolet = chevrolet_dfs['Chevrolet']"
   ]
  },
  {
   "cell_type": "code",
   "execution_count": null,
   "metadata": {},
   "outputs": [],
   "source": [
    "# Export the Chevrolet df to csv file\n",
    "df_chevrolet.to_csv(\"C:\\Language_Projects\\Language_Projects\\Python\\Flagship_1\\Immo_Assistant.app\\dataframe_csv_files\\df_chevy_filtered.csv\", index=False)"
   ]
  },
  {
   "cell_type": "code",
   "execution_count": 184,
   "metadata": {},
   "outputs": [],
   "source": [
    "# Create the df with Pontiac data\n",
    "df_pontiac = chevrolet_dfs['Pontiac']"
   ]
  },
  {
   "cell_type": "code",
   "execution_count": 187,
   "metadata": {},
   "outputs": [
    {
     "data": {
      "text/html": [
       "<div>\n",
       "<style scoped>\n",
       "    .dataframe tbody tr th:only-of-type {\n",
       "        vertical-align: middle;\n",
       "    }\n",
       "\n",
       "    .dataframe tbody tr th {\n",
       "        vertical-align: top;\n",
       "    }\n",
       "\n",
       "    .dataframe thead th {\n",
       "        text-align: right;\n",
       "    }\n",
       "</style>\n",
       "<table border=\"1\" class=\"dataframe\">\n",
       "  <thead>\n",
       "    <tr style=\"text-align: right;\">\n",
       "      <th></th>\n",
       "      <th>year</th>\n",
       "      <th>make</th>\n",
       "      <th>model</th>\n",
       "      <th>security</th>\n",
       "      <th>hdw_pn</th>\n",
       "      <th>is_this_hardware_clonable</th>\n",
       "    </tr>\n",
       "  </thead>\n",
       "  <tbody>\n",
       "    <tr>\n",
       "      <th>3</th>\n",
       "      <td>1988</td>\n",
       "      <td>Pontiac</td>\n",
       "      <td>Firebird</td>\n",
       "      <td>GTA</td>\n",
       "      <td>Information not available</td>\n",
       "      <td>No</td>\n",
       "    </tr>\n",
       "    <tr>\n",
       "      <th>9</th>\n",
       "      <td>1989</td>\n",
       "      <td>Pontiac</td>\n",
       "      <td>Firebird</td>\n",
       "      <td>PK1</td>\n",
       "      <td>Information not available</td>\n",
       "      <td>No</td>\n",
       "    </tr>\n",
       "    <tr>\n",
       "      <th>19</th>\n",
       "      <td>1990</td>\n",
       "      <td>Pontiac</td>\n",
       "      <td>Firebird</td>\n",
       "      <td>PK1</td>\n",
       "      <td>Information not available</td>\n",
       "      <td>No</td>\n",
       "    </tr>\n",
       "    <tr>\n",
       "      <th>31</th>\n",
       "      <td>1991</td>\n",
       "      <td>Pontiac</td>\n",
       "      <td>Firebird</td>\n",
       "      <td>PK1</td>\n",
       "      <td>Information not available</td>\n",
       "      <td>No</td>\n",
       "    </tr>\n",
       "    <tr>\n",
       "      <th>46</th>\n",
       "      <td>1992</td>\n",
       "      <td>Pontiac</td>\n",
       "      <td>Firebird</td>\n",
       "      <td>PK1</td>\n",
       "      <td>Information not available</td>\n",
       "      <td>No</td>\n",
       "    </tr>\n",
       "    <tr>\n",
       "      <th>...</th>\n",
       "      <td>...</td>\n",
       "      <td>...</td>\n",
       "      <td>...</td>\n",
       "      <td>...</td>\n",
       "      <td>...</td>\n",
       "      <td>...</td>\n",
       "    </tr>\n",
       "    <tr>\n",
       "      <th>514</th>\n",
       "      <td>2009</td>\n",
       "      <td>Pontiac</td>\n",
       "      <td>Vibe</td>\n",
       "      <td>Toyota Immobilizer</td>\n",
       "      <td>Information not available</td>\n",
       "      <td>No</td>\n",
       "    </tr>\n",
       "    <tr>\n",
       "      <th>554</th>\n",
       "      <td>2010</td>\n",
       "      <td>Pontiac</td>\n",
       "      <td>G3</td>\n",
       "      <td>Opt</td>\n",
       "      <td>Information not available</td>\n",
       "      <td>No</td>\n",
       "    </tr>\n",
       "    <tr>\n",
       "      <th>555</th>\n",
       "      <td>2010</td>\n",
       "      <td>Pontiac</td>\n",
       "      <td>G6</td>\n",
       "      <td>PK3</td>\n",
       "      <td>Information not available</td>\n",
       "      <td>No</td>\n",
       "    </tr>\n",
       "    <tr>\n",
       "      <th>556</th>\n",
       "      <td>2010</td>\n",
       "      <td>Pontiac</td>\n",
       "      <td>G8</td>\n",
       "      <td>PK3</td>\n",
       "      <td>Information not available</td>\n",
       "      <td>No</td>\n",
       "    </tr>\n",
       "    <tr>\n",
       "      <th>557</th>\n",
       "      <td>2010</td>\n",
       "      <td>Pontiac</td>\n",
       "      <td>Solstice</td>\n",
       "      <td>PK3</td>\n",
       "      <td>Information not available</td>\n",
       "      <td>No</td>\n",
       "    </tr>\n",
       "  </tbody>\n",
       "</table>\n",
       "<p>73 rows × 6 columns</p>\n",
       "</div>"
      ],
      "text/plain": [
       "     year     make     model            security                     hdw_pn  \\\n",
       "3    1988  Pontiac  Firebird                 GTA  Information not available   \n",
       "9    1989  Pontiac  Firebird                 PK1  Information not available   \n",
       "19   1990  Pontiac  Firebird                 PK1  Information not available   \n",
       "31   1991  Pontiac  Firebird                 PK1  Information not available   \n",
       "46   1992  Pontiac  Firebird                 PK1  Information not available   \n",
       "..    ...      ...       ...                 ...                        ...   \n",
       "514  2009  Pontiac      Vibe  Toyota Immobilizer  Information not available   \n",
       "554  2010  Pontiac        G3                 Opt  Information not available   \n",
       "555  2010  Pontiac        G6                 PK3  Information not available   \n",
       "556  2010  Pontiac        G8                 PK3  Information not available   \n",
       "557  2010  Pontiac  Solstice                 PK3  Information not available   \n",
       "\n",
       "    is_this_hardware_clonable  \n",
       "3                          No  \n",
       "9                          No  \n",
       "19                         No  \n",
       "31                         No  \n",
       "46                         No  \n",
       "..                        ...  \n",
       "514                        No  \n",
       "554                        No  \n",
       "555                        No  \n",
       "556                        No  \n",
       "557                        No  \n",
       "\n",
       "[73 rows x 6 columns]"
      ]
     },
     "execution_count": 187,
     "metadata": {},
     "output_type": "execute_result"
    }
   ],
   "source": [
    "df_pontiac"
   ]
  },
  {
   "cell_type": "code",
   "execution_count": 186,
   "metadata": {},
   "outputs": [
    {
     "name": "stderr",
     "output_type": "stream",
     "text": [
      "<>:2: SyntaxWarning: invalid escape sequence '\\L'\n",
      "<>:2: SyntaxWarning: invalid escape sequence '\\L'\n",
      "C:\\Users\\Weverson Barbieri\\AppData\\Local\\Temp\\ipykernel_8552\\2472780175.py:2: SyntaxWarning: invalid escape sequence '\\L'\n",
      "  df_pontiac.to_csv(\"C:\\Language_Projects\\Language_Projects\\Python\\Flagship_1\\Immo_Assistant.app\\dataframe_csv_files\\df_pontiac.csv\", index=False)\n"
     ]
    }
   ],
   "source": [
    "# Export the Pontiac df to csv file\n",
    "df_pontiac.to_csv(\"C:\\Language_Projects\\Language_Projects\\Python\\Flagship_1\\Immo_Assistant.app\\dataframe_csv_files\\df_pontiac.csv\", index=False)"
   ]
  },
  {
   "cell_type": "code",
   "execution_count": 162,
   "metadata": {},
   "outputs": [],
   "source": [
    "# Create the df with Cadillac data\n",
    "df_cadillac = chevrolet_dfs['Cadillac']"
   ]
  },
  {
   "cell_type": "code",
   "execution_count": null,
   "metadata": {},
   "outputs": [],
   "source": [
    "# Export the Cadillac df to csv file\n",
    "df_cadillac.to_csv(\"C:\\Language_Projects\\Language_Projects\\Python\\Flagship_1\\Immo_Assistant.app\\dataframe_csv_files\\df_cadillac.csv\", index=False)"
   ]
  },
  {
   "cell_type": "code",
   "execution_count": 163,
   "metadata": {},
   "outputs": [],
   "source": [
    "# Create the df with Buick data\n",
    "df_buick = chevrolet_dfs['Buick']"
   ]
  },
  {
   "cell_type": "code",
   "execution_count": null,
   "metadata": {},
   "outputs": [],
   "source": [
    "# Export the Buick df to csv file\n",
    "df_buick.to_csv(\"C:\\Language_Projects\\Language_Projects\\Python\\Flagship_1\\Immo_Assistant.app\\dataframe_csv_files\\df_buick.csv\", index=False)"
   ]
  },
  {
   "cell_type": "code",
   "execution_count": 164,
   "metadata": {},
   "outputs": [],
   "source": [
    "# Create the df with Oldsmobile data\n",
    "df_oldsmobile = chevrolet_dfs['Oldsmobile']"
   ]
  },
  {
   "cell_type": "code",
   "execution_count": null,
   "metadata": {},
   "outputs": [],
   "source": [
    "# Export the Oldsmobile df to csv file\n",
    "df_oldsmobile.to_csv(\"C:\\Language_Projects\\Language_Projects\\Python\\Flagship_1\\Immo_Assistant.app\\dataframe_csv_files\\df_oldsmobile.csv\", index=False)"
   ]
  },
  {
   "cell_type": "code",
   "execution_count": 165,
   "metadata": {},
   "outputs": [],
   "source": [
    "# Create the df with GMC data\n",
    "df_gmc = chevrolet_dfs['GMC']"
   ]
  },
  {
   "cell_type": "code",
   "execution_count": null,
   "metadata": {},
   "outputs": [],
   "source": [
    "# Export the GMC df to csv file\n",
    "df_gmc.to_csv('C:\\Language_Projects\\Language_Projects\\Python\\Flagship_1\\Immo_Assistant.app\\dataframe_csv_files\\df_gmc.csv', index=False)"
   ]
  },
  {
   "cell_type": "code",
   "execution_count": 166,
   "metadata": {},
   "outputs": [],
   "source": [
    "# Create the df with GMC data\n",
    "df_saturn = chevrolet_dfs['Saturn']"
   ]
  },
  {
   "cell_type": "code",
   "execution_count": null,
   "metadata": {},
   "outputs": [],
   "source": [
    "# Export the Saturn df to csv file\n",
    "df_saturn.to_csv('C:\\Language_Projects\\Language_Projects\\Python\\Flagship_1\\Immo_Assistant.app\\dataframe_csv_files\\df_saturn.csv', index=False)"
   ]
  },
  {
   "cell_type": "code",
   "execution_count": 167,
   "metadata": {},
   "outputs": [],
   "source": [
    "# Create the df with Hummer data\n",
    "df_hummer = chevrolet_dfs['Hummer']"
   ]
  },
  {
   "cell_type": "code",
   "execution_count": null,
   "metadata": {},
   "outputs": [],
   "source": [
    "# Export the Hummer df to csv file\n",
    "df_hummer.to_csv(\"C:\\Language_Projects\\Language_Projects\\Python\\Flagship_1\\Immo_Assistant.app\\dataframe_csv_files\\df_hummer.csv\", index=False)"
   ]
  },
  {
   "cell_type": "code",
   "execution_count": 116,
   "metadata": {},
   "outputs": [],
   "source": [
    "# Function to rename the Ford dataframe columns \n",
    "def rename_columns_ford_dfs(df_make):\n",
    "    # Create a map to rename the columns\n",
    "    map_rename_columns_ford_makes = {\n",
    "                                'Year': 'year',\n",
    "                                'Make': 'make',\n",
    "                                'Model': 'model',\n",
    "                                'ParameterReset': 'parameter_reset',\n",
    "                                'PATS Type': 'pats_type',\n",
    "                                'PATS Module Location': 'pats_module_location'\n",
    "                                }\n",
    "    # Rename the columns using the map\n",
    "    df_make_final_version = df_make.rename(columns=map_rename_columns_ford_makes)\n",
    "    return df_make_final_version"
   ]
  },
  {
   "cell_type": "code",
   "execution_count": 117,
   "metadata": {},
   "outputs": [],
   "source": [
    "# Function to rename the Chevrolet dataframe columns \n",
    "def rename_columns_chevrolet_dfs(df_make):\n",
    "    # Create a map to rename the columns\n",
    "    map_rename_columns_chevrolet_makes = {\n",
    "                                        'Year': 'year', \n",
    "                                        'Make': 'make', \n",
    "                                        'Model': 'model', \n",
    "                                        'Security': 'security', \n",
    "                                        'Hardware Part Number': 'hdw_pn',\n",
    "                                        'Is this hardware clonable?': 'is_this_hdw_clonable'\n",
    "                                    }\n",
    "    # Rename the columns using the map\n",
    "    df_make_final_version = df_make.rename(columns=map_rename_columns_chevrolet_makes)\n",
    "    return df_make_final_version"
   ]
  }
 ],
 "metadata": {
  "kernelspec": {
   "display_name": "Python 3",
   "language": "python",
   "name": "python3"
  },
  "language_info": {
   "codemirror_mode": {
    "name": "ipython",
    "version": 3
   },
   "file_extension": ".py",
   "mimetype": "text/x-python",
   "name": "python",
   "nbconvert_exporter": "python",
   "pygments_lexer": "ipython3",
   "version": "3.12.2"
  }
 },
 "nbformat": 4,
 "nbformat_minor": 2
}
