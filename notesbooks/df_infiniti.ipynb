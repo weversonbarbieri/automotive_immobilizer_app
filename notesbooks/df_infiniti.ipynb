{
 "cells": [
  {
   "cell_type": "code",
   "execution_count": 1,
   "metadata": {},
   "outputs": [],
   "source": [
    "import pandas as pd"
   ]
  },
  {
   "cell_type": "code",
   "execution_count": 2,
   "metadata": {},
   "outputs": [
    {
     "name": "stderr",
     "output_type": "stream",
     "text": [
      "<>:2: SyntaxWarning: invalid escape sequence '\\L'\n",
      "C:\\Users\\Weverson Barbieri\\AppData\\Local\\Temp\\ipykernel_11404\\507487594.py:2: SyntaxWarning: invalid escape sequence '\\L'\n",
      "  df = pd.read_excel('C:\\Language_Projects\\Language_Projects\\Python\\Flagship_1\\Immo_Assistant.app\\data\\year_make_model_df.xlsx')\n"
     ]
    },
    {
     "name": "stdout",
     "output_type": "stream",
     "text": [
      "<class 'pandas.core.frame.DataFrame'>\n",
      "RangeIndex: 3463 entries, 0 to 3462\n",
      "Data columns (total 5 columns):\n",
      " #   Column          Non-Null Count  Dtype \n",
      "---  ------          --------------  ----- \n",
      " 0   Year            3463 non-null   int64 \n",
      " 1   Make            3463 non-null   object\n",
      " 2   Model           3463 non-null   string\n",
      " 3   Security        3156 non-null   object\n",
      " 4   ParameterReset  938 non-null    object\n",
      "dtypes: int64(1), object(3), string(1)\n",
      "memory usage: 135.4+ KB\n",
      "PATS Type A (Stand Alone PATS Module)\n",
      "PATS Type A (Stand Alone PATS Module)\n",
      "PATS Type A (Stand Alone PATS Module)\n",
      "PATS Type A (Stand Alone PATS Module)\n",
      "PATS Type A (Stand Alone PATS Module)\n",
      "Built February 1st or earlier: PATS Type A (Stand Alone PATS Module)\n",
      "Built February 2nd or later: PATS Type E (Powertrain Control Module)\n",
      "PATS Type B (Stand Alone PATS Module)\n",
      "PATS Type A (Stand Alone PATS Module)\n",
      "PATS Type B (Stand Alone PATS Module)\n",
      "PATS Type B (Stand Alone PATS Module)\n",
      "PATS Type B (Stand Alone PATS Module)\n",
      "PATS Type B (Stand Alone PATS Module)\n",
      "PATS Type E (Powertrain Control Module)\n",
      "PATS Type B (Stand Alone PATS Module)\n",
      "PATS Type C (Instrument Cluster)\n",
      "PATS Type B (Stand Alone PATS Module)\n",
      "PATS Type B (Stand Alone PATS Module)\n",
      "PATS Type C (Instrument Cluster)\n",
      "PATS Type C (Instrument Cluster)\n",
      "PATS Type C (Instrument Cluster)\n",
      "PATS Type B (Stand Alone PATS Module)\n",
      "PATS Type B (Stand Alone PATS Module)\n",
      "PATS Type C (Instrument Cluster)\n",
      "PATS Type E (Powertrain Control Module)\n",
      "PATS Type B (Stand Alone PATS Module)\n",
      "PATS Type B (Stand Alone PATS Module)\n",
      "PATS Type C (Instrument Cluster)\n",
      "PATS Type B (Stand Alone PATS Module)\n",
      "PATS Type B (Stand Alone PATS Module)\n",
      "PATS Type C (Instrument Cluster)\n",
      "PATS Type C (Instrument Cluster)\n",
      "PATS Type E (Powertrain Control Module)\n",
      "PATS Type C (Instrument Cluster)\n",
      "PATS Type B (Stand Alone PATS Module)\n",
      "PATS Type E (Powertrain Control Module)\n",
      "PATS Type C (Instrument Cluster)\n",
      "PATS Type B (Stand Alone PATS Module)\n",
      "PATS Type E (Powertrain Control Module)\n",
      "PATS Type B (Stand Alone PATS Module)\n",
      "PATS Type C (Instrument Cluster)\n",
      "PATS Type B (Stand Alone PATS Module)\n",
      "Built July 23rd 2000 or Earlier: PATS Type B (Stand Alone PATS Module)\n",
      "Built July 24th 2000 or Later: PATS Type E (Powertrain Control Module)\n",
      "Built July 23rd 2000 or Earlier: PATS Type B (Stand Alone PATS Module)\n",
      "Built July 24th 2000 or Later: PATS Type E (Powertrain Control Module)\n",
      "PATS Type C (Instrument Cluster)\n",
      "PATS Type C (Instrument Cluster)\n",
      "PATS Type E (Powertrain Control Module)\n",
      "PATS Type C (Instrument Cluster)\n",
      "PATS Type E (Powertrain Control Module)\n",
      "PATS Type E (Powertrain Control Module)\n",
      "PATS Type E (Powertrain Control Module)\n",
      "PATS Type B (Stand Alone PATS Module)\n",
      "PATS Type E (Powertrain Control Module)\n",
      "PATS Type B (Stand Alone PATS Module)\n",
      "PATS Type C (Instrument Cluster)\n",
      "PATS Type E (Powertrain Control Module)\n",
      "PATS Type E (Powertrain Control Module)\n",
      "PATS Type E (Powertrain Control Module)\n",
      "PATS Type C (Instrument Cluster)\n",
      "PATS Type C (Instrument Cluster)\n",
      "PATS Type E (Powertrain Control Module)\n",
      "PATS Type C (Instrument Cluster)\n",
      "PATS Type E (Powertrain Control Module)\n",
      "PATS Type E (Powertrain Control Module)\n",
      "PATS Type C (Instrument Cluster)\n",
      "PATS Type E (Powertrain Control Module)\n",
      "PATS Type E (Powertrain Control Module)\n",
      "PATS Type E (Powertrain Control Module)\n",
      "PATS Type B (Stand Alone PATS Module)\n",
      "PATS Type E (Powertrain Control Module)\n",
      "PATS Type E (Powertrain Control Module)\n",
      "PATS Type E (Powertrain Control Module)\n",
      "PATS Type E (Powertrain Control Module)\n",
      "PATS Type C (Instrument Cluster)\n",
      "PATS Type C (Instrument Cluster)\n",
      "PATS Type E (Powertrain Control Module)\n",
      "PATS Type C (Instrument Cluster)\n",
      "PATS Type E (Powertrain Control Module)\n",
      "PATS Type E (Powertrain Control Module)\n",
      "PATS Type C (Instrument Cluster)\n",
      "PATS Type E (Powertrain Control Module)\n",
      "PATS Type E (Powertrain Control Module)\n",
      "PATS Type E (Powertrain Control Module)\n",
      "PATS Type B (Stand Alone PATS Module)\n",
      "PATS Type E (Powertrain Control Module)\n",
      "PATS Type E (Powertrain Control Module)\n",
      "PATS Type E (Powertrain Control Module)\n",
      "PATS Type E (Powertrain Control Module)\n",
      "PATS Type C (Instrument Cluster)\n",
      "PATS Type E (Powertrain Control Module)\n",
      "PATS Type E (Powertrain Control Module)\n",
      "PATS Type C (Instrument Cluster)\n",
      "PATS Type E (Powertrain Control Module)\n",
      "PATS Type E (Powertrain Control Module)\n",
      "PATS Type C (Instrument Cluster)\n",
      "PATS Type E (Powertrain Control Module)\n",
      "PATS Type E (Powertrain Control Module)\n",
      "PATS Type B (Stand Alone PATS Module)\n",
      "PATS Type E (Powertrain Control Module)\n",
      "PATS Type E (Powertrain Control Module)\n",
      "PATS Type E (Powertrain Control Module)\n",
      "PATS Type E (Powertrain Control Module)\n",
      "PATS Type C (Instrument Cluster)\n",
      "PATS Type E (Powertrain Control Module)\n",
      "PATS Type E (Powertrain Control Module)\n",
      "PATS Type E (Powertrain Control Module)\n",
      "PATS Type E (Powertrain Control Module)\n",
      "PATS Type B (Stand Alone PATS Module)\n",
      "PATS Type E (Powertrain Control Module)\n",
      "PATS Type NA (No PATS)\n",
      "PATS Type E (Powertrain Control Module)\n",
      "PATS Type C (Instrument Cluster)\n",
      "PATS Type E (Powertrain Control Module)\n",
      "PATS Type E (Powertrain Control Module)\n",
      "PATS Type F (Powertrain Control Module)\n",
      "PATS Type E (Powertrain Control Module)\n",
      "PATS Type C (Instrument Cluster)\n",
      "PATS Type E (Powertrain Control Module)\n",
      "PATS Type E (Powertrain Control Module)\n",
      "PATS Type C (Instrument Cluster)\n",
      "PATS Type E (Powertrain Control Module)\n",
      "PATS Type E (Powertrain Control Module)\n",
      "PATS Type E (Powertrain Control Module)\n",
      "PATS Type E (Powertrain Control Module)\n",
      "PATS Type C (Instrument Cluster)\n",
      "PATS Type B (Stand Alone PATS Module)\n",
      "PATS Type E (Powertrain Control Module)\n",
      "PATS Type C (Powertrain Control Module)\n",
      "PATS Type E (Powertrain Control Module)\n",
      "PATS Type C (Instrument Cluster)\n",
      "PATS Type E (Powertrain Control Module)\n",
      "PATS Type A (Instrument Cluster)\n",
      "PATS Type E (Powertrain Control Module)\n",
      "PATS Type F (Powertrain Control Module)\n",
      "PATS Type C (Instrument Cluster)\n",
      "PATS Type C (Instrument Cluster)\n",
      "PATS Type C (Instrument Cluster)\n",
      "PATS Type E (Powertrain Control Module)\n",
      "PATS Type E (Powertrain Control Module)\n",
      "PATS Type E (Powertrain Control Module)\n",
      "PATS Type E (Powertrain Control Module)\n",
      "PATS Type E (Powertrain Control Module)\n",
      "PATS Type E (Powertrain Control Module)\n",
      "PATS Type C (Instrument Cluster)\n",
      "PATS Type E (Powertrain Control Module)\n",
      "PATS Type G (Instrument Cluster)\n",
      "PATS Type E (Powertrain Control Module)\n",
      "PATS Type A (Instrument Cluster)\n",
      "Fleet Vehicles: PATS Type G (Instrument Cluster)\n",
      "Non-Fleet Vehicles: PATS Type C (Instrument Cluster)\n",
      "PATS Type C (Instrument Cluster)\n",
      "PATS Type C (Instrument Cluster)\n",
      "PATS Type C (Instrument Cluster)\n",
      "PATS Type E (Powertrain Control Module)\n",
      "PATS Type E (Powertrain Control Module)\n",
      "PATS Type G (Instrument Cluster)\n",
      "PATS Type C (Instrument Cluster)\n",
      "PATS Type C (Instrument Cluster)\n",
      "PATS Type C (Instrument Cluster)\n",
      "PATS Type E (Powertrain Control Module)\n",
      "PATS Type G (Instrument Cluster)\n",
      "PATS Type C (Instrument Cluster)\n",
      "PATS Type C (Instrument Cluster)\n",
      "PATS Type E (Powertrain Control Module)\n",
      "PATS Type A (Instrument Cluster)\n",
      "PATS Type C (Instrument Cluster)\n",
      "PATS Type C (Instrument Cluster)\n",
      "PATS Type C (Instrument Cluster)\n",
      "PATS Type C (Instrument Cluster)\n",
      "PATS Type C (Instrument Cluster)\n",
      "Fleet Vehicles: PATS Type G (Instrument Cluster)\n",
      "Non-Fleet Vehicles: PATS Type C (Instrument Cluster)\n",
      "PATS Type C (Instrument Cluster)\n",
      "PATS Type C (Instrument Cluster)\n",
      "PATS Type C (Instrument Cluster)\n",
      "PATS Type C (Instrument Cluster)\n",
      "PATS Type G (Instrument Cluster)\n",
      "PATS Type C (Instrument Cluster)\n",
      "PATS Type C (Instrument Cluster)\n",
      "PATS Type C (Instrument Cluster)\n",
      "PATS Type C (Instrument Cluster)\n",
      "PATS Type E (Powertrain Control Module)\n",
      "PATS Type G (Instrument Cluster)\n",
      "PATS Type C (Instrument Cluster)\n",
      "PATS Type C (Instrument Cluster)\n",
      "PATS Type E (Powertrain Control Module)\n",
      "PATS Type A (Instrument Cluster)\n",
      "PATS Type C (Instrument Cluster)\n",
      "PATS Type C (Instrument Cluster)\n",
      "PATS Type C (Instrument Cluster)\n",
      "Fleet Vehicles: PATS Type G (Instrument Cluster)\n",
      "Non-Fleet Vehicles: PATS Type C (Instrument Cluster)\n",
      "PATS Type C (Instrument Cluster)\n",
      "PATS Type C (Instrument Cluster)\n",
      "PATS Type C (Instrument Cluster)\n",
      "PATS Type C (Instrument Cluster)\n",
      "PATS Type G (Instrument Cluster)\n",
      "PATS Type C (Instrument Cluster)\n",
      "PATS Type C (Instrument Cluster)\n",
      "PATS Type C (Instrument Cluster)\n",
      "PATS Type C (Instrument Cluster)\n",
      "PATS Type C (Instrument Cluster)\n",
      "PATS Type C (Instrument Cluster)\n",
      "PATS Type G (Instrument Cluster)\n",
      "Keyed Ignition: PATS Type C (Instrument Cluster)\n",
      "Push To Start: PATS Type C (Remote Function Actuator / Keyless Vehicle Module)\n",
      "PATS Type A (Instrument Cluster)\n",
      "PATS Type E (Powertrain Control Module)\n",
      "PATS Type B (Body Control Module)\n",
      "PATS Type C (Remote Function Actuator / Keyless Vehicle Module)\n",
      "PATS Type C (Instrument Cluster)\n",
      "PATS Type C (Instrument Cluster)\n",
      "PATS Type C (Instrument Cluster)\n",
      "PATS Type A (Instrument Cluster)\n",
      "PATS Type C (Instrument Cluster)\n",
      "PATS Type B (Body Control Module)\n",
      "PATS Type B (Body Control Module)\n",
      "PATS Type B (Body Control Module)\n",
      "Keyed Ignition: PATS Type A (Instrument Cluster)\n",
      "Push To Start: PATS Type C (Remote Function Actuator / Keyless Vehicle Module)\n",
      "PATS Type C (Instrument Cluster)\n",
      "PATS Type C (Instrument Cluster)\n",
      "PATS Type C (Instrument Cluster)\n",
      "PATS Type C (Instrument Cluster)\n",
      "PATS Type C (Instrument Cluster)\n",
      "Keyed Ignition: PATS Type C (Instrument Cluster)\n",
      "Push To Start: PATS Type C (Remote Function Actuator / Keyless Vehicle Module)\n",
      "PATS Type A (Instrument Cluster)\n",
      "PATS Type E (Powertrain Control Module)\n",
      "PATS Type B (Body Control Module)\n",
      "PATS Type C (Remote Function Actuator / Keyless Vehicle Module)\n",
      "PATS Type C (Instrument Cluster)\n",
      "PATS Type C (Instrument Cluster)\n",
      "PATS Type C (Instrument Cluster)\n",
      "PATS Type A (Instrument Cluster)\n",
      "PATS Type C (Instrument Cluster)\n",
      "PATS Type B (Body Control Module)\n",
      "PATS Type B (Body Control Module)\n",
      "PATS Type B (Body Control Module)\n",
      "Keyed Ignition: PATS Type A (Instrument Cluster)\n",
      "Push To Start: PATS Type C (Remote Function Actuator / Keyless Vehicle Module)\n",
      "PATS Type C (Instrument Cluster)\n",
      "Keyed Ignition: PATS Type C (Instrument Cluster)\n",
      "Push To Start: PATS Type C (Remote Function Actuator / Keyless Vehicle Module)\n",
      "PATS Type C (Remote Function Actuator / Keyless Vehicle Module)\n",
      "PATS Type C (Instrument Cluster)\n",
      "PATS Type C (Instrument Cluster)\n",
      "PATS Type C (Instrument Cluster)\n",
      "Keyed Ignition: PATS Type C (Instrument Cluster)\n",
      "Push To Start: PATS Type C (Remote Function Actuator / Keyless Vehicle Module)\n",
      "PATS Type A (Instrument Cluster)\n",
      "PATS Type B (Body Control Module)\n",
      "PATS Type C (Remote Function Actuator / Keyless Vehicle Module)\n",
      "PATS Type B (Body Control Module)\n",
      "PATS Type C (Remote Function Actuator / Keyless Vehicle Module)\n",
      "PATS Type B (Body Control Module)\n",
      "PATS Type C (Remote Function Actuator / Keyless Vehicle Module)\n",
      "PATS Type A (Instrument Cluster)\n",
      "PATS Type C (Instrument Cluster)\n",
      "PATS Type B (Body Control Module)\n",
      "PATS Type B (Body Control Module)\n",
      "PATS Type B (Body Control Module)\n",
      "Keyed Ignition: PATS Type A (Instrument Cluster)\n",
      "Push To Start: PATS Type C (Remote Function Actuator / Keyless Vehicle Module)\n",
      "PATS Type B (Body Control Module)\n",
      "PATS Type C (Remote Function Actuator / Keyless Vehicle Module)\n",
      "Keyed Ignition: PATS Type C (Instrument Cluster)\n",
      "Push To Start: PATS Type C (Remote Function Actuator / Keyless Vehicle Module)\n",
      "PATS Type C (Remote Function Actuator / Keyless Vehicle Module)\n",
      "PATS Type B (Body Control Module)\n",
      "PATS Type B (Body Control Module)\n",
      "PATS Type B (Body Control Module)\n",
      "PATS Type C (Instrument Cluster)\n",
      "Keyed Ignition: PATS Type C (Instrument Cluster)\n",
      "Push To Start: PATS Type C (Remote Function Actuator / Keyless Vehicle Module)\n",
      "PATS Type A (Instrument Cluster)\n",
      "PATS Type B (Body Control Module)\n",
      "Stand Alone PATS Module)\n",
      "Built February 2nd or later: PATS Type E (Powertrain Control Module\n",
      "Year                                                                                                               2001\n",
      "Make                                                                                                               Ford\n",
      "Model                                                                                              Explorer Sport (2dr)\n",
      "ParameterReset                                                                                 Parameter Reset Required\n",
      "PATS Type                                                                 Built July 23rd 2000 or Earlier: PATS Type B \n",
      "PATS Module Location    Stand Alone PATS Module)\\nBuilt July 24th 2000 or Later: PATS Type E (Powertrain Control Module\n",
      "Name: 705, dtype: object\n",
      "Year                                                                                                               2001\n",
      "Make                                                                                                               Ford\n",
      "Model                                                                                               Explorer Sport Trac\n",
      "ParameterReset                                                                                 Parameter Reset Required\n",
      "PATS Type                                                                 Built July 23rd 2000 or Earlier: PATS Type B \n",
      "PATS Module Location    Stand Alone PATS Module)\\nBuilt July 24th 2000 or Later: PATS Type E (Powertrain Control Module\n",
      "Name: 706, dtype: object\n",
      "Year                                                                                        2008\n",
      "Make                                                                                        Ford\n",
      "Model                                                                                   E-Series\n",
      "ParameterReset                                                          Parameter Reset Required\n",
      "PATS Type                                                           Fleet Vehicles: PATS Type G \n",
      "PATS Module Location    Instrument Cluster)\\nNon-Fleet Vehicles: PATS Type C (Instrument Cluster\n",
      "Name: 2069, dtype: object\n",
      "Year                                                                                        2009\n",
      "Make                                                                                        Ford\n",
      "Model                                                                                   E-Series\n",
      "ParameterReset                                                          Parameter Reset Required\n",
      "PATS Type                                                           Fleet Vehicles: PATS Type G \n",
      "PATS Module Location    Instrument Cluster)\\nNon-Fleet Vehicles: PATS Type C (Instrument Cluster\n",
      "Name: 2316, dtype: object\n",
      "Year                                                                                        2010\n",
      "Make                                                                                        Ford\n",
      "Model                                                                                   E-Series\n",
      "ParameterReset                                                          Parameter Reset Required\n",
      "PATS Type                                                           Fleet Vehicles: PATS Type G \n",
      "PATS Module Location    Instrument Cluster)\\nNon-Fleet Vehicles: PATS Type C (Instrument Cluster\n",
      "Name: 2563, dtype: object\n",
      "Year                                                                                                                  2010\n",
      "Make                                                                                                                  Ford\n",
      "Model                                                                                                               Taurus\n",
      "ParameterReset                                                                                    Parameter Reset Required\n",
      "PATS Type                                                                                     Keyed Ignition: PATS Type C \n",
      "PATS Module Location    Instrument Cluster)\\nPush To Start: PATS Type C (Remote Function Actuator / Keyless Vehicle Module\n",
      "Name: 2576, dtype: object\n",
      "Year                                                                                                                  2011\n",
      "Make                                                                                                                  Ford\n",
      "Model                                                                                                               FIESTA\n",
      "ParameterReset                                                                                    Parameter Reset Required\n",
      "PATS Type                                                                                     Keyed Ignition: PATS Type A \n",
      "PATS Module Location    Instrument Cluster)\\nPush To Start: PATS Type C (Remote Function Actuator / Keyless Vehicle Module\n",
      "Name: 2806, dtype: object\n",
      "Year                                                                                                                  2011\n",
      "Make                                                                                                                  Ford\n",
      "Model                                                                                                               Taurus\n",
      "ParameterReset                                                                                    Parameter Reset Required\n",
      "PATS Type                                                                                     Keyed Ignition: PATS Type C \n",
      "PATS Module Location    Instrument Cluster)\\nPush To Start: PATS Type C (Remote Function Actuator / Keyless Vehicle Module\n",
      "Name: 2812, dtype: object\n",
      "Year                                                                                                                  2012\n",
      "Make                                                                                                                  Ford\n",
      "Model                                                                                                               FIESTA\n",
      "ParameterReset                                                                                    Parameter Reset Required\n",
      "PATS Type                                                                                     Keyed Ignition: PATS Type A \n",
      "PATS Module Location    Instrument Cluster)\\nPush To Start: PATS Type C (Remote Function Actuator / Keyless Vehicle Module\n",
      "Name: 3038, dtype: object\n",
      "Year                                                                                                                  2012\n",
      "Make                                                                                                                  Ford\n",
      "Model                                                                                                                Focus\n",
      "ParameterReset                                                                                    Parameter Reset Required\n",
      "PATS Type                                                                                     Keyed Ignition: PATS Type C \n",
      "PATS Module Location    Instrument Cluster)\\nPush To Start: PATS Type C (Remote Function Actuator / Keyless Vehicle Module\n",
      "Name: 3040, dtype: object\n",
      "Year                                                                                                                  2012\n",
      "Make                                                                                                                  Ford\n",
      "Model                                                                                                               Taurus\n",
      "ParameterReset                                                                                    Parameter Reset Required\n",
      "PATS Type                                                                                     Keyed Ignition: PATS Type C \n",
      "PATS Module Location    Instrument Cluster)\\nPush To Start: PATS Type C (Remote Function Actuator / Keyless Vehicle Module\n",
      "Name: 3045, dtype: object\n",
      "Year                                                                                                                  2013\n",
      "Make                                                                                                                  Ford\n",
      "Model                                                                                                               FIESTA\n",
      "ParameterReset                                                                                    Parameter Reset Required\n",
      "PATS Type                                                                                     Keyed Ignition: PATS Type A \n",
      "PATS Module Location    Instrument Cluster)\\nPush To Start: PATS Type C (Remote Function Actuator / Keyless Vehicle Module\n",
      "Name: 3271, dtype: object\n",
      "Year                                                                                                                  2013\n",
      "Make                                                                                                                  Ford\n",
      "Model                                                                                                                Focus\n",
      "ParameterReset                                                                                    Parameter Reset Required\n",
      "PATS Type                                                                                     Keyed Ignition: PATS Type C \n",
      "PATS Module Location    Instrument Cluster)\\nPush To Start: PATS Type C (Remote Function Actuator / Keyless Vehicle Module\n",
      "Name: 3274, dtype: object\n",
      "Year                                                                                                                  2013\n",
      "Make                                                                                                                  Ford\n",
      "Model                                                                                                               Taurus\n",
      "ParameterReset                                                                                    Parameter Reset Required\n",
      "PATS Type                                                                                     Keyed Ignition: PATS Type C \n",
      "PATS Module Location    Instrument Cluster)\\nPush To Start: PATS Type C (Remote Function Actuator / Keyless Vehicle Module\n",
      "Name: 3280, dtype: object\n",
      "Year                                                                                                                  2010\n",
      "Make                                                                                                                  Ford\n",
      "Model                                                                                                               Taurus\n",
      "ParameterReset                                                                                    Parameter Reset Required\n",
      "PATS Type                                                                                     Keyed Ignition: PATS Type C \n",
      "PATS Module Location    Instrument Cluster)\\nPush To Start: PATS Type C (Remote Function Actuator / Keyless Vehicle Module\n",
      "Name: 2576, dtype: object\n",
      "Year                                                                                                                  2011\n",
      "Make                                                                                                                  Ford\n",
      "Model                                                                                                               FIESTA\n",
      "ParameterReset                                                                                    Parameter Reset Required\n",
      "PATS Type                                                                                     Keyed Ignition: PATS Type A \n",
      "PATS Module Location    Instrument Cluster)\\nPush To Start: PATS Type C (Remote Function Actuator / Keyless Vehicle Module\n",
      "Name: 2806, dtype: object\n",
      "Year                                                                                                                  2011\n",
      "Make                                                                                                                  Ford\n",
      "Model                                                                                                               Taurus\n",
      "ParameterReset                                                                                    Parameter Reset Required\n",
      "PATS Type                                                                                     Keyed Ignition: PATS Type C \n",
      "PATS Module Location    Instrument Cluster)\\nPush To Start: PATS Type C (Remote Function Actuator / Keyless Vehicle Module\n",
      "Name: 2812, dtype: object\n",
      "Year                                                                                                                  2012\n",
      "Make                                                                                                                  Ford\n",
      "Model                                                                                                               FIESTA\n",
      "ParameterReset                                                                                    Parameter Reset Required\n",
      "PATS Type                                                                                     Keyed Ignition: PATS Type A \n",
      "PATS Module Location    Instrument Cluster)\\nPush To Start: PATS Type C (Remote Function Actuator / Keyless Vehicle Module\n",
      "Name: 3038, dtype: object\n",
      "Year                                                                                                                  2012\n",
      "Make                                                                                                                  Ford\n",
      "Model                                                                                                                Focus\n",
      "ParameterReset                                                                                    Parameter Reset Required\n",
      "PATS Type                                                                                     Keyed Ignition: PATS Type C \n",
      "PATS Module Location    Instrument Cluster)\\nPush To Start: PATS Type C (Remote Function Actuator / Keyless Vehicle Module\n",
      "Name: 3040, dtype: object\n",
      "Year                                                                                                                  2012\n",
      "Make                                                                                                                  Ford\n",
      "Model                                                                                                               Taurus\n",
      "ParameterReset                                                                                    Parameter Reset Required\n",
      "PATS Type                                                                                     Keyed Ignition: PATS Type C \n",
      "PATS Module Location    Instrument Cluster)\\nPush To Start: PATS Type C (Remote Function Actuator / Keyless Vehicle Module\n",
      "Name: 3045, dtype: object\n",
      "Year                                                                                                                  2013\n",
      "Make                                                                                                                  Ford\n",
      "Model                                                                                                               FIESTA\n",
      "ParameterReset                                                                                    Parameter Reset Required\n",
      "PATS Type                                                                                     Keyed Ignition: PATS Type A \n",
      "PATS Module Location    Instrument Cluster)\\nPush To Start: PATS Type C (Remote Function Actuator / Keyless Vehicle Module\n",
      "Name: 3271, dtype: object\n",
      "Year                                                                                                                  2013\n",
      "Make                                                                                                                  Ford\n",
      "Model                                                                                                                Focus\n",
      "ParameterReset                                                                                    Parameter Reset Required\n",
      "PATS Type                                                                                     Keyed Ignition: PATS Type C \n",
      "PATS Module Location    Instrument Cluster)\\nPush To Start: PATS Type C (Remote Function Actuator / Keyless Vehicle Module\n",
      "Name: 3274, dtype: object\n",
      "Year                                                                                                                  2013\n",
      "Make                                                                                                                  Ford\n",
      "Model                                                                                                               Taurus\n",
      "ParameterReset                                                                                    Parameter Reset Required\n",
      "PATS Type                                                                                     Keyed Ignition: PATS Type C \n",
      "PATS Module Location    Instrument Cluster)\\nPush To Start: PATS Type C (Remote Function Actuator / Keyless Vehicle Module\n",
      "Name: 3280, dtype: object\n",
      "Year                                                                                                                  2010\n",
      "Make                                                                                                                  Ford\n",
      "Model                                                                                                               Taurus\n",
      "ParameterReset                                                                                    Parameter Reset Required\n",
      "PATS Type                                                                                     Keyed Ignition: PATS Type C \n",
      "PATS Module Location    Instrument Cluster)\\nPush To Start: PATS Type C (Remote Function Actuator / Keyless Vehicle Module\n",
      "Name: 2576, dtype: object\n",
      "Year                                                                                                                  2011\n",
      "Make                                                                                                                  Ford\n",
      "Model                                                                                                               FIESTA\n",
      "ParameterReset                                                                                    Parameter Reset Required\n",
      "PATS Type                                                                                     Keyed Ignition: PATS Type A \n",
      "PATS Module Location    Instrument Cluster)\\nPush To Start: PATS Type C (Remote Function Actuator / Keyless Vehicle Module\n",
      "Name: 2806, dtype: object\n",
      "Year                                                                                                                  2011\n",
      "Make                                                                                                                  Ford\n",
      "Model                                                                                                               Taurus\n",
      "ParameterReset                                                                                    Parameter Reset Required\n",
      "PATS Type                                                                                     Keyed Ignition: PATS Type C \n",
      "PATS Module Location    Instrument Cluster)\\nPush To Start: PATS Type C (Remote Function Actuator / Keyless Vehicle Module\n",
      "Name: 2812, dtype: object\n",
      "Year                                                                                                                  2012\n",
      "Make                                                                                                                  Ford\n",
      "Model                                                                                                               FIESTA\n",
      "ParameterReset                                                                                    Parameter Reset Required\n",
      "PATS Type                                                                                     Keyed Ignition: PATS Type A \n",
      "PATS Module Location    Instrument Cluster)\\nPush To Start: PATS Type C (Remote Function Actuator / Keyless Vehicle Module\n",
      "Name: 3038, dtype: object\n",
      "Year                                                                                                                  2012\n",
      "Make                                                                                                                  Ford\n",
      "Model                                                                                                                Focus\n",
      "ParameterReset                                                                                    Parameter Reset Required\n",
      "PATS Type                                                                                     Keyed Ignition: PATS Type C \n",
      "PATS Module Location    Instrument Cluster)\\nPush To Start: PATS Type C (Remote Function Actuator / Keyless Vehicle Module\n",
      "Name: 3040, dtype: object\n",
      "Year                                                                                                                  2012\n",
      "Make                                                                                                                  Ford\n",
      "Model                                                                                                               Taurus\n",
      "ParameterReset                                                                                    Parameter Reset Required\n",
      "PATS Type                                                                                     Keyed Ignition: PATS Type C \n",
      "PATS Module Location    Instrument Cluster)\\nPush To Start: PATS Type C (Remote Function Actuator / Keyless Vehicle Module\n",
      "Name: 3045, dtype: object\n",
      "Year                                                                                                                  2013\n",
      "Make                                                                                                                  Ford\n",
      "Model                                                                                                               FIESTA\n",
      "ParameterReset                                                                                    Parameter Reset Required\n",
      "PATS Type                                                                                     Keyed Ignition: PATS Type A \n",
      "PATS Module Location    Instrument Cluster)\\nPush To Start: PATS Type C (Remote Function Actuator / Keyless Vehicle Module\n",
      "Name: 3271, dtype: object\n",
      "Year                                                                                                                  2013\n",
      "Make                                                                                                                  Ford\n",
      "Model                                                                                                                Focus\n",
      "ParameterReset                                                                                    Parameter Reset Required\n",
      "PATS Type                                                                                     Keyed Ignition: PATS Type C \n",
      "PATS Module Location    Instrument Cluster)\\nPush To Start: PATS Type C (Remote Function Actuator / Keyless Vehicle Module\n",
      "Name: 3274, dtype: object\n",
      "Year                                                                                                                  2013\n",
      "Make                                                                                                                  Ford\n",
      "Model                                                                                                               Taurus\n",
      "ParameterReset                                                                                    Parameter Reset Required\n",
      "PATS Type                                                                                     Keyed Ignition: PATS Type C \n",
      "PATS Module Location    Instrument Cluster)\\nPush To Start: PATS Type C (Remote Function Actuator / Keyless Vehicle Module\n",
      "Name: 3280, dtype: object\n",
      "[2576, 2806, 2812, 3038, 3040, 3045, 3271, 3274, 3280]\n",
      "Year                                                                                                                  2009\n",
      "Make                                                                                                               Lincoln\n",
      "Model                                                                                                                  MKS\n",
      "ParameterReset                                                                                    Parameter Reset Required\n",
      "PATS Type                                                                                     Keyed Ignition: PATS Type C \n",
      "PATS Module Location    Instrument Cluster)\\nPush To Start: PATS Type C (Remote Function Actuator / Keyless Vehicle Module\n",
      "Name: 2384, dtype: object\n",
      "Year                                                                                                                  2010\n",
      "Make                                                                                                               Lincoln\n",
      "Model                                                                                                                  MKS\n",
      "ParameterReset                                                                                    Parameter Reset Required\n",
      "PATS Type                                                                                     Keyed Ignition: PATS Type C \n",
      "PATS Module Location    Instrument Cluster)\\nPush To Start: PATS Type C (Remote Function Actuator / Keyless Vehicle Module\n",
      "Name: 2630, dtype: object\n",
      "Year                                                                                                                  2011\n",
      "Make                                                                                                               Lincoln\n",
      "Model                                                                                                                  MKS\n",
      "ParameterReset                                                                                    Parameter Reset Required\n",
      "PATS Type                                                                                     Keyed Ignition: PATS Type C \n",
      "PATS Module Location    Instrument Cluster)\\nPush To Start: PATS Type C (Remote Function Actuator / Keyless Vehicle Module\n",
      "Name: 2862, dtype: object\n",
      "Year                                                                                                                  2012\n",
      "Make                                                                                                               Lincoln\n",
      "Model                                                                                                                  MKS\n",
      "ParameterReset                                                                                    Parameter Reset Required\n",
      "PATS Type                                                                                     Keyed Ignition: PATS Type C \n",
      "PATS Module Location    Instrument Cluster)\\nPush To Start: PATS Type C (Remote Function Actuator / Keyless Vehicle Module\n",
      "Name: 3098, dtype: object\n",
      "2384\n",
      "2630\n",
      "2862\n",
      "3098\n"
     ]
    },
    {
     "name": "stderr",
     "output_type": "stream",
     "text": [
      "C:\\Users\\Weverson Barbieri\\AppData\\Local\\Temp\\ipykernel_11404\\3384685316.py:2: SettingWithCopyWarning: \n",
      "A value is trying to be set on a copy of a slice from a DataFrame.\n",
      "Try using .loc[row_indexer,col_indexer] = value instead\n",
      "\n",
      "See the caveats in the documentation: https://pandas.pydata.org/pandas-docs/stable/user_guide/indexing.html#returning-a-view-versus-a-copy\n",
      "  df_ford[['PATS Type', 'PATS Module Location']] = df_ford['Security'].str.split('(', n=1, expand=True)\n",
      "C:\\Users\\Weverson Barbieri\\AppData\\Local\\Temp\\ipykernel_11404\\3384685316.py:2: SettingWithCopyWarning: \n",
      "A value is trying to be set on a copy of a slice from a DataFrame.\n",
      "Try using .loc[row_indexer,col_indexer] = value instead\n",
      "\n",
      "See the caveats in the documentation: https://pandas.pydata.org/pandas-docs/stable/user_guide/indexing.html#returning-a-view-versus-a-copy\n",
      "  df_ford[['PATS Type', 'PATS Module Location']] = df_ford['Security'].str.split('(', n=1, expand=True)\n",
      "C:\\Users\\Weverson Barbieri\\AppData\\Local\\Temp\\ipykernel_11404\\370588408.py:2: SettingWithCopyWarning: \n",
      "A value is trying to be set on a copy of a slice from a DataFrame.\n",
      "Try using .loc[row_indexer,col_indexer] = value instead\n",
      "\n",
      "See the caveats in the documentation: https://pandas.pydata.org/pandas-docs/stable/user_guide/indexing.html#returning-a-view-versus-a-copy\n",
      "  df_ford['PATS Module Location'] = df_ford['PATS Module Location'].str.strip(')')\n",
      "C:\\Users\\Weverson Barbieri\\AppData\\Local\\Temp\\ipykernel_11404\\2886703368.py:2: SettingWithCopyWarning: \n",
      "A value is trying to be set on a copy of a slice from a DataFrame.\n",
      "Try using .loc[row_indexer,col_indexer] = value instead\n",
      "\n",
      "See the caveats in the documentation: https://pandas.pydata.org/pandas-docs/stable/user_guide/indexing.html#returning-a-view-versus-a-copy\n",
      "  df_lincoln[['PATS Type', 'PATS Module Location']] = df_lincoln['Security'].str.split('(', n=1, expand=True)\n",
      "C:\\Users\\Weverson Barbieri\\AppData\\Local\\Temp\\ipykernel_11404\\2886703368.py:2: SettingWithCopyWarning: \n",
      "A value is trying to be set on a copy of a slice from a DataFrame.\n",
      "Try using .loc[row_indexer,col_indexer] = value instead\n",
      "\n",
      "See the caveats in the documentation: https://pandas.pydata.org/pandas-docs/stable/user_guide/indexing.html#returning-a-view-versus-a-copy\n",
      "  df_lincoln[['PATS Type', 'PATS Module Location']] = df_lincoln['Security'].str.split('(', n=1, expand=True)\n",
      "C:\\Users\\Weverson Barbieri\\AppData\\Local\\Temp\\ipykernel_11404\\3965777578.py:2: SettingWithCopyWarning: \n",
      "A value is trying to be set on a copy of a slice from a DataFrame.\n",
      "Try using .loc[row_indexer,col_indexer] = value instead\n",
      "\n",
      "See the caveats in the documentation: https://pandas.pydata.org/pandas-docs/stable/user_guide/indexing.html#returning-a-view-versus-a-copy\n",
      "  df_mercury[['PATS Type', 'PATS Module Location']] = df_mercury['Security'].str.split('(', n=1, expand=True)\n",
      "C:\\Users\\Weverson Barbieri\\AppData\\Local\\Temp\\ipykernel_11404\\3965777578.py:2: SettingWithCopyWarning: \n",
      "A value is trying to be set on a copy of a slice from a DataFrame.\n",
      "Try using .loc[row_indexer,col_indexer] = value instead\n",
      "\n",
      "See the caveats in the documentation: https://pandas.pydata.org/pandas-docs/stable/user_guide/indexing.html#returning-a-view-versus-a-copy\n",
      "  df_mercury[['PATS Type', 'PATS Module Location']] = df_mercury['Security'].str.split('(', n=1, expand=True)\n",
      "C:\\Users\\Weverson Barbieri\\AppData\\Local\\Temp\\ipykernel_11404\\4086986821.py:2: SettingWithCopyWarning: \n",
      "A value is trying to be set on a copy of a slice from a DataFrame.\n",
      "Try using .loc[row_indexer,col_indexer] = value instead\n",
      "\n",
      "See the caveats in the documentation: https://pandas.pydata.org/pandas-docs/stable/user_guide/indexing.html#returning-a-view-versus-a-copy\n",
      "  df_mercury['PATS Module Location'] = df_mercury['PATS Module Location'].str.strip(')')\n",
      "<>:2: SyntaxWarning: invalid escape sequence '\\L'\n",
      "C:\\Users\\Weverson Barbieri\\AppData\\Local\\Temp\\ipykernel_11404\\394097893.py:2: SyntaxWarning: invalid escape sequence '\\L'\n",
      "  df_chevrolet = pd.read_excel('C:\\Language_Projects\\Language_Projects\\Python\\Flagship_1\\Immo_Assistant.app\\data\\chevrolet_hardware_list.xlsx')\n",
      "<>:2: SyntaxWarning: invalid escape sequence '\\L'\n",
      "C:\\Users\\Weverson Barbieri\\AppData\\Local\\Temp\\ipykernel_11404\\1625161208.py:2: SyntaxWarning: invalid escape sequence '\\L'\n",
      "  list_clonable_modules = pd.read_excel('C:\\Language_Projects\\Language_Projects\\Python\\Flagship_1\\Immo_Assistant.app\\data\\List of Clonable Modules.xlsx')\n"
     ]
    },
    {
     "name": "stdout",
     "output_type": "stream",
     "text": [
      "Year: 2005\n",
      "Make: Cadillac\n",
      "Model: CTS\n",
      "Security: PK3+\n",
      "Hardware Part Number: U44G-G45\n",
      "Is this hardware clonable?: No\n"
     ]
    },
    {
     "name": "stderr",
     "output_type": "stream",
     "text": [
      "<>:3: SyntaxWarning: invalid escape sequence '\\L'\n",
      "<>:4: SyntaxWarning: invalid escape sequence '\\L'\n",
      "<>:5: SyntaxWarning: invalid escape sequence '\\L'\n",
      "<>:6: SyntaxWarning: invalid escape sequence '\\L'\n",
      "<>:7: SyntaxWarning: invalid escape sequence '\\L'\n",
      "<>:8: SyntaxWarning: invalid escape sequence '\\L'\n",
      "<>:9: SyntaxWarning: invalid escape sequence '\\L'\n",
      "<>:10: SyntaxWarning: invalid escape sequence '\\L'\n",
      "<>:11: SyntaxWarning: invalid escape sequence '\\L'\n",
      "<>:12: SyntaxWarning: invalid escape sequence '\\L'\n",
      "<>:13: SyntaxWarning: invalid escape sequence '\\L'\n",
      "<>:14: SyntaxWarning: invalid escape sequence '\\L'\n",
      "C:\\Users\\Weverson Barbieri\\AppData\\Local\\Temp\\ipykernel_11404\\3684713339.py:3: SyntaxWarning: invalid escape sequence '\\L'\n",
      "  df_ford_new.to_excel('C:\\Language_Projects\\Language_Projects\\Python\\Flagship_1\\Immo_Assistant.app\\dataframe_each_make_xlsx_file\\df_ford_new.xlsx')\n",
      "C:\\Users\\Weverson Barbieri\\AppData\\Local\\Temp\\ipykernel_11404\\3684713339.py:4: SyntaxWarning: invalid escape sequence '\\L'\n",
      "  df_lincoln_updated.to_excel('C:\\Language_Projects\\Language_Projects\\Python\\Flagship_1\\Immo_Assistant.app\\dataframe_each_make_xlsx_file\\df_lincoln_updated.xlsx')\n",
      "C:\\Users\\Weverson Barbieri\\AppData\\Local\\Temp\\ipykernel_11404\\3684713339.py:5: SyntaxWarning: invalid escape sequence '\\L'\n",
      "  df_mercury_updated.to_excel('C:\\Language_Projects\\Language_Projects\\Python\\Flagship_1\\Immo_Assistant.app\\dataframe_each_make_xlsx_file\\df_mercury_updated.xlsx')\n",
      "C:\\Users\\Weverson Barbieri\\AppData\\Local\\Temp\\ipykernel_11404\\3684713339.py:6: SyntaxWarning: invalid escape sequence '\\L'\n",
      "  df_mazda_updated.to_excel('C:\\Language_Projects\\Language_Projects\\Python\\Flagship_1\\Immo_Assistant.app\\dataframe_each_make_xlsx_file\\df_mazda_updated.xlsx')\n",
      "C:\\Users\\Weverson Barbieri\\AppData\\Local\\Temp\\ipykernel_11404\\3684713339.py:7: SyntaxWarning: invalid escape sequence '\\L'\n",
      "  df_chevy_filtered.to_excel('C:\\Language_Projects\\Language_Projects\\Python\\Flagship_1\\Immo_Assistant.app\\dataframe_each_make_xlsx_file\\df_chevy_filtered.xlsx')\n",
      "C:\\Users\\Weverson Barbieri\\AppData\\Local\\Temp\\ipykernel_11404\\3684713339.py:8: SyntaxWarning: invalid escape sequence '\\L'\n",
      "  df_pontiac.to_excel('C:\\Language_Projects\\Language_Projects\\Python\\Flagship_1\\Immo_Assistant.app\\dataframe_each_make_xlsx_file\\df_pontiac.xlsx')\n",
      "C:\\Users\\Weverson Barbieri\\AppData\\Local\\Temp\\ipykernel_11404\\3684713339.py:9: SyntaxWarning: invalid escape sequence '\\L'\n",
      "  df_cadillac.to_excel('C:\\Language_Projects\\Language_Projects\\Python\\Flagship_1\\Immo_Assistant.app\\dataframe_each_make_xlsx_file\\df_cadillac.xlsx')\n",
      "C:\\Users\\Weverson Barbieri\\AppData\\Local\\Temp\\ipykernel_11404\\3684713339.py:10: SyntaxWarning: invalid escape sequence '\\L'\n",
      "  df_buick.to_excel('C:\\Language_Projects\\Language_Projects\\Python\\Flagship_1\\Immo_Assistant.app\\dataframe_each_make_xlsx_file\\df_buick.xlsx')\n",
      "C:\\Users\\Weverson Barbieri\\AppData\\Local\\Temp\\ipykernel_11404\\3684713339.py:11: SyntaxWarning: invalid escape sequence '\\L'\n",
      "  df_oldsmobile.to_excel('C:\\Language_Projects\\Language_Projects\\Python\\Flagship_1\\Immo_Assistant.app\\dataframe_each_make_xlsx_file\\df_oldsmobile.xlsx')\n",
      "C:\\Users\\Weverson Barbieri\\AppData\\Local\\Temp\\ipykernel_11404\\3684713339.py:12: SyntaxWarning: invalid escape sequence '\\L'\n",
      "  df_gmc.to_excel('C:\\Language_Projects\\Language_Projects\\Python\\Flagship_1\\Immo_Assistant.app\\dataframe_each_make_xlsx_file\\df_gmc.xlsx')\n",
      "C:\\Users\\Weverson Barbieri\\AppData\\Local\\Temp\\ipykernel_11404\\3684713339.py:13: SyntaxWarning: invalid escape sequence '\\L'\n",
      "  df_saturn.to_excel('C:\\Language_Projects\\Language_Projects\\Python\\Flagship_1\\Immo_Assistant.app\\dataframe_each_make_xlsx_file\\df_saturn.xlsx')\n",
      "C:\\Users\\Weverson Barbieri\\AppData\\Local\\Temp\\ipykernel_11404\\3684713339.py:14: SyntaxWarning: invalid escape sequence '\\L'\n",
      "  df_hummer.to_excel('C:\\Language_Projects\\Language_Projects\\Python\\Flagship_1\\Immo_Assistant.app\\dataframe_each_make_xlsx_file\\df_hummer.xlsx')\n"
     ]
    },
    {
     "name": "stdout",
     "output_type": "stream",
     "text": [
      "['Acura', 'Honda', 'BMW', 'Lexus', 'Toyota', 'Chrysler', 'Dodge', 'Infiniti', 'Jaguar', 'Nissan', 'Plymouth', 'Jeep', 'Audi', 'Mitsubishi', 'Volkswagen', 'Land Rover', 'Mini', 'Rolls-Royce', 'Scion', 'Subaru', 'Fiat']\n",
      "['Acura', 'Honda', 'BMW', 'Lexus', 'Toyota', 'Chrysler', 'Dodge', 'Infiniti', 'Jaguar', 'Nissan', 'Plymouth', 'Jeep', 'Audi', 'Mitsubishi', 'Volkswagen', 'Land Rover', 'Mini', 'Rolls-Royce', 'Scion', 'Subaru', 'Fiat']\n"
     ]
    },
    {
     "name": "stderr",
     "output_type": "stream",
     "text": [
      "C:\\Users\\Weverson Barbieri\\AppData\\Local\\Temp\\ipykernel_11404\\3767471067.py:1: FutureWarning: Passing bytes to 'read_excel' is deprecated and will be removed in a future version. To read from a byte string, wrap it in a `BytesIO` object.\n",
      "  pkl_file = pd.read_excel(get_content)\n"
     ]
    }
   ],
   "source": [
    "# Import all data from the main notebook\n",
    "%run Immo_Assistant.app.ipynb"
   ]
  },
  {
   "cell_type": "code",
   "execution_count": 3,
   "metadata": {},
   "outputs": [
    {
     "name": "stdout",
     "output_type": "stream",
     "text": [
      "['Acura', 'Honda', 'BMW', 'Lexus', 'Toyota', 'Chrysler', 'Dodge', 'Infiniti', 'Jaguar', 'Nissan', 'Plymouth', 'Jeep', 'Audi', 'Mitsubishi', 'Volkswagen', 'Land Rover', 'Mini', 'Rolls-Royce', 'Scion', 'Subaru', 'Fiat']\n"
     ]
    }
   ],
   "source": [
    "# Print the check list to see what is the next dataframe needs to be created\n",
    "print(make_to_be_done)"
   ]
  },
  {
   "cell_type": "code",
   "execution_count": 4,
   "metadata": {},
   "outputs": [],
   "source": [
    "# Create the Infiniti's dataframe\n",
    "df_infiniti = create_make_df('Infiniti')"
   ]
  },
  {
   "cell_type": "code",
   "execution_count": 5,
   "metadata": {},
   "outputs": [
    {
     "name": "stdout",
     "output_type": "stream",
     "text": [
      "<class 'pandas.core.frame.DataFrame'>\n",
      "Index: 87 entries, 256 to 3304\n",
      "Data columns (total 5 columns):\n",
      " #   Column          Non-Null Count  Dtype \n",
      "---  ------          --------------  ----- \n",
      " 0   Year            87 non-null     int64 \n",
      " 1   Make            87 non-null     object\n",
      " 2   Model           87 non-null     string\n",
      " 3   Security        83 non-null     object\n",
      " 4   ParameterReset  0 non-null      object\n",
      "dtypes: int64(1), object(3), string(1)\n",
      "memory usage: 4.1+ KB\n"
     ]
    }
   ],
   "source": [
    "# Check how the df is\n",
    "df_infiniti.info()"
   ]
  },
  {
   "cell_type": "code",
   "execution_count": 6,
   "metadata": {},
   "outputs": [],
   "source": [
    "# Create a list w/ strings from the column 'Model'\n",
    "infiniti_model_column = strings_from_column(df_infiniti, 'Model')"
   ]
  },
  {
   "cell_type": "code",
   "execution_count": 7,
   "metadata": {},
   "outputs": [
    {
     "name": "stdout",
     "output_type": "stream",
     "text": [
      "{'M45', 'G35 Sedan', 'FX35/45/50', 'QX56', 'M37/56', 'Q45', 'QX4', 'G25 Sedan', 'I35', 'I30', 'G35 Coupe', 'EX', 'G20', 'G37/Coupe/Sedan', 'JX', 'M45/35'}\n"
     ]
    }
   ],
   "source": [
    "# Print the list to be analysed and check if changes need to be done\n",
    "print(infiniti_model_column)"
   ]
  },
  {
   "cell_type": "markdown",
   "metadata": {},
   "source": [
    "CHANGES NEEDED:\n",
    "- The string 'FX35/45/50' represents diffetent models at the same row. They should be: FX35, FX45, FX50 separated at different lines\n",
    "- The same principle to models 'M37/56' (should be M37, M56) and 'M45/35' (should be M45, M35)"
   ]
  },
  {
   "cell_type": "code",
   "execution_count": 8,
   "metadata": {},
   "outputs": [],
   "source": [
    "# Create a list models 'FX35/45/50'\n",
    "infiniti_models_to_change_first = []\n",
    "\n",
    "# Look to get all models FX35/45/50 and store them in the above list\n",
    "for index, row in df_infiniti.iterrows():\n",
    "    if 'FX35/45/50' in row['Model']:\n",
    "        infiniti_models_to_change_first.append(row)"
   ]
  },
  {
   "cell_type": "code",
   "execution_count": 9,
   "metadata": {},
   "outputs": [],
   "source": [
    "# Create from dataframe w/ models to change list\n",
    "df_infiniti_models_to_change_first = pd.DataFrame(infiniti_models_to_change_first)"
   ]
  },
  {
   "cell_type": "code",
   "execution_count": 10,
   "metadata": {},
   "outputs": [
    {
     "data": {
      "text/html": [
       "<div>\n",
       "<style scoped>\n",
       "    .dataframe tbody tr th:only-of-type {\n",
       "        vertical-align: middle;\n",
       "    }\n",
       "\n",
       "    .dataframe tbody tr th {\n",
       "        vertical-align: top;\n",
       "    }\n",
       "\n",
       "    .dataframe thead th {\n",
       "        text-align: right;\n",
       "    }\n",
       "</style>\n",
       "<table border=\"1\" class=\"dataframe\">\n",
       "  <thead>\n",
       "    <tr style=\"text-align: right;\">\n",
       "      <th></th>\n",
       "      <th>Year</th>\n",
       "      <th>Make</th>\n",
       "      <th>Model</th>\n",
       "      <th>Security</th>\n",
       "      <th>ParameterReset</th>\n",
       "    </tr>\n",
       "  </thead>\n",
       "  <tbody>\n",
       "    <tr>\n",
       "      <th>1064</th>\n",
       "      <td>2003</td>\n",
       "      <td>Infiniti</td>\n",
       "      <td>FX35/45/50</td>\n",
       "      <td>Std</td>\n",
       "      <td>NaN</td>\n",
       "    </tr>\n",
       "    <tr>\n",
       "      <th>1254</th>\n",
       "      <td>2004</td>\n",
       "      <td>Infiniti</td>\n",
       "      <td>FX35/45/50</td>\n",
       "      <td>Std</td>\n",
       "      <td>NaN</td>\n",
       "    </tr>\n",
       "    <tr>\n",
       "      <th>1453</th>\n",
       "      <td>2005</td>\n",
       "      <td>Infiniti</td>\n",
       "      <td>FX35/45/50</td>\n",
       "      <td>Std, I.K.C.\\nOptional</td>\n",
       "      <td>NaN</td>\n",
       "    </tr>\n",
       "    <tr>\n",
       "      <th>1641</th>\n",
       "      <td>2006</td>\n",
       "      <td>Infiniti</td>\n",
       "      <td>FX35/45/50</td>\n",
       "      <td>Std, I.K.C.\\nOptional</td>\n",
       "      <td>NaN</td>\n",
       "    </tr>\n",
       "    <tr>\n",
       "      <th>1860</th>\n",
       "      <td>2007</td>\n",
       "      <td>Infiniti</td>\n",
       "      <td>FX35/45/50</td>\n",
       "      <td>Std, I.K.C.\\nOptional</td>\n",
       "      <td>NaN</td>\n",
       "    </tr>\n",
       "    <tr>\n",
       "      <th>2103</th>\n",
       "      <td>2008</td>\n",
       "      <td>Infiniti</td>\n",
       "      <td>FX35/45/50</td>\n",
       "      <td>Std, I.K.C.\\nOptional</td>\n",
       "      <td>NaN</td>\n",
       "    </tr>\n",
       "    <tr>\n",
       "      <th>2352</th>\n",
       "      <td>2009</td>\n",
       "      <td>Infiniti</td>\n",
       "      <td>FX35/45/50</td>\n",
       "      <td>Std, I.K.C.\\nOptional</td>\n",
       "      <td>NaN</td>\n",
       "    </tr>\n",
       "    <tr>\n",
       "      <th>2600</th>\n",
       "      <td>2010</td>\n",
       "      <td>Infiniti</td>\n",
       "      <td>FX35/45/50</td>\n",
       "      <td>Std, I.K.C.\\nOptional</td>\n",
       "      <td>NaN</td>\n",
       "    </tr>\n",
       "    <tr>\n",
       "      <th>2834</th>\n",
       "      <td>2011</td>\n",
       "      <td>Infiniti</td>\n",
       "      <td>FX35/45/50</td>\n",
       "      <td>Std, I.K.C.\\nOptional</td>\n",
       "      <td>NaN</td>\n",
       "    </tr>\n",
       "    <tr>\n",
       "      <th>3065</th>\n",
       "      <td>2012</td>\n",
       "      <td>Infiniti</td>\n",
       "      <td>FX35/45/50</td>\n",
       "      <td>Std, I.K.C.\\nOptional</td>\n",
       "      <td>NaN</td>\n",
       "    </tr>\n",
       "    <tr>\n",
       "      <th>3300</th>\n",
       "      <td>2013</td>\n",
       "      <td>Infiniti</td>\n",
       "      <td>FX35/45/50</td>\n",
       "      <td>Std, I.K.C.\\nOptional</td>\n",
       "      <td>NaN</td>\n",
       "    </tr>\n",
       "  </tbody>\n",
       "</table>\n",
       "</div>"
      ],
      "text/plain": [
       "      Year      Make       Model               Security  ParameterReset\n",
       "1064  2003  Infiniti  FX35/45/50                    Std             NaN\n",
       "1254  2004  Infiniti  FX35/45/50                    Std             NaN\n",
       "1453  2005  Infiniti  FX35/45/50  Std, I.K.C.\\nOptional             NaN\n",
       "1641  2006  Infiniti  FX35/45/50  Std, I.K.C.\\nOptional             NaN\n",
       "1860  2007  Infiniti  FX35/45/50  Std, I.K.C.\\nOptional             NaN\n",
       "2103  2008  Infiniti  FX35/45/50  Std, I.K.C.\\nOptional             NaN\n",
       "2352  2009  Infiniti  FX35/45/50  Std, I.K.C.\\nOptional             NaN\n",
       "2600  2010  Infiniti  FX35/45/50  Std, I.K.C.\\nOptional             NaN\n",
       "2834  2011  Infiniti  FX35/45/50  Std, I.K.C.\\nOptional             NaN\n",
       "3065  2012  Infiniti  FX35/45/50  Std, I.K.C.\\nOptional             NaN\n",
       "3300  2013  Infiniti  FX35/45/50  Std, I.K.C.\\nOptional             NaN"
      ]
     },
     "execution_count": 10,
     "metadata": {},
     "output_type": "execute_result"
    }
   ],
   "source": [
    "# Print the df\n",
    "df_infiniti_models_to_change_first"
   ]
  },
  {
   "cell_type": "code",
   "execution_count": 11,
   "metadata": {},
   "outputs": [],
   "source": [
    "# Split the above models, using the caractere '/' as the demiliter \n",
    "df_infiniti_change_model_first = df_infiniti_models_to_change_first.assign(Model=df_infiniti_models_to_change_first['Model'].str.split('/')).explode('Model')"
   ]
  },
  {
   "cell_type": "code",
   "execution_count": 12,
   "metadata": {},
   "outputs": [],
   "source": [
    "# Create a list w/ the model after aplitting and check which changes needs to be done\n",
    "fx_model_list = strings_from_column(df_infiniti_change_model_first, 'Model')"
   ]
  },
  {
   "cell_type": "code",
   "execution_count": 13,
   "metadata": {},
   "outputs": [
    {
     "data": {
      "text/plain": [
       "{'45', '50', 'FX35'}"
      ]
     },
     "execution_count": 13,
     "metadata": {},
     "output_type": "execute_result"
    }
   ],
   "source": [
    "# Print the list\n",
    "fx_model_list"
   ]
  },
  {
   "cell_type": "code",
   "execution_count": 14,
   "metadata": {},
   "outputs": [],
   "source": [
    "# Add the prefix FX to models 45 and 50\n",
    "df_infiniti_change_model_first['Model'] = df_infiniti_change_model_first['Model'].str.replace('45', 'FX45', regex=True).str.replace('50', 'FX50', regex=True) "
   ]
  },
  {
   "cell_type": "code",
   "execution_count": 15,
   "metadata": {},
   "outputs": [],
   "source": [
    "# Update the fx_model_list to confirm the model changes\n",
    "fx_model_list = strings_from_column(df_infiniti_change_model_first, 'Model')"
   ]
  },
  {
   "cell_type": "code",
   "execution_count": 16,
   "metadata": {},
   "outputs": [
    {
     "data": {
      "text/plain": [
       "{'FX35', 'FX45', 'FX50'}"
      ]
     },
     "execution_count": 16,
     "metadata": {},
     "output_type": "execute_result"
    }
   ],
   "source": [
    "# Print the list\n",
    "fx_model_list"
   ]
  },
  {
   "cell_type": "code",
   "execution_count": 17,
   "metadata": {},
   "outputs": [],
   "source": [
    "# Create a list w/ model 'M37/56' and 'M45/35'\n",
    "infiniti_m_model_list = []\n",
    "\n",
    "# Loop to get all models 'M37/56' and store in the above list\n",
    "for index, row in df_infiniti.iterrows():\n",
    "    if 'M37/56' in row['Model'] or 'M45/35' in row['Model']:\n",
    "        infiniti_m_model_list.append(row)\n",
    "\n",
    "# Create a df containing only the model 'M37/56'\n",
    "df_infiniti_m_model = pd.DataFrame(infiniti_m_model_list)"
   ]
  },
  {
   "cell_type": "code",
   "execution_count": 18,
   "metadata": {},
   "outputs": [],
   "source": [
    "# Split the model 'M37/56' and 'M45/35' in 2 lines\n",
    "df_infiniti_m_model_splitted = df_infiniti_m_model.assign(Model=df_infiniti_m_model['Model'].str.split('/')).explode('Model')"
   ]
  },
  {
   "cell_type": "code",
   "execution_count": 19,
   "metadata": {},
   "outputs": [],
   "source": [
    "# Create a list showing the models after splitting\n",
    "m_model_list_changed = strings_from_column(df_infiniti_m_model_splitted, 'Model')"
   ]
  },
  {
   "cell_type": "code",
   "execution_count": 20,
   "metadata": {},
   "outputs": [
    {
     "data": {
      "text/plain": [
       "{'35', '56', 'M37', 'M45'}"
      ]
     },
     "execution_count": 20,
     "metadata": {},
     "output_type": "execute_result"
    }
   ],
   "source": [
    "# Print the list\n",
    "m_model_list_changed"
   ]
  },
  {
   "cell_type": "code",
   "execution_count": 21,
   "metadata": {},
   "outputs": [],
   "source": [
    "# Add the prefix 'M' to model 56\n",
    "df_infiniti_m_model_splitted['Model'] = df_infiniti_m_model_splitted['Model'].str.replace('56', 'M56', regex=True).str.replace('35', 'M35', regex=True)"
   ]
  },
  {
   "cell_type": "code",
   "execution_count": 22,
   "metadata": {},
   "outputs": [],
   "source": [
    "# Create a list after updating the models to confirm if the changes were made\n",
    "infiniti_m_model_updated_list = strings_from_column(df_infiniti_m_model_splitted, 'Model')"
   ]
  },
  {
   "cell_type": "code",
   "execution_count": 23,
   "metadata": {},
   "outputs": [
    {
     "data": {
      "text/plain": [
       "{'M35', 'M37', 'M45', 'M56'}"
      ]
     },
     "execution_count": 23,
     "metadata": {},
     "output_type": "execute_result"
    }
   ],
   "source": [
    "# Print the list w/ the models updated\n",
    "infiniti_m_model_updated_list"
   ]
  },
  {
   "cell_type": "code",
   "execution_count": 24,
   "metadata": {},
   "outputs": [],
   "source": [
    "# Concatenate the dataframes after updating the models to the main dataframe\n",
    "df_infiniti_models_updated = pd.concat([df_infiniti, df_infiniti_change_model_first, df_infiniti_m_model_splitted])"
   ]
  },
  {
   "cell_type": "code",
   "execution_count": 25,
   "metadata": {},
   "outputs": [],
   "source": [
    "# Reset the index\n",
    "df_infiniti_models_updated = df_infiniti_models_updated.reset_index(drop=True)"
   ]
  },
  {
   "cell_type": "code",
   "execution_count": 26,
   "metadata": {},
   "outputs": [],
   "source": [
    "# Create a list w/ models after updating\n",
    "infiniti_models_list_updated = strings_from_column(df_infiniti_models_updated, 'Model')"
   ]
  },
  {
   "cell_type": "code",
   "execution_count": 27,
   "metadata": {},
   "outputs": [
    {
     "name": "stdout",
     "output_type": "stream",
     "text": [
      "{'Q45', 'FX50', 'FX35', 'G37/Coupe/Sedan', 'M45', 'FX35/45/50', 'M56', 'I30', 'EX', 'G20', 'QX56', 'I35', 'G35 Coupe', 'M37', 'G25 Sedan', 'JX', 'G35 Sedan', 'M37/56', 'QX4', 'M35', 'FX45', 'M45/35'}\n"
     ]
    }
   ],
   "source": [
    "# Print the list\n",
    "print(infiniti_models_list_updated)"
   ]
  },
  {
   "cell_type": "code",
   "execution_count": 28,
   "metadata": {},
   "outputs": [],
   "source": [
    "# Create a list from indexes from models 'FX35/45/50', 'M37/56' and 'M45/35'\n",
    "fx_m_models_indexes_list = []\n",
    "\n",
    "# Loop to get indexes and store in the above list\n",
    "for index, row in df_infiniti_models_updated.iterrows():\n",
    "    if 'FX35/45/50' in row['Model'] or 'M37/56' in row['Model'] or 'M45/35' in row['Model']:\n",
    "        fx_m_models_indexes_list.append(index)"
   ]
  },
  {
   "cell_type": "code",
   "execution_count": 29,
   "metadata": {},
   "outputs": [
    {
     "name": "stdout",
     "output_type": "stream",
     "text": [
      "[21, 28, 36, 37, 42, 43, 48, 49, 53, 54, 58, 60, 63, 65, 68, 70, 73, 76, 79, 82, 85]\n"
     ]
    }
   ],
   "source": [
    "# Print the list\n",
    "print(fx_m_models_indexes_list)"
   ]
  },
  {
   "cell_type": "code",
   "execution_count": 30,
   "metadata": {},
   "outputs": [],
   "source": [
    "# Drop the indexes from the above list\n",
    "df_infiniti_updated = df_infiniti_models_updated.drop(index=fx_m_models_indexes_list)"
   ]
  },
  {
   "cell_type": "code",
   "execution_count": 31,
   "metadata": {},
   "outputs": [],
   "source": [
    "# Creata a list after updating model column\n",
    "infiniti_model_list_updated = strings_from_column(df_infiniti_updated, 'Model') "
   ]
  },
  {
   "cell_type": "code",
   "execution_count": 32,
   "metadata": {},
   "outputs": [
    {
     "data": {
      "text/plain": [
       "{'EX',\n",
       " 'FX35',\n",
       " 'FX45',\n",
       " 'FX50',\n",
       " 'G20',\n",
       " 'G25 Sedan',\n",
       " 'G35 Coupe',\n",
       " 'G35 Sedan',\n",
       " 'G37/Coupe/Sedan',\n",
       " 'I30',\n",
       " 'I35',\n",
       " 'JX',\n",
       " 'M35',\n",
       " 'M37',\n",
       " 'M45',\n",
       " 'M56',\n",
       " 'Q45',\n",
       " 'QX4',\n",
       " 'QX56'}"
      ]
     },
     "execution_count": 32,
     "metadata": {},
     "output_type": "execute_result"
    }
   ],
   "source": [
    "# Print the list\n",
    "infiniti_model_list_updated"
   ]
  },
  {
   "cell_type": "code",
   "execution_count": 33,
   "metadata": {},
   "outputs": [],
   "source": [
    "# Create a list w/ strings/values from column security\n",
    "infiniti_security_list = strings_from_column(df_infiniti_updated, 'Security')"
   ]
  },
  {
   "cell_type": "code",
   "execution_count": 34,
   "metadata": {},
   "outputs": [
    {
     "data": {
      "text/plain": [
       "{'Std',\n",
       " 'Std – E.K.F.',\n",
       " 'Std – E.K.F., \"I.K.C.\\nOptional\"',\n",
       " 'Std, I.K.C.\\nOptional',\n",
       " nan}"
      ]
     },
     "execution_count": 34,
     "metadata": {},
     "output_type": "execute_result"
    }
   ],
   "source": [
    "# Print the list\n",
    "infiniti_security_list"
   ]
  },
  {
   "cell_type": "markdown",
   "metadata": {},
   "source": [
    "CHANGES NEEDED:\n",
    "- Replace the charactere '\\n' by space ' '.\n",
    "- Fill out null values."
   ]
  },
  {
   "cell_type": "code",
   "execution_count": 35,
   "metadata": {},
   "outputs": [],
   "source": [
    "# Replace the charactere '\\n' by space ' '\n",
    "df_infiniti_updated['Security'] = df_infiniti_updated['Security'].str.replace('\\n', ' ', regex=True)"
   ]
  },
  {
   "cell_type": "code",
   "execution_count": 36,
   "metadata": {},
   "outputs": [
    {
     "name": "stderr",
     "output_type": "stream",
     "text": [
      "C:\\Users\\Weverson Barbieri\\AppData\\Local\\Temp\\ipykernel_11404\\2724326657.py:2: FutureWarning: A value is trying to be set on a copy of a DataFrame or Series through chained assignment using an inplace method.\n",
      "The behavior will change in pandas 3.0. This inplace method will never work because the intermediate object on which we are setting values always behaves as a copy.\n",
      "\n",
      "For example, when doing 'df[col].method(value, inplace=True)', try using 'df.method({col: value}, inplace=True)' or df[col] = df[col].method(value) instead, to perform the operation inplace on the original object.\n",
      "\n",
      "\n",
      "  df_infiniti_updated['Security'].fillna('Information not available', inplace=True)\n"
     ]
    }
   ],
   "source": [
    "# Fill out null values\n",
    "df_infiniti_updated['Security'].fillna('Information not available', inplace=True)"
   ]
  },
  {
   "cell_type": "code",
   "execution_count": 37,
   "metadata": {},
   "outputs": [],
   "source": [
    "# Drop column ParameterReset\n",
    "df_infiniti_dropped_column = df_infiniti_updated.drop(columns=['ParameterReset'])"
   ]
  },
  {
   "cell_type": "code",
   "execution_count": 38,
   "metadata": {},
   "outputs": [],
   "source": [
    "# Reset index\n",
    "df_infiniti_up_to_dated = df_infiniti_dropped_column.reset_index(drop=True)"
   ]
  },
  {
   "cell_type": "code",
   "execution_count": 39,
   "metadata": {},
   "outputs": [],
   "source": [
    "# Download the scion df to .pkl file format\n",
    "df_infiniti_up_to_dated.to_excel('df_infiniti_up_to_dated.xlsx')"
   ]
  }
 ],
 "metadata": {
  "kernelspec": {
   "display_name": "Python 3",
   "language": "python",
   "name": "python3"
  },
  "language_info": {
   "codemirror_mode": {
    "name": "ipython",
    "version": 3
   },
   "file_extension": ".py",
   "mimetype": "text/x-python",
   "name": "python",
   "nbconvert_exporter": "python",
   "pygments_lexer": "ipython3",
   "version": "3.12.2"
  }
 },
 "nbformat": 4,
 "nbformat_minor": 2
}
