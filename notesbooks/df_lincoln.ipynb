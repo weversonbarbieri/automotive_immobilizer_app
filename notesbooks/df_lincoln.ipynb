{
 "cells": [
  {
   "cell_type": "code",
   "execution_count": 1,
   "metadata": {},
   "outputs": [],
   "source": [
    "import pandas as pd"
   ]
  },
  {
   "cell_type": "code",
   "execution_count": 4,
   "metadata": {},
   "outputs": [],
   "source": [
    "# Filter only rows from make \"Lincoln\" to manipulate the data\n",
    "df_lincoln = df[df['Make'] == 'Lincoln']"
   ]
  },
  {
   "cell_type": "code",
   "execution_count": 5,
   "metadata": {},
   "outputs": [
    {
     "name": "stderr",
     "output_type": "stream",
     "text": [
      "C:\\Users\\Weverson Barbieri\\AppData\\Local\\Temp\\ipykernel_13836\\2886703368.py:2: SettingWithCopyWarning: \n",
      "A value is trying to be set on a copy of a slice from a DataFrame.\n",
      "Try using .loc[row_indexer,col_indexer] = value instead\n",
      "\n",
      "See the caveats in the documentation: https://pandas.pydata.org/pandas-docs/stable/user_guide/indexing.html#returning-a-view-versus-a-copy\n",
      "  df_lincoln[['PATS Type', 'PATS Module Location']] = df_lincoln['Security'].str.split('(', n=1, expand=True)\n",
      "C:\\Users\\Weverson Barbieri\\AppData\\Local\\Temp\\ipykernel_13836\\2886703368.py:2: SettingWithCopyWarning: \n",
      "A value is trying to be set on a copy of a slice from a DataFrame.\n",
      "Try using .loc[row_indexer,col_indexer] = value instead\n",
      "\n",
      "See the caveats in the documentation: https://pandas.pydata.org/pandas-docs/stable/user_guide/indexing.html#returning-a-view-versus-a-copy\n",
      "  df_lincoln[['PATS Type', 'PATS Module Location']] = df_lincoln['Security'].str.split('(', n=1, expand=True)\n"
     ]
    }
   ],
   "source": [
    "# Split column 'Security' between 2 columns, where one column shows the PATS Type and the other one shows the PATS module location\n",
    "df_lincoln[['PATS Type', 'PATS Module Location']] = df_lincoln['Security'].str.split('(', n=1, expand=True)"
   ]
  },
  {
   "cell_type": "code",
   "execution_count": 6,
   "metadata": {},
   "outputs": [],
   "source": [
    "# Drop column security as its values were split in 2 columns\n",
    "df_lincoln_new = df_lincoln.drop(columns=['Security'])"
   ]
  },
  {
   "cell_type": "code",
   "execution_count": 7,
   "metadata": {},
   "outputs": [],
   "source": [
    "# Remove the ')' that remained at the values of the column 'PATS Module Location'\n",
    "df_lincoln_new['PATS Module Location'] = df_lincoln_new['PATS Module Location'].str.strip(')')"
   ]
  },
  {
   "cell_type": "code",
   "execution_count": 8,
   "metadata": {},
   "outputs": [
    {
     "name": "stdout",
     "output_type": "stream",
     "text": [
      "Year                                                                                                  2009\n",
      "Make                                                                                               Lincoln\n",
      "Model                                                                                                  MKS\n",
      "ParameterReset                                                                    Parameter Reset Required\n",
      "PATS Type                                                                     Keyed Ignition: PATS Type C \n",
      "PATS Module Location    Instrument Cluster)\\nPush To Start: PATS Type C (Remote Function Actuator / Key...\n",
      "Name: 2384, dtype: object\n",
      "Year                                                                                                  2010\n",
      "Make                                                                                               Lincoln\n",
      "Model                                                                                                  MKS\n",
      "ParameterReset                                                                    Parameter Reset Required\n",
      "PATS Type                                                                     Keyed Ignition: PATS Type C \n",
      "PATS Module Location    Instrument Cluster)\\nPush To Start: PATS Type C (Remote Function Actuator / Key...\n",
      "Name: 2630, dtype: object\n",
      "Year                                                                                                  2011\n",
      "Make                                                                                               Lincoln\n",
      "Model                                                                                                  MKS\n",
      "ParameterReset                                                                    Parameter Reset Required\n",
      "PATS Type                                                                     Keyed Ignition: PATS Type C \n",
      "PATS Module Location    Instrument Cluster)\\nPush To Start: PATS Type C (Remote Function Actuator / Key...\n",
      "Name: 2862, dtype: object\n",
      "Year                                                                                                  2012\n",
      "Make                                                                                               Lincoln\n",
      "Model                                                                                                  MKS\n",
      "ParameterReset                                                                    Parameter Reset Required\n",
      "PATS Type                                                                     Keyed Ignition: PATS Type C \n",
      "PATS Module Location    Instrument Cluster)\\nPush To Start: PATS Type C (Remote Function Actuator / Key...\n",
      "Name: 3098, dtype: object\n"
     ]
    }
   ],
   "source": [
    "# The model 'Keyed Ignition:' and 'Push To Start:' confuguration are located in the same rows.\n",
    "# Identifies which rows have the strings 'Keyed Ignition:' and 'Push To Start:' to separate them in 2 rows.\n",
    "# Iterates in the column 'PATS Type' and bring the rows which contains the strings 'Keyed Ignition:'\n",
    "for index, row in df_lincoln_new.iterrows():\n",
    "    if 'Keyed Ignition:' in row['PATS Type']:\n",
    "        print(row)"
   ]
  },
  {
   "cell_type": "code",
   "execution_count": 9,
   "metadata": {},
   "outputs": [],
   "source": [
    "# Separate in 2 lines the 'Keyed Ignition' configuration and 'Push To Start\" configuration.\n",
    "df_lincoln_new.loc[len(df_lincoln_new.index)] = [2009, 'Lincoln', 'MKS (Keyed Ignition)', 'Parameter Reset Required', 'PATS Type C', 'Instrument Cluster']\n",
    "df_lincoln_new.loc[len(df_lincoln_new.index)] = [2009, 'Lincoln', 'MKS (Push To Start)', 'Parameter Reset Required', 'PATS Type C', 'Remote Function Actuator / Keyless Vehicle Module']\n",
    "df_lincoln_new.loc[len(df_lincoln_new.index)] = [2010, 'Lincoln', 'MKS (Keyed Ignition)', 'Parameter Reset Required', 'PATS Type C', 'Instrument Cluster']\n",
    "df_lincoln_new.loc[len(df_lincoln_new.index)] = [2010, 'Lincoln', 'MKS (Push To Start)', 'Parameter Reset Required', 'PATS Type C', 'Remote Function Actuator / Keyless Vehicle Module']\n",
    "df_lincoln_new.loc[len(df_lincoln_new.index)] = [2011, 'Lincoln', 'MKS (Keyed Ignition)', 'Parameter Reset Required', 'PATS Type C', 'Instrument Cluster']\n",
    "df_lincoln_new.loc[len(df_lincoln_new.index)] = [2011, 'Lincoln', 'MKS (Push To Start)', 'Parameter Reset Required', 'PATS Type C', 'Remote Function Actuator / Keyless Vehicle Module']\n",
    "df_lincoln_new.loc[len(df_lincoln_new.index)] = [2012, 'Lincoln', 'MKS (Keyed Ignition)', 'Parameter Reset Required', 'PATS Type C', 'Instrument Cluster']\n",
    "df_lincoln_new.loc[len(df_lincoln_new.index)] = [2012, 'Lincoln', 'MKS (Push To Start)', 'Parameter Reset Required', 'PATS Type C', 'Remote Function Actuator / Keyless Vehicle Module']"
   ]
  },
  {
   "cell_type": "code",
   "execution_count": 10,
   "metadata": {},
   "outputs": [
    {
     "name": "stdout",
     "output_type": "stream",
     "text": [
      "2384\n",
      "2630\n",
      "2862\n",
      "3098\n"
     ]
    }
   ],
   "source": [
    "# Iterate in the new data (after new lines included) to get all index numbers containing the string 'Keyed Ignition'\n",
    "for index, row in df_lincoln_new.iterrows():\n",
    "    if 'Keyed Ignition' in row['PATS Type']:\n",
    "        print(index)"
   ]
  },
  {
   "cell_type": "code",
   "execution_count": 11,
   "metadata": {},
   "outputs": [],
   "source": [
    "# Drop the old rows that were duplicated\n",
    "df_lincoln_dropped_indexes = df_lincoln_new.drop([2384, 2630, 2862, 3098])"
   ]
  },
  {
   "cell_type": "code",
   "execution_count": 12,
   "metadata": {},
   "outputs": [
    {
     "data": {
      "text/html": [
       "<div>\n",
       "<style scoped>\n",
       "    .dataframe tbody tr th:only-of-type {\n",
       "        vertical-align: middle;\n",
       "    }\n",
       "\n",
       "    .dataframe tbody tr th {\n",
       "        vertical-align: top;\n",
       "    }\n",
       "\n",
       "    .dataframe thead th {\n",
       "        text-align: right;\n",
       "    }\n",
       "</style>\n",
       "<table border=\"1\" class=\"dataframe\">\n",
       "  <thead>\n",
       "    <tr style=\"text-align: right;\">\n",
       "      <th></th>\n",
       "      <th>Year</th>\n",
       "      <th>Make</th>\n",
       "      <th>Model</th>\n",
       "      <th>ParameterReset</th>\n",
       "      <th>PATS Type</th>\n",
       "      <th>PATS Module Location</th>\n",
       "    </tr>\n",
       "  </thead>\n",
       "  <tbody>\n",
       "    <tr>\n",
       "      <th>0</th>\n",
       "      <td>1997</td>\n",
       "      <td>Lincoln</td>\n",
       "      <td>Mark VIII</td>\n",
       "      <td>Parameter Reset Not Required</td>\n",
       "      <td>PATS Type D</td>\n",
       "      <td>Steering Column Ignition Lock Module</td>\n",
       "    </tr>\n",
       "    <tr>\n",
       "      <th>1</th>\n",
       "      <td>1998</td>\n",
       "      <td>Lincoln</td>\n",
       "      <td>Continental</td>\n",
       "      <td>Parameter Reset Required</td>\n",
       "      <td>PATS Type C</td>\n",
       "      <td>Instrument Cluster</td>\n",
       "    </tr>\n",
       "    <tr>\n",
       "      <th>2</th>\n",
       "      <td>1998</td>\n",
       "      <td>Lincoln</td>\n",
       "      <td>Mark VIII</td>\n",
       "      <td>Parameter Reset Not Required</td>\n",
       "      <td>PATS Type D</td>\n",
       "      <td>Steering Column Ignition Lock Module</td>\n",
       "    </tr>\n",
       "    <tr>\n",
       "      <th>3</th>\n",
       "      <td>1998</td>\n",
       "      <td>Lincoln</td>\n",
       "      <td>Navigator</td>\n",
       "      <td>Parameter Reset Not Required</td>\n",
       "      <td>PATS Type A</td>\n",
       "      <td>Stand Alone PATS Module</td>\n",
       "    </tr>\n",
       "    <tr>\n",
       "      <th>4</th>\n",
       "      <td>1998</td>\n",
       "      <td>Lincoln</td>\n",
       "      <td>Town Car</td>\n",
       "      <td>Parameter Reset Required</td>\n",
       "      <td>PATS Type C</td>\n",
       "      <td>Instrument Cluster</td>\n",
       "    </tr>\n",
       "    <tr>\n",
       "      <th>...</th>\n",
       "      <td>...</td>\n",
       "      <td>...</td>\n",
       "      <td>...</td>\n",
       "      <td>...</td>\n",
       "      <td>...</td>\n",
       "      <td>...</td>\n",
       "    </tr>\n",
       "    <tr>\n",
       "      <th>78</th>\n",
       "      <td>2010</td>\n",
       "      <td>Lincoln</td>\n",
       "      <td>MKS (Push To Start)</td>\n",
       "      <td>Parameter Reset Required</td>\n",
       "      <td>PATS Type C</td>\n",
       "      <td>Remote Function Actuator / Keyless Vehicle Module</td>\n",
       "    </tr>\n",
       "    <tr>\n",
       "      <th>79</th>\n",
       "      <td>2011</td>\n",
       "      <td>Lincoln</td>\n",
       "      <td>MKS (Keyed Ignition)</td>\n",
       "      <td>Parameter Reset Required</td>\n",
       "      <td>PATS Type C</td>\n",
       "      <td>Instrument Cluster</td>\n",
       "    </tr>\n",
       "    <tr>\n",
       "      <th>80</th>\n",
       "      <td>2011</td>\n",
       "      <td>Lincoln</td>\n",
       "      <td>MKS (Push To Start)</td>\n",
       "      <td>Parameter Reset Required</td>\n",
       "      <td>PATS Type C</td>\n",
       "      <td>Remote Function Actuator / Keyless Vehicle Module</td>\n",
       "    </tr>\n",
       "    <tr>\n",
       "      <th>81</th>\n",
       "      <td>2012</td>\n",
       "      <td>Lincoln</td>\n",
       "      <td>MKS (Keyed Ignition)</td>\n",
       "      <td>Parameter Reset Required</td>\n",
       "      <td>PATS Type C</td>\n",
       "      <td>Instrument Cluster</td>\n",
       "    </tr>\n",
       "    <tr>\n",
       "      <th>82</th>\n",
       "      <td>2012</td>\n",
       "      <td>Lincoln</td>\n",
       "      <td>MKS (Push To Start)</td>\n",
       "      <td>Parameter Reset Required</td>\n",
       "      <td>PATS Type C</td>\n",
       "      <td>Remote Function Actuator / Keyless Vehicle Module</td>\n",
       "    </tr>\n",
       "  </tbody>\n",
       "</table>\n",
       "<p>83 rows × 6 columns</p>\n",
       "</div>"
      ],
      "text/plain": [
       "    Year     Make                 Model                ParameterReset  \\\n",
       "0   1997  Lincoln             Mark VIII  Parameter Reset Not Required   \n",
       "1   1998  Lincoln           Continental      Parameter Reset Required   \n",
       "2   1998  Lincoln             Mark VIII  Parameter Reset Not Required   \n",
       "3   1998  Lincoln             Navigator  Parameter Reset Not Required   \n",
       "4   1998  Lincoln              Town Car      Parameter Reset Required   \n",
       "..   ...      ...                   ...                           ...   \n",
       "78  2010  Lincoln   MKS (Push To Start)      Parameter Reset Required   \n",
       "79  2011  Lincoln  MKS (Keyed Ignition)      Parameter Reset Required   \n",
       "80  2011  Lincoln   MKS (Push To Start)      Parameter Reset Required   \n",
       "81  2012  Lincoln  MKS (Keyed Ignition)      Parameter Reset Required   \n",
       "82  2012  Lincoln   MKS (Push To Start)      Parameter Reset Required   \n",
       "\n",
       "       PATS Type                               PATS Module Location  \n",
       "0   PATS Type D                Steering Column Ignition Lock Module  \n",
       "1   PATS Type C                                  Instrument Cluster  \n",
       "2   PATS Type D                Steering Column Ignition Lock Module  \n",
       "3   PATS Type A                             Stand Alone PATS Module  \n",
       "4   PATS Type C                                  Instrument Cluster  \n",
       "..           ...                                                ...  \n",
       "78   PATS Type C  Remote Function Actuator / Keyless Vehicle Module  \n",
       "79   PATS Type C                                 Instrument Cluster  \n",
       "80   PATS Type C  Remote Function Actuator / Keyless Vehicle Module  \n",
       "81   PATS Type C                                 Instrument Cluster  \n",
       "82   PATS Type C  Remote Function Actuator / Keyless Vehicle Module  \n",
       "\n",
       "[83 rows x 6 columns]"
      ]
     },
     "execution_count": 12,
     "metadata": {},
     "output_type": "execute_result"
    }
   ],
   "source": [
    "# Reset the index\n",
    "# df_lincoln_dropped_indexes.reset_index(drop=True)"
   ]
  },
  {
   "cell_type": "code",
   "execution_count": 15,
   "metadata": {},
   "outputs": [
    {
     "name": "stderr",
     "output_type": "stream",
     "text": [
      "<>:2: SyntaxWarning: invalid escape sequence '\\L'\n",
      "<>:2: SyntaxWarning: invalid escape sequence '\\L'\n",
      "C:\\Users\\Weverson Barbieri\\AppData\\Local\\Temp\\ipykernel_13836\\4043200149.py:2: SyntaxWarning: invalid escape sequence '\\L'\n",
      "  df_lincoln_dropped_indexes.to_excel('C:\\Language_Projects\\Language_Projects\\Python\\Flagship_1\\Immo_Assistant.app\\dataframe_each_make_xlsx_file\\df_lincoln_updated.xlsx')\n"
     ]
    }
   ],
   "source": [
    "# Save the new dataframe in a new excel file\n",
    "df_lincoln_dropped_indexes.to_excel('C:\\Language_Projects\\Language_Projects\\Python\\Flagship_1\\Immo_Assistant.app\\dataframe_each_make_xlsx_file\\df_lincoln_updated.xlsx')"
   ]
  }
 ],
 "metadata": {
  "kernelspec": {
   "display_name": "Python 3",
   "language": "python",
   "name": "python3"
  },
  "language_info": {
   "codemirror_mode": {
    "name": "ipython",
    "version": 3
   },
   "file_extension": ".py",
   "mimetype": "text/x-python",
   "name": "python",
   "nbconvert_exporter": "python",
   "pygments_lexer": "ipython3",
   "version": "3.12.2"
  }
 },
 "nbformat": 4,
 "nbformat_minor": 2
}
