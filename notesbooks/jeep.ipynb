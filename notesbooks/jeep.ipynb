{
 "cells": [
  {
   "cell_type": "code",
   "execution_count": 1,
   "metadata": {},
   "outputs": [],
   "source": [
    "import pandas as pd"
   ]
  },
  {
   "cell_type": "code",
   "execution_count": 2,
   "metadata": {},
   "outputs": [
    {
     "name": "stderr",
     "output_type": "stream",
     "text": [
      "<>:2: SyntaxWarning: invalid escape sequence '\\L'\n",
      "C:\\Users\\Weverson Barbieri\\AppData\\Local\\Temp\\ipykernel_12240\\507487594.py:2: SyntaxWarning: invalid escape sequence '\\L'\n",
      "  df = pd.read_excel('C:\\Language_Projects\\Language_Projects\\Python\\Flagship_1\\Immo_Assistant.app\\data\\year_make_model_df.xlsx')\n"
     ]
    },
    {
     "name": "stdout",
     "output_type": "stream",
     "text": [
      "<class 'pandas.core.frame.DataFrame'>\n",
      "RangeIndex: 3463 entries, 0 to 3462\n",
      "Data columns (total 5 columns):\n",
      " #   Column          Non-Null Count  Dtype \n",
      "---  ------          --------------  ----- \n",
      " 0   Year            3463 non-null   int64 \n",
      " 1   Make            3463 non-null   object\n",
      " 2   Model           3463 non-null   string\n",
      " 3   Security        3156 non-null   object\n",
      " 4   ParameterReset  938 non-null    object\n",
      "dtypes: int64(1), object(3), string(1)\n",
      "memory usage: 135.4+ KB\n",
      "PATS Type A (Stand Alone PATS Module)\n",
      "PATS Type A (Stand Alone PATS Module)\n",
      "PATS Type A (Stand Alone PATS Module)\n",
      "PATS Type A (Stand Alone PATS Module)\n",
      "PATS Type A (Stand Alone PATS Module)\n",
      "Built February 1st or earlier: PATS Type A (Stand Alone PATS Module)\n",
      "Built February 2nd or later: PATS Type E (Powertrain Control Module)\n",
      "PATS Type B (Stand Alone PATS Module)\n",
      "PATS Type A (Stand Alone PATS Module)\n",
      "PATS Type B (Stand Alone PATS Module)\n",
      "PATS Type B (Stand Alone PATS Module)\n",
      "PATS Type B (Stand Alone PATS Module)\n",
      "PATS Type B (Stand Alone PATS Module)\n",
      "PATS Type E (Powertrain Control Module)\n",
      "PATS Type B (Stand Alone PATS Module)\n",
      "PATS Type C (Instrument Cluster)\n",
      "PATS Type B (Stand Alone PATS Module)\n",
      "PATS Type B (Stand Alone PATS Module)\n",
      "PATS Type C (Instrument Cluster)\n",
      "PATS Type C (Instrument Cluster)\n",
      "PATS Type C (Instrument Cluster)\n",
      "PATS Type B (Stand Alone PATS Module)\n",
      "PATS Type B (Stand Alone PATS Module)\n",
      "PATS Type C (Instrument Cluster)\n",
      "PATS Type E (Powertrain Control Module)\n",
      "PATS Type B (Stand Alone PATS Module)\n",
      "PATS Type B (Stand Alone PATS Module)\n",
      "PATS Type C (Instrument Cluster)\n",
      "PATS Type B (Stand Alone PATS Module)\n",
      "PATS Type B (Stand Alone PATS Module)\n",
      "PATS Type C (Instrument Cluster)\n",
      "PATS Type C (Instrument Cluster)\n",
      "PATS Type E (Powertrain Control Module)\n",
      "PATS Type C (Instrument Cluster)\n",
      "PATS Type B (Stand Alone PATS Module)\n",
      "PATS Type E (Powertrain Control Module)\n",
      "PATS Type C (Instrument Cluster)\n",
      "PATS Type B (Stand Alone PATS Module)\n",
      "PATS Type E (Powertrain Control Module)\n",
      "PATS Type B (Stand Alone PATS Module)\n",
      "PATS Type C (Instrument Cluster)\n",
      "PATS Type B (Stand Alone PATS Module)\n",
      "Built July 23rd 2000 or Earlier: PATS Type B (Stand Alone PATS Module)\n",
      "Built July 24th 2000 or Later: PATS Type E (Powertrain Control Module)\n",
      "Built July 23rd 2000 or Earlier: PATS Type B (Stand Alone PATS Module)\n",
      "Built July 24th 2000 or Later: PATS Type E (Powertrain Control Module)\n",
      "PATS Type C (Instrument Cluster)\n",
      "PATS Type C (Instrument Cluster)\n",
      "PATS Type E (Powertrain Control Module)\n",
      "PATS Type C (Instrument Cluster)\n",
      "PATS Type E (Powertrain Control Module)\n",
      "PATS Type E (Powertrain Control Module)\n",
      "PATS Type E (Powertrain Control Module)\n",
      "PATS Type B (Stand Alone PATS Module)\n",
      "PATS Type E (Powertrain Control Module)\n",
      "PATS Type B (Stand Alone PATS Module)\n",
      "PATS Type C (Instrument Cluster)\n",
      "PATS Type E (Powertrain Control Module)\n",
      "PATS Type E (Powertrain Control Module)\n",
      "PATS Type E (Powertrain Control Module)\n",
      "PATS Type C (Instrument Cluster)\n",
      "PATS Type C (Instrument Cluster)\n",
      "PATS Type E (Powertrain Control Module)\n",
      "PATS Type C (Instrument Cluster)\n",
      "PATS Type E (Powertrain Control Module)\n",
      "PATS Type E (Powertrain Control Module)\n",
      "PATS Type C (Instrument Cluster)\n",
      "PATS Type E (Powertrain Control Module)\n",
      "PATS Type E (Powertrain Control Module)\n",
      "PATS Type E (Powertrain Control Module)\n",
      "PATS Type B (Stand Alone PATS Module)\n",
      "PATS Type E (Powertrain Control Module)\n",
      "PATS Type E (Powertrain Control Module)\n",
      "PATS Type E (Powertrain Control Module)\n",
      "PATS Type E (Powertrain Control Module)\n",
      "PATS Type C (Instrument Cluster)\n",
      "PATS Type C (Instrument Cluster)\n",
      "PATS Type E (Powertrain Control Module)\n",
      "PATS Type C (Instrument Cluster)\n",
      "PATS Type E (Powertrain Control Module)\n",
      "PATS Type E (Powertrain Control Module)\n",
      "PATS Type C (Instrument Cluster)\n",
      "PATS Type E (Powertrain Control Module)\n",
      "PATS Type E (Powertrain Control Module)\n",
      "PATS Type E (Powertrain Control Module)\n",
      "PATS Type B (Stand Alone PATS Module)\n",
      "PATS Type E (Powertrain Control Module)\n",
      "PATS Type E (Powertrain Control Module)\n",
      "PATS Type E (Powertrain Control Module)\n",
      "PATS Type E (Powertrain Control Module)\n",
      "PATS Type C (Instrument Cluster)\n",
      "PATS Type E (Powertrain Control Module)\n",
      "PATS Type E (Powertrain Control Module)\n",
      "PATS Type C (Instrument Cluster)\n",
      "PATS Type E (Powertrain Control Module)\n",
      "PATS Type E (Powertrain Control Module)\n",
      "PATS Type C (Instrument Cluster)\n",
      "PATS Type E (Powertrain Control Module)\n",
      "PATS Type E (Powertrain Control Module)\n",
      "PATS Type B (Stand Alone PATS Module)\n",
      "PATS Type E (Powertrain Control Module)\n",
      "PATS Type E (Powertrain Control Module)\n",
      "PATS Type E (Powertrain Control Module)\n",
      "PATS Type E (Powertrain Control Module)\n",
      "PATS Type C (Instrument Cluster)\n",
      "PATS Type E (Powertrain Control Module)\n",
      "PATS Type E (Powertrain Control Module)\n",
      "PATS Type E (Powertrain Control Module)\n",
      "PATS Type E (Powertrain Control Module)\n",
      "PATS Type B (Stand Alone PATS Module)\n",
      "PATS Type E (Powertrain Control Module)\n",
      "PATS Type NA (No PATS)\n",
      "PATS Type E (Powertrain Control Module)\n",
      "PATS Type C (Instrument Cluster)\n",
      "PATS Type E (Powertrain Control Module)\n",
      "PATS Type E (Powertrain Control Module)\n",
      "PATS Type F (Powertrain Control Module)\n",
      "PATS Type E (Powertrain Control Module)\n",
      "PATS Type C (Instrument Cluster)\n",
      "PATS Type E (Powertrain Control Module)\n",
      "PATS Type E (Powertrain Control Module)\n",
      "PATS Type C (Instrument Cluster)\n",
      "PATS Type E (Powertrain Control Module)\n",
      "PATS Type E (Powertrain Control Module)\n",
      "PATS Type E (Powertrain Control Module)\n",
      "PATS Type E (Powertrain Control Module)\n",
      "PATS Type C (Instrument Cluster)\n",
      "PATS Type B (Stand Alone PATS Module)\n",
      "PATS Type E (Powertrain Control Module)\n",
      "PATS Type C (Powertrain Control Module)\n",
      "PATS Type E (Powertrain Control Module)\n",
      "PATS Type C (Instrument Cluster)\n",
      "PATS Type E (Powertrain Control Module)\n",
      "PATS Type A (Instrument Cluster)\n",
      "PATS Type E (Powertrain Control Module)\n",
      "PATS Type F (Powertrain Control Module)\n",
      "PATS Type C (Instrument Cluster)\n",
      "PATS Type C (Instrument Cluster)\n",
      "PATS Type C (Instrument Cluster)\n",
      "PATS Type E (Powertrain Control Module)\n",
      "PATS Type E (Powertrain Control Module)\n",
      "PATS Type E (Powertrain Control Module)\n",
      "PATS Type E (Powertrain Control Module)\n",
      "PATS Type E (Powertrain Control Module)\n",
      "PATS Type E (Powertrain Control Module)\n",
      "PATS Type C (Instrument Cluster)\n",
      "PATS Type E (Powertrain Control Module)\n",
      "PATS Type G (Instrument Cluster)\n",
      "PATS Type E (Powertrain Control Module)\n",
      "PATS Type A (Instrument Cluster)\n",
      "Fleet Vehicles: PATS Type G (Instrument Cluster)\n",
      "Non-Fleet Vehicles: PATS Type C (Instrument Cluster)\n",
      "PATS Type C (Instrument Cluster)\n",
      "PATS Type C (Instrument Cluster)\n",
      "PATS Type C (Instrument Cluster)\n",
      "PATS Type E (Powertrain Control Module)\n",
      "PATS Type E (Powertrain Control Module)\n",
      "PATS Type G (Instrument Cluster)\n",
      "PATS Type C (Instrument Cluster)\n",
      "PATS Type C (Instrument Cluster)\n",
      "PATS Type C (Instrument Cluster)\n",
      "PATS Type E (Powertrain Control Module)\n",
      "PATS Type G (Instrument Cluster)\n",
      "PATS Type C (Instrument Cluster)\n",
      "PATS Type C (Instrument Cluster)\n",
      "PATS Type E (Powertrain Control Module)\n",
      "PATS Type A (Instrument Cluster)\n",
      "PATS Type C (Instrument Cluster)\n",
      "PATS Type C (Instrument Cluster)\n",
      "PATS Type C (Instrument Cluster)\n",
      "PATS Type C (Instrument Cluster)\n",
      "PATS Type C (Instrument Cluster)\n",
      "Fleet Vehicles: PATS Type G (Instrument Cluster)\n",
      "Non-Fleet Vehicles: PATS Type C (Instrument Cluster)\n",
      "PATS Type C (Instrument Cluster)\n",
      "PATS Type C (Instrument Cluster)\n",
      "PATS Type C (Instrument Cluster)\n",
      "PATS Type C (Instrument Cluster)\n",
      "PATS Type G (Instrument Cluster)\n",
      "PATS Type C (Instrument Cluster)\n",
      "PATS Type C (Instrument Cluster)\n",
      "PATS Type C (Instrument Cluster)\n",
      "PATS Type C (Instrument Cluster)\n",
      "PATS Type E (Powertrain Control Module)\n",
      "PATS Type G (Instrument Cluster)\n",
      "PATS Type C (Instrument Cluster)\n",
      "PATS Type C (Instrument Cluster)\n",
      "PATS Type E (Powertrain Control Module)\n",
      "PATS Type A (Instrument Cluster)\n",
      "PATS Type C (Instrument Cluster)\n",
      "PATS Type C (Instrument Cluster)\n",
      "PATS Type C (Instrument Cluster)\n",
      "Fleet Vehicles: PATS Type G (Instrument Cluster)\n",
      "Non-Fleet Vehicles: PATS Type C (Instrument Cluster)\n",
      "PATS Type C (Instrument Cluster)\n",
      "PATS Type C (Instrument Cluster)\n",
      "PATS Type C (Instrument Cluster)\n",
      "PATS Type C (Instrument Cluster)\n",
      "PATS Type G (Instrument Cluster)\n",
      "PATS Type C (Instrument Cluster)\n",
      "PATS Type C (Instrument Cluster)\n",
      "PATS Type C (Instrument Cluster)\n",
      "PATS Type C (Instrument Cluster)\n",
      "PATS Type C (Instrument Cluster)\n",
      "PATS Type C (Instrument Cluster)\n",
      "PATS Type G (Instrument Cluster)\n",
      "Keyed Ignition: PATS Type C (Instrument Cluster)\n",
      "Push To Start: PATS Type C (Remote Function Actuator / Keyless Vehicle Module)\n",
      "PATS Type A (Instrument Cluster)\n",
      "PATS Type E (Powertrain Control Module)\n",
      "PATS Type B (Body Control Module)\n",
      "PATS Type C (Remote Function Actuator / Keyless Vehicle Module)\n",
      "PATS Type C (Instrument Cluster)\n",
      "PATS Type C (Instrument Cluster)\n",
      "PATS Type C (Instrument Cluster)\n",
      "PATS Type A (Instrument Cluster)\n",
      "PATS Type C (Instrument Cluster)\n",
      "PATS Type B (Body Control Module)\n",
      "PATS Type B (Body Control Module)\n",
      "PATS Type B (Body Control Module)\n",
      "Keyed Ignition: PATS Type A (Instrument Cluster)\n",
      "Push To Start: PATS Type C (Remote Function Actuator / Keyless Vehicle Module)\n",
      "PATS Type C (Instrument Cluster)\n",
      "PATS Type C (Instrument Cluster)\n",
      "PATS Type C (Instrument Cluster)\n",
      "PATS Type C (Instrument Cluster)\n",
      "PATS Type C (Instrument Cluster)\n",
      "Keyed Ignition: PATS Type C (Instrument Cluster)\n",
      "Push To Start: PATS Type C (Remote Function Actuator / Keyless Vehicle Module)\n",
      "PATS Type A (Instrument Cluster)\n",
      "PATS Type E (Powertrain Control Module)\n",
      "PATS Type B (Body Control Module)\n",
      "PATS Type C (Remote Function Actuator / Keyless Vehicle Module)\n",
      "PATS Type C (Instrument Cluster)\n",
      "PATS Type C (Instrument Cluster)\n",
      "PATS Type C (Instrument Cluster)\n",
      "PATS Type A (Instrument Cluster)\n",
      "PATS Type C (Instrument Cluster)\n",
      "PATS Type B (Body Control Module)\n",
      "PATS Type B (Body Control Module)\n",
      "PATS Type B (Body Control Module)\n",
      "Keyed Ignition: PATS Type A (Instrument Cluster)\n",
      "Push To Start: PATS Type C (Remote Function Actuator / Keyless Vehicle Module)\n",
      "PATS Type C (Instrument Cluster)\n",
      "Keyed Ignition: PATS Type C (Instrument Cluster)\n",
      "Push To Start: PATS Type C (Remote Function Actuator / Keyless Vehicle Module)\n",
      "PATS Type C (Remote Function Actuator / Keyless Vehicle Module)\n",
      "PATS Type C (Instrument Cluster)\n",
      "PATS Type C (Instrument Cluster)\n",
      "PATS Type C (Instrument Cluster)\n",
      "Keyed Ignition: PATS Type C (Instrument Cluster)\n",
      "Push To Start: PATS Type C (Remote Function Actuator / Keyless Vehicle Module)\n",
      "PATS Type A (Instrument Cluster)\n",
      "PATS Type B (Body Control Module)\n",
      "PATS Type C (Remote Function Actuator / Keyless Vehicle Module)\n",
      "PATS Type B (Body Control Module)\n",
      "PATS Type C (Remote Function Actuator / Keyless Vehicle Module)\n",
      "PATS Type B (Body Control Module)\n",
      "PATS Type C (Remote Function Actuator / Keyless Vehicle Module)\n",
      "PATS Type A (Instrument Cluster)\n",
      "PATS Type C (Instrument Cluster)\n",
      "PATS Type B (Body Control Module)\n",
      "PATS Type B (Body Control Module)\n",
      "PATS Type B (Body Control Module)\n",
      "Keyed Ignition: PATS Type A (Instrument Cluster)\n",
      "Push To Start: PATS Type C (Remote Function Actuator / Keyless Vehicle Module)\n",
      "PATS Type B (Body Control Module)\n",
      "PATS Type C (Remote Function Actuator / Keyless Vehicle Module)\n",
      "Keyed Ignition: PATS Type C (Instrument Cluster)\n",
      "Push To Start: PATS Type C (Remote Function Actuator / Keyless Vehicle Module)\n",
      "PATS Type C (Remote Function Actuator / Keyless Vehicle Module)\n",
      "PATS Type B (Body Control Module)\n",
      "PATS Type B (Body Control Module)\n",
      "PATS Type B (Body Control Module)\n",
      "PATS Type C (Instrument Cluster)\n",
      "Keyed Ignition: PATS Type C (Instrument Cluster)\n",
      "Push To Start: PATS Type C (Remote Function Actuator / Keyless Vehicle Module)\n",
      "PATS Type A (Instrument Cluster)\n",
      "PATS Type B (Body Control Module)\n",
      "Stand Alone PATS Module)\n",
      "Built February 2nd or later: PATS Type E (Powertrain Control Module\n",
      "Year                                                                                                               2001\n",
      "Make                                                                                                               Ford\n",
      "Model                                                                                              Explorer Sport (2dr)\n",
      "ParameterReset                                                                                 Parameter Reset Required\n",
      "PATS Type                                                                 Built July 23rd 2000 or Earlier: PATS Type B \n",
      "PATS Module Location    Stand Alone PATS Module)\\nBuilt July 24th 2000 or Later: PATS Type E (Powertrain Control Module\n",
      "Name: 705, dtype: object\n",
      "Year                                                                                                               2001\n",
      "Make                                                                                                               Ford\n",
      "Model                                                                                               Explorer Sport Trac\n",
      "ParameterReset                                                                                 Parameter Reset Required\n",
      "PATS Type                                                                 Built July 23rd 2000 or Earlier: PATS Type B \n",
      "PATS Module Location    Stand Alone PATS Module)\\nBuilt July 24th 2000 or Later: PATS Type E (Powertrain Control Module\n",
      "Name: 706, dtype: object\n",
      "Year                                                                                        2008\n",
      "Make                                                                                        Ford\n",
      "Model                                                                                   E-Series\n",
      "ParameterReset                                                          Parameter Reset Required\n",
      "PATS Type                                                           Fleet Vehicles: PATS Type G \n",
      "PATS Module Location    Instrument Cluster)\\nNon-Fleet Vehicles: PATS Type C (Instrument Cluster\n",
      "Name: 2069, dtype: object\n",
      "Year                                                                                        2009\n",
      "Make                                                                                        Ford\n",
      "Model                                                                                   E-Series\n",
      "ParameterReset                                                          Parameter Reset Required\n",
      "PATS Type                                                           Fleet Vehicles: PATS Type G \n",
      "PATS Module Location    Instrument Cluster)\\nNon-Fleet Vehicles: PATS Type C (Instrument Cluster\n",
      "Name: 2316, dtype: object\n",
      "Year                                                                                        2010\n",
      "Make                                                                                        Ford\n",
      "Model                                                                                   E-Series\n",
      "ParameterReset                                                          Parameter Reset Required\n",
      "PATS Type                                                           Fleet Vehicles: PATS Type G \n",
      "PATS Module Location    Instrument Cluster)\\nNon-Fleet Vehicles: PATS Type C (Instrument Cluster\n",
      "Name: 2563, dtype: object\n",
      "Year                                                                                                                  2010\n",
      "Make                                                                                                                  Ford\n",
      "Model                                                                                                               Taurus\n",
      "ParameterReset                                                                                    Parameter Reset Required\n",
      "PATS Type                                                                                     Keyed Ignition: PATS Type C \n",
      "PATS Module Location    Instrument Cluster)\\nPush To Start: PATS Type C (Remote Function Actuator / Keyless Vehicle Module\n",
      "Name: 2576, dtype: object\n",
      "Year                                                                                                                  2011\n",
      "Make                                                                                                                  Ford\n",
      "Model                                                                                                               FIESTA\n",
      "ParameterReset                                                                                    Parameter Reset Required\n",
      "PATS Type                                                                                     Keyed Ignition: PATS Type A \n",
      "PATS Module Location    Instrument Cluster)\\nPush To Start: PATS Type C (Remote Function Actuator / Keyless Vehicle Module\n",
      "Name: 2806, dtype: object\n",
      "Year                                                                                                                  2011\n",
      "Make                                                                                                                  Ford\n",
      "Model                                                                                                               Taurus\n",
      "ParameterReset                                                                                    Parameter Reset Required\n",
      "PATS Type                                                                                     Keyed Ignition: PATS Type C \n",
      "PATS Module Location    Instrument Cluster)\\nPush To Start: PATS Type C (Remote Function Actuator / Keyless Vehicle Module\n",
      "Name: 2812, dtype: object\n",
      "Year                                                                                                                  2012\n",
      "Make                                                                                                                  Ford\n",
      "Model                                                                                                               FIESTA\n",
      "ParameterReset                                                                                    Parameter Reset Required\n",
      "PATS Type                                                                                     Keyed Ignition: PATS Type A \n",
      "PATS Module Location    Instrument Cluster)\\nPush To Start: PATS Type C (Remote Function Actuator / Keyless Vehicle Module\n",
      "Name: 3038, dtype: object\n",
      "Year                                                                                                                  2012\n",
      "Make                                                                                                                  Ford\n",
      "Model                                                                                                                Focus\n",
      "ParameterReset                                                                                    Parameter Reset Required\n",
      "PATS Type                                                                                     Keyed Ignition: PATS Type C \n",
      "PATS Module Location    Instrument Cluster)\\nPush To Start: PATS Type C (Remote Function Actuator / Keyless Vehicle Module\n",
      "Name: 3040, dtype: object\n",
      "Year                                                                                                                  2012\n",
      "Make                                                                                                                  Ford\n",
      "Model                                                                                                               Taurus\n",
      "ParameterReset                                                                                    Parameter Reset Required\n",
      "PATS Type                                                                                     Keyed Ignition: PATS Type C \n",
      "PATS Module Location    Instrument Cluster)\\nPush To Start: PATS Type C (Remote Function Actuator / Keyless Vehicle Module\n",
      "Name: 3045, dtype: object\n",
      "Year                                                                                                                  2013\n",
      "Make                                                                                                                  Ford\n",
      "Model                                                                                                               FIESTA\n",
      "ParameterReset                                                                                    Parameter Reset Required\n",
      "PATS Type                                                                                     Keyed Ignition: PATS Type A \n",
      "PATS Module Location    Instrument Cluster)\\nPush To Start: PATS Type C (Remote Function Actuator / Keyless Vehicle Module\n",
      "Name: 3271, dtype: object\n",
      "Year                                                                                                                  2013\n",
      "Make                                                                                                                  Ford\n",
      "Model                                                                                                                Focus\n",
      "ParameterReset                                                                                    Parameter Reset Required\n",
      "PATS Type                                                                                     Keyed Ignition: PATS Type C \n",
      "PATS Module Location    Instrument Cluster)\\nPush To Start: PATS Type C (Remote Function Actuator / Keyless Vehicle Module\n",
      "Name: 3274, dtype: object\n",
      "Year                                                                                                                  2013\n",
      "Make                                                                                                                  Ford\n",
      "Model                                                                                                               Taurus\n",
      "ParameterReset                                                                                    Parameter Reset Required\n",
      "PATS Type                                                                                     Keyed Ignition: PATS Type C \n",
      "PATS Module Location    Instrument Cluster)\\nPush To Start: PATS Type C (Remote Function Actuator / Keyless Vehicle Module\n",
      "Name: 3280, dtype: object\n",
      "Year                                                                                                                  2010\n",
      "Make                                                                                                                  Ford\n",
      "Model                                                                                                               Taurus\n",
      "ParameterReset                                                                                    Parameter Reset Required\n",
      "PATS Type                                                                                     Keyed Ignition: PATS Type C \n",
      "PATS Module Location    Instrument Cluster)\\nPush To Start: PATS Type C (Remote Function Actuator / Keyless Vehicle Module\n",
      "Name: 2576, dtype: object\n",
      "Year                                                                                                                  2011\n",
      "Make                                                                                                                  Ford\n",
      "Model                                                                                                               FIESTA\n",
      "ParameterReset                                                                                    Parameter Reset Required\n",
      "PATS Type                                                                                     Keyed Ignition: PATS Type A \n",
      "PATS Module Location    Instrument Cluster)\\nPush To Start: PATS Type C (Remote Function Actuator / Keyless Vehicle Module\n",
      "Name: 2806, dtype: object\n",
      "Year                                                                                                                  2011\n",
      "Make                                                                                                                  Ford\n",
      "Model                                                                                                               Taurus\n",
      "ParameterReset                                                                                    Parameter Reset Required\n",
      "PATS Type                                                                                     Keyed Ignition: PATS Type C \n",
      "PATS Module Location    Instrument Cluster)\\nPush To Start: PATS Type C (Remote Function Actuator / Keyless Vehicle Module\n",
      "Name: 2812, dtype: object\n",
      "Year                                                                                                                  2012\n",
      "Make                                                                                                                  Ford\n",
      "Model                                                                                                               FIESTA\n",
      "ParameterReset                                                                                    Parameter Reset Required\n",
      "PATS Type                                                                                     Keyed Ignition: PATS Type A \n",
      "PATS Module Location    Instrument Cluster)\\nPush To Start: PATS Type C (Remote Function Actuator / Keyless Vehicle Module\n",
      "Name: 3038, dtype: object\n",
      "Year                                                                                                                  2012\n",
      "Make                                                                                                                  Ford\n",
      "Model                                                                                                                Focus\n",
      "ParameterReset                                                                                    Parameter Reset Required\n",
      "PATS Type                                                                                     Keyed Ignition: PATS Type C \n",
      "PATS Module Location    Instrument Cluster)\\nPush To Start: PATS Type C (Remote Function Actuator / Keyless Vehicle Module\n",
      "Name: 3040, dtype: object\n",
      "Year                                                                                                                  2012\n",
      "Make                                                                                                                  Ford\n",
      "Model                                                                                                               Taurus\n",
      "ParameterReset                                                                                    Parameter Reset Required\n",
      "PATS Type                                                                                     Keyed Ignition: PATS Type C \n",
      "PATS Module Location    Instrument Cluster)\\nPush To Start: PATS Type C (Remote Function Actuator / Keyless Vehicle Module\n",
      "Name: 3045, dtype: object\n",
      "Year                                                                                                                  2013\n",
      "Make                                                                                                                  Ford\n",
      "Model                                                                                                               FIESTA\n",
      "ParameterReset                                                                                    Parameter Reset Required\n",
      "PATS Type                                                                                     Keyed Ignition: PATS Type A \n",
      "PATS Module Location    Instrument Cluster)\\nPush To Start: PATS Type C (Remote Function Actuator / Keyless Vehicle Module\n",
      "Name: 3271, dtype: object\n",
      "Year                                                                                                                  2013\n",
      "Make                                                                                                                  Ford\n",
      "Model                                                                                                                Focus\n",
      "ParameterReset                                                                                    Parameter Reset Required\n",
      "PATS Type                                                                                     Keyed Ignition: PATS Type C \n",
      "PATS Module Location    Instrument Cluster)\\nPush To Start: PATS Type C (Remote Function Actuator / Keyless Vehicle Module\n",
      "Name: 3274, dtype: object\n",
      "Year                                                                                                                  2013\n",
      "Make                                                                                                                  Ford\n",
      "Model                                                                                                               Taurus\n",
      "ParameterReset                                                                                    Parameter Reset Required\n",
      "PATS Type                                                                                     Keyed Ignition: PATS Type C \n",
      "PATS Module Location    Instrument Cluster)\\nPush To Start: PATS Type C (Remote Function Actuator / Keyless Vehicle Module\n",
      "Name: 3280, dtype: object\n",
      "Year                                                                                                                  2010\n",
      "Make                                                                                                                  Ford\n",
      "Model                                                                                                               Taurus\n",
      "ParameterReset                                                                                    Parameter Reset Required\n",
      "PATS Type                                                                                     Keyed Ignition: PATS Type C \n",
      "PATS Module Location    Instrument Cluster)\\nPush To Start: PATS Type C (Remote Function Actuator / Keyless Vehicle Module\n",
      "Name: 2576, dtype: object\n",
      "Year                                                                                                                  2011\n",
      "Make                                                                                                                  Ford\n",
      "Model                                                                                                               FIESTA\n",
      "ParameterReset                                                                                    Parameter Reset Required\n",
      "PATS Type                                                                                     Keyed Ignition: PATS Type A \n",
      "PATS Module Location    Instrument Cluster)\\nPush To Start: PATS Type C (Remote Function Actuator / Keyless Vehicle Module\n",
      "Name: 2806, dtype: object\n",
      "Year                                                                                                                  2011\n",
      "Make                                                                                                                  Ford\n",
      "Model                                                                                                               Taurus\n",
      "ParameterReset                                                                                    Parameter Reset Required\n",
      "PATS Type                                                                                     Keyed Ignition: PATS Type C \n",
      "PATS Module Location    Instrument Cluster)\\nPush To Start: PATS Type C (Remote Function Actuator / Keyless Vehicle Module\n",
      "Name: 2812, dtype: object\n",
      "Year                                                                                                                  2012\n",
      "Make                                                                                                                  Ford\n",
      "Model                                                                                                               FIESTA\n",
      "ParameterReset                                                                                    Parameter Reset Required\n",
      "PATS Type                                                                                     Keyed Ignition: PATS Type A \n",
      "PATS Module Location    Instrument Cluster)\\nPush To Start: PATS Type C (Remote Function Actuator / Keyless Vehicle Module\n",
      "Name: 3038, dtype: object\n",
      "Year                                                                                                                  2012\n",
      "Make                                                                                                                  Ford\n",
      "Model                                                                                                                Focus\n",
      "ParameterReset                                                                                    Parameter Reset Required\n",
      "PATS Type                                                                                     Keyed Ignition: PATS Type C \n",
      "PATS Module Location    Instrument Cluster)\\nPush To Start: PATS Type C (Remote Function Actuator / Keyless Vehicle Module\n",
      "Name: 3040, dtype: object\n",
      "Year                                                                                                                  2012\n",
      "Make                                                                                                                  Ford\n",
      "Model                                                                                                               Taurus\n",
      "ParameterReset                                                                                    Parameter Reset Required\n",
      "PATS Type                                                                                     Keyed Ignition: PATS Type C \n",
      "PATS Module Location    Instrument Cluster)\\nPush To Start: PATS Type C (Remote Function Actuator / Keyless Vehicle Module\n",
      "Name: 3045, dtype: object\n",
      "Year                                                                                                                  2013\n",
      "Make                                                                                                                  Ford\n",
      "Model                                                                                                               FIESTA\n",
      "ParameterReset                                                                                    Parameter Reset Required\n",
      "PATS Type                                                                                     Keyed Ignition: PATS Type A \n",
      "PATS Module Location    Instrument Cluster)\\nPush To Start: PATS Type C (Remote Function Actuator / Keyless Vehicle Module\n",
      "Name: 3271, dtype: object\n",
      "Year                                                                                                                  2013\n",
      "Make                                                                                                                  Ford\n",
      "Model                                                                                                                Focus\n",
      "ParameterReset                                                                                    Parameter Reset Required\n",
      "PATS Type                                                                                     Keyed Ignition: PATS Type C \n",
      "PATS Module Location    Instrument Cluster)\\nPush To Start: PATS Type C (Remote Function Actuator / Keyless Vehicle Module\n",
      "Name: 3274, dtype: object\n",
      "Year                                                                                                                  2013\n",
      "Make                                                                                                                  Ford\n",
      "Model                                                                                                               Taurus\n",
      "ParameterReset                                                                                    Parameter Reset Required\n",
      "PATS Type                                                                                     Keyed Ignition: PATS Type C \n",
      "PATS Module Location    Instrument Cluster)\\nPush To Start: PATS Type C (Remote Function Actuator / Keyless Vehicle Module\n",
      "Name: 3280, dtype: object\n",
      "[2576, 2806, 2812, 3038, 3040, 3045, 3271, 3274, 3280]\n"
     ]
    },
    {
     "name": "stderr",
     "output_type": "stream",
     "text": [
      "C:\\Users\\Weverson Barbieri\\AppData\\Local\\Temp\\ipykernel_12240\\3384685316.py:2: SettingWithCopyWarning: \n",
      "A value is trying to be set on a copy of a slice from a DataFrame.\n",
      "Try using .loc[row_indexer,col_indexer] = value instead\n",
      "\n",
      "See the caveats in the documentation: https://pandas.pydata.org/pandas-docs/stable/user_guide/indexing.html#returning-a-view-versus-a-copy\n",
      "  df_ford[['PATS Type', 'PATS Module Location']] = df_ford['Security'].str.split('(', n=1, expand=True)\n",
      "C:\\Users\\Weverson Barbieri\\AppData\\Local\\Temp\\ipykernel_12240\\3384685316.py:2: SettingWithCopyWarning: \n",
      "A value is trying to be set on a copy of a slice from a DataFrame.\n",
      "Try using .loc[row_indexer,col_indexer] = value instead\n",
      "\n",
      "See the caveats in the documentation: https://pandas.pydata.org/pandas-docs/stable/user_guide/indexing.html#returning-a-view-versus-a-copy\n",
      "  df_ford[['PATS Type', 'PATS Module Location']] = df_ford['Security'].str.split('(', n=1, expand=True)\n",
      "C:\\Users\\Weverson Barbieri\\AppData\\Local\\Temp\\ipykernel_12240\\370588408.py:2: SettingWithCopyWarning: \n",
      "A value is trying to be set on a copy of a slice from a DataFrame.\n",
      "Try using .loc[row_indexer,col_indexer] = value instead\n",
      "\n",
      "See the caveats in the documentation: https://pandas.pydata.org/pandas-docs/stable/user_guide/indexing.html#returning-a-view-versus-a-copy\n",
      "  df_ford['PATS Module Location'] = df_ford['PATS Module Location'].str.strip(')')\n",
      "C:\\Users\\Weverson Barbieri\\AppData\\Local\\Temp\\ipykernel_12240\\2608885907.py:2: UserWarning: Boolean Series key will be reindexed to match DataFrame index.\n",
      "  df_ford_last_update = df_ford_removed_duplicated[(df_ford_updated['Model'] == 'Escape') & (df_ford_updated['Year'] >= 2009)]\n",
      "C:\\Users\\Weverson Barbieri\\AppData\\Local\\Temp\\ipykernel_12240\\740414122.py:2: SettingWithCopyWarning: \n",
      "A value is trying to be set on a copy of a slice from a DataFrame.\n",
      "Try using .loc[row_indexer,col_indexer] = value instead\n",
      "\n",
      "See the caveats in the documentation: https://pandas.pydata.org/pandas-docs/stable/user_guide/indexing.html#returning-a-view-versus-a-copy\n",
      "  df_mercury[['PATS Type', 'PATS Module Location']] = df_mercury['Security'].str.split('(', n=1, expand=True)\n",
      "C:\\Users\\Weverson Barbieri\\AppData\\Local\\Temp\\ipykernel_12240\\740414122.py:2: SettingWithCopyWarning: \n",
      "A value is trying to be set on a copy of a slice from a DataFrame.\n",
      "Try using .loc[row_indexer,col_indexer] = value instead\n",
      "\n",
      "See the caveats in the documentation: https://pandas.pydata.org/pandas-docs/stable/user_guide/indexing.html#returning-a-view-versus-a-copy\n",
      "  df_mercury[['PATS Type', 'PATS Module Location']] = df_mercury['Security'].str.split('(', n=1, expand=True)\n",
      "C:\\Users\\Weverson Barbieri\\AppData\\Local\\Temp\\ipykernel_12240\\4086986821.py:2: SettingWithCopyWarning: \n",
      "A value is trying to be set on a copy of a slice from a DataFrame.\n",
      "Try using .loc[row_indexer,col_indexer] = value instead\n",
      "\n",
      "See the caveats in the documentation: https://pandas.pydata.org/pandas-docs/stable/user_guide/indexing.html#returning-a-view-versus-a-copy\n",
      "  df_mercury['PATS Module Location'] = df_mercury['PATS Module Location'].str.strip(')')\n",
      "<>:2: SyntaxWarning: invalid escape sequence '\\L'\n",
      "C:\\Users\\Weverson Barbieri\\AppData\\Local\\Temp\\ipykernel_12240\\394097893.py:2: SyntaxWarning: invalid escape sequence '\\L'\n",
      "  df_chevrolet = pd.read_excel('C:\\Language_Projects\\Language_Projects\\Python\\Flagship_1\\Immo_Assistant.app\\data\\chevrolet_hardware_list.xlsx')\n",
      "<>:2: SyntaxWarning: invalid escape sequence '\\L'\n",
      "C:\\Users\\Weverson Barbieri\\AppData\\Local\\Temp\\ipykernel_12240\\1625161208.py:2: SyntaxWarning: invalid escape sequence '\\L'\n",
      "  list_clonable_modules = pd.read_excel('C:\\Language_Projects\\Language_Projects\\Python\\Flagship_1\\Immo_Assistant.app\\data\\List of Clonable Modules.xlsx')\n"
     ]
    },
    {
     "name": "stdout",
     "output_type": "stream",
     "text": [
      "Year: 2005\n",
      "Make: Cadillac\n",
      "Model: CTS\n",
      "Security: PK3+\n",
      "Hardware Part Number: U44G-G45\n",
      "Is this hardware clonable?: No\n",
      "['Pontiac', 'Mazda', 'Acura', 'Honda', 'BMW', 'Lexus', 'Toyota', 'Chrysler', 'Dodge', 'Infiniti', 'Jaguar', 'Lincoln', 'Nissan', 'Plymouth', 'Jeep', 'Audi', 'Mitsubishi', 'Volkswagen', 'Land Rover', 'Mini', 'Rolls-Royce', 'Scion', 'Subaru', 'Fiat']\n",
      "['Pontiac', 'Mazda', 'Acura', 'Honda', 'BMW', 'Lexus', 'Toyota', 'Chrysler', 'Dodge', 'Infiniti', 'Jaguar', 'Lincoln', 'Nissan', 'Plymouth', 'Jeep', 'Audi', 'Mitsubishi', 'Volkswagen', 'Land Rover', 'Mini', 'Rolls-Royce', 'Scion', 'Subaru', 'Fiat']\n"
     ]
    },
    {
     "name": "stderr",
     "output_type": "stream",
     "text": [
      "<>:2: SyntaxWarning: invalid escape sequence '\\L'\n",
      "C:\\Users\\Weverson Barbieri\\AppData\\Local\\Temp\\ipykernel_12240\\1252695280.py:2: SyntaxWarning: invalid escape sequence '\\L'\n",
      "  df_ford_last.to_csv('C:\\Language_Projects\\Language_Projects\\Python\\Flagship_1\\Immo_Assistant.app\\dataframe_each_make_xlsx_file\\df_ford.csv', index=False)\n",
      "<>:2: SyntaxWarning: invalid escape sequence '\\L'\n",
      "C:\\Users\\Weverson Barbieri\\AppData\\Local\\Temp\\ipykernel_12240\\1035310976.py:2: SyntaxWarning: invalid escape sequence '\\L'\n",
      "  df_mercury_last.to_csv('C:\\Language_Projects\\Language_Projects\\Python\\Flagship_1\\Immo_Assistant.app\\dataframe_each_make_xlsx_file\\df_mercury.csv', index=False)\n",
      "<>:2: SyntaxWarning: invalid escape sequence '\\L'\n",
      "C:\\Users\\Weverson Barbieri\\AppData\\Local\\Temp\\ipykernel_12240\\526802729.py:2: SyntaxWarning: invalid escape sequence '\\L'\n",
      "  df_chevrolet_final_verson.to_csv('C:\\Language_Projects\\Language_Projects\\Python\\Flagship_1\\Immo_Assistant.app\\dataframe_csv_files\\df_chevy_filtered.csv', index=False)\n",
      "<>:2: SyntaxWarning: invalid escape sequence '\\L'\n",
      "C:\\Users\\Weverson Barbieri\\AppData\\Local\\Temp\\ipykernel_12240\\2774392975.py:2: SyntaxWarning: invalid escape sequence '\\L'\n",
      "  df_cadillac_final_version.to_csv('C:\\Language_Projects\\Language_Projects\\Python\\Flagship_1\\Immo_Assistant.app\\dataframe_csv_files\\df_cadillac.csv', index=False)\n",
      "<>:2: SyntaxWarning: invalid escape sequence '\\L'\n",
      "C:\\Users\\Weverson Barbieri\\AppData\\Local\\Temp\\ipykernel_12240\\3989441650.py:2: SyntaxWarning: invalid escape sequence '\\L'\n",
      "  df_buick_final_version.to_csv('C:\\Language_Projects\\Language_Projects\\Python\\Flagship_1\\Immo_Assistant.app\\dataframe_csv_files\\df_buick.csv', index=False)\n",
      "<>:2: SyntaxWarning: invalid escape sequence '\\L'\n",
      "C:\\Users\\Weverson Barbieri\\AppData\\Local\\Temp\\ipykernel_12240\\2684976693.py:2: SyntaxWarning: invalid escape sequence '\\L'\n",
      "  df_oldsmobile_final_version.to_csv('C:\\Language_Projects\\Language_Projects\\Python\\Flagship_1\\Immo_Assistant.app\\dataframe_csv_files\\df_oldsmobile.csv', index=False)\n",
      "<>:2: SyntaxWarning: invalid escape sequence '\\L'\n",
      "C:\\Users\\Weverson Barbieri\\AppData\\Local\\Temp\\ipykernel_12240\\4218296152.py:2: SyntaxWarning: invalid escape sequence '\\L'\n",
      "  df_gmc_final_version.to_csv('C:\\Language_Projects\\Language_Projects\\Python\\Flagship_1\\Immo_Assistant.app\\dataframe_csv_files\\df_gmc.csv', index=False)\n",
      "<>:2: SyntaxWarning: invalid escape sequence '\\L'\n",
      "C:\\Users\\Weverson Barbieri\\AppData\\Local\\Temp\\ipykernel_12240\\1275824554.py:2: SyntaxWarning: invalid escape sequence '\\L'\n",
      "  df_saturn_final_verson.to_csv('C:\\Language_Projects\\Language_Projects\\Python\\Flagship_1\\Immo_Assistant.app\\dataframe_csv_files\\df_saturn.csv', index=False)\n",
      "<>:2: SyntaxWarning: invalid escape sequence '\\L'\n",
      "C:\\Users\\Weverson Barbieri\\AppData\\Local\\Temp\\ipykernel_12240\\168881272.py:2: SyntaxWarning: invalid escape sequence '\\L'\n",
      "  df_hummer_final_version.to_csv('C:\\Language_Projects\\Language_Projects\\Python\\Flagship_1\\Immo_Assistant.app\\dataframe_csv_files\\df_hummer.csv', index=False)\n"
     ]
    }
   ],
   "source": [
    "# Import all data from the main df noebook (Immo_Assistant.app) \n",
    "%run Immo_Assistant.app.ipynb"
   ]
  },
  {
   "cell_type": "code",
   "execution_count": 3,
   "metadata": {},
   "outputs": [
    {
     "name": "stdout",
     "output_type": "stream",
     "text": [
      "['Pontiac', 'Mazda', 'Acura', 'Honda', 'BMW', 'Lexus', 'Toyota', 'Chrysler', 'Dodge', 'Infiniti', 'Jaguar', 'Lincoln', 'Nissan', 'Plymouth', 'Jeep', 'Audi', 'Mitsubishi', 'Volkswagen', 'Land Rover', 'Mini', 'Rolls-Royce', 'Scion', 'Subaru', 'Fiat']\n"
     ]
    }
   ],
   "source": [
    "# Print the check list to confirm the next df should be created\n",
    "print(make_to_be_done)"
   ]
  },
  {
   "cell_type": "code",
   "execution_count": 4,
   "metadata": {},
   "outputs": [],
   "source": [
    "# Jeep is the next df to be created\n",
    "df_jeep = create_make_df('Jeep')"
   ]
  },
  {
   "cell_type": "code",
   "execution_count": 5,
   "metadata": {},
   "outputs": [
    {
     "name": "stdout",
     "output_type": "stream",
     "text": [
      "<class 'pandas.core.frame.DataFrame'>\n",
      "Index: 98 entries, 351 to 3317\n",
      "Data columns (total 5 columns):\n",
      " #   Column          Non-Null Count  Dtype \n",
      "---  ------          --------------  ----- \n",
      " 0   Year            98 non-null     int64 \n",
      " 1   Make            98 non-null     object\n",
      " 2   Model           98 non-null     string\n",
      " 3   Security        95 non-null     object\n",
      " 4   ParameterReset  28 non-null     object\n",
      "dtypes: int64(1), object(3), string(1)\n",
      "memory usage: 4.6+ KB\n"
     ]
    }
   ],
   "source": [
    "# Check how the df is\n",
    "df_jeep.info()"
   ]
  },
  {
   "cell_type": "code",
   "execution_count": 6,
   "metadata": {},
   "outputs": [],
   "source": [
    "# Create a list w/ strings/values from column model\n",
    "jeep_model_list = strings_from_column(df_jeep, 'Model')"
   ]
  },
  {
   "cell_type": "code",
   "execution_count": 7,
   "metadata": {},
   "outputs": [
    {
     "name": "stdout",
     "output_type": "stream",
     "text": [
      "{'Grand Cherokee Limited', 'Liberty', 'Grand Cherokee Overland', 'Compass', 'Cherokee', 'Commander', 'Wrangler', 'Patriot', 'Grand Cherokee Laredo'}\n"
     ]
    }
   ],
   "source": [
    "# Print the list\n",
    "print(jeep_model_list)"
   ]
  },
  {
   "cell_type": "markdown",
   "metadata": {},
   "source": [
    "No changes are needed at the strings/values from column 'Model'."
   ]
  },
  {
   "cell_type": "code",
   "execution_count": 8,
   "metadata": {},
   "outputs": [],
   "source": [
    "# Create a list w/ strings/values from column security\n",
    "jeep_security_list = strings_from_column(df_jeep, 'Security')"
   ]
  },
  {
   "cell_type": "code",
   "execution_count": 9,
   "metadata": {},
   "outputs": [
    {
     "data": {
      "text/plain": [
       "{'- Std\\nwith power windows & power locks ----',\n",
       " 'Opt',\n",
       " 'Opt\\nLate availability',\n",
       " 'Opt (Std on Sahara)',\n",
       " 'Std',\n",
       " 'Std\\nw/o  power windows\\n& power locks',\n",
       " 'Std\\nw/o  power windows & power locks',\n",
       " 'Std\\nw/o power windows\\n& power locks',\n",
       " 'Std\\nw/o power windows & power locks',\n",
       " 'Std\\nwith power windows\\n& power locks',\n",
       " 'Std\\nwith power windows & power locks',\n",
       " 'Std with power\\nwindows & power locks',\n",
       " nan}"
      ]
     },
     "execution_count": 9,
     "metadata": {},
     "output_type": "execute_result"
    }
   ],
   "source": [
    "# Print the list\n",
    "jeep_security_list"
   ]
  },
  {
   "cell_type": "code",
   "execution_count": 10,
   "metadata": {},
   "outputs": [
    {
     "name": "stderr",
     "output_type": "stream",
     "text": [
      "C:\\Users\\Weverson Barbieri\\AppData\\Local\\Temp\\ipykernel_12240\\1021279373.py:2: SettingWithCopyWarning: \n",
      "A value is trying to be set on a copy of a slice from a DataFrame.\n",
      "Try using .loc[row_indexer,col_indexer] = value instead\n",
      "\n",
      "See the caveats in the documentation: https://pandas.pydata.org/pandas-docs/stable/user_guide/indexing.html#returning-a-view-versus-a-copy\n",
      "  df_jeep['Security'] = df_jeep['Security'].str.replace('\\n', ' ', regex=True)\n"
     ]
    }
   ],
   "source": [
    "# Remove the charactere '\\n'\n",
    "df_jeep['Security'] = df_jeep['Security'].str.replace('\\n', ' ', regex=True)"
   ]
  },
  {
   "cell_type": "code",
   "execution_count": 11,
   "metadata": {},
   "outputs": [
    {
     "name": "stderr",
     "output_type": "stream",
     "text": [
      "C:\\Users\\Weverson Barbieri\\AppData\\Local\\Temp\\ipykernel_12240\\2247910758.py:2: FutureWarning: A value is trying to be set on a copy of a DataFrame or Series through chained assignment using an inplace method.\n",
      "The behavior will change in pandas 3.0. This inplace method will never work because the intermediate object on which we are setting values always behaves as a copy.\n",
      "\n",
      "For example, when doing 'df[col].method(value, inplace=True)', try using 'df.method({col: value}, inplace=True)' or df[col] = df[col].method(value) instead, to perform the operation inplace on the original object.\n",
      "\n",
      "\n",
      "  df_jeep['Security'].fillna('Information not available', inplace=True)\n",
      "C:\\Users\\Weverson Barbieri\\AppData\\Local\\Temp\\ipykernel_12240\\2247910758.py:2: SettingWithCopyWarning: \n",
      "A value is trying to be set on a copy of a slice from a DataFrame\n",
      "\n",
      "See the caveats in the documentation: https://pandas.pydata.org/pandas-docs/stable/user_guide/indexing.html#returning-a-view-versus-a-copy\n",
      "  df_jeep['Security'].fillna('Information not available', inplace=True)\n"
     ]
    }
   ],
   "source": [
    "# Fill out null values\n",
    "df_jeep['Security'].fillna('Information not available', inplace=True)"
   ]
  },
  {
   "cell_type": "code",
   "execution_count": 12,
   "metadata": {},
   "outputs": [
    {
     "name": "stderr",
     "output_type": "stream",
     "text": [
      "C:\\Users\\Weverson Barbieri\\AppData\\Local\\Temp\\ipykernel_12240\\3939534279.py:2: SettingWithCopyWarning: \n",
      "A value is trying to be set on a copy of a slice from a DataFrame.\n",
      "Try using .loc[row_indexer,col_indexer] = value instead\n",
      "\n",
      "See the caveats in the documentation: https://pandas.pydata.org/pandas-docs/stable/user_guide/indexing.html#returning-a-view-versus-a-copy\n",
      "  df_jeep['Security'] = df_jeep['Security'].str.replace('-', '', regex=True)\n"
     ]
    }
   ],
   "source": [
    "# Remove the charactere '-'\n",
    "df_jeep['Security'] = df_jeep['Security'].str.replace('-', '', regex=True)"
   ]
  },
  {
   "cell_type": "code",
   "execution_count": 13,
   "metadata": {},
   "outputs": [],
   "source": [
    "# List of strings to be found in the column 'Security'\n",
    "string_std_with_list = []\n",
    "# List of indexes to be found in the column 'Security'\n",
    "indexes_string_with_list = []\n",
    "\n",
    "# Loop to find the string 'Std with' in the column 'Security'\n",
    "for index, row in df_jeep.iterrows():\n",
    "    if 'Std with' in row['Security']:\n",
    "        string_std_with_list.append(row)\n",
    "        indexes_string_with_list.append(index)"
   ]
  },
  {
   "cell_type": "code",
   "execution_count": 14,
   "metadata": {},
   "outputs": [],
   "source": [
    "# Create a df with the list of strings found\n",
    "df_wrangler_compass_std_with = pd.DataFrame(string_std_with_list)"
   ]
  },
  {
   "cell_type": "code",
   "execution_count": 15,
   "metadata": {},
   "outputs": [],
   "source": [
    "# Replace the string 'Wrangler' by 'Wrangler (W/ power windows & power locks)'\n",
    "df_wrangler_compass_std_with['Model'] = df_wrangler_compass_std_with['Model'].str.replace('Wrangler', 'Wrangler (W/ power windows & power locks)', regex=True)"
   ]
  },
  {
   "cell_type": "code",
   "execution_count": 16,
   "metadata": {},
   "outputs": [],
   "source": [
    "# Replace the string 'Compass' by 'Compass (W/ power windows & power locks)'\n",
    "df_wrangler_compass_std_with['Model'] = df_wrangler_compass_std_with['Model'].str.replace('Compass', 'Compass (W/ power windows & power locks)', regex=True)"
   ]
  },
  {
   "cell_type": "code",
   "execution_count": 17,
   "metadata": {},
   "outputs": [],
   "source": [
    "# Replace the string 'Std with' by 'Std'\n",
    "df_wrangler_compass_std_with['Security'] = df_wrangler_compass_std_with['Security'].str.replace('Std with power windows & power locks', 'Std', regex=True)"
   ]
  },
  {
   "cell_type": "code",
   "execution_count": 18,
   "metadata": {},
   "outputs": [],
   "source": [
    "# List of strings to be found in the column 'Security'\n",
    "string_std_wo_list = []\n",
    "# List of indexes to be found in the column 'Security'\n",
    "indexes_string_wo_list = []\n",
    "\n",
    "# Loop to find the string 'Std with' in the column 'Security'\n",
    "for index, row in df_jeep.iterrows():\n",
    "    if 'Std w/o' in row['Security']:\n",
    "        string_std_wo_list.append(row)\n",
    "        indexes_string_wo_list.append(index)"
   ]
  },
  {
   "cell_type": "code",
   "execution_count": 19,
   "metadata": {},
   "outputs": [],
   "source": [
    "# Create a df with the list of strings found\n",
    "df_wrangler_compass_std_wo = pd.DataFrame(string_std_wo_list)"
   ]
  },
  {
   "cell_type": "code",
   "execution_count": 20,
   "metadata": {},
   "outputs": [],
   "source": [
    "# Replace the string 'Wrangler' by 'Wrangler (W/O power windows & power locks)'\n",
    "df_wrangler_compass_std_wo['Model'] = df_wrangler_compass_std_wo['Model'].str.replace('Wrangler', 'Wrangler (W/O power windows & power locks)', regex=True)"
   ]
  },
  {
   "cell_type": "code",
   "execution_count": 21,
   "metadata": {},
   "outputs": [],
   "source": [
    "# Replace the string 'Wrangler' by 'Wrangler (W/O power windows & power locks)'\n",
    "df_wrangler_compass_std_wo['Model'] = df_wrangler_compass_std_wo['Model'].str.replace('Compass', 'Compass (W/O power windows & power locks)', regex=True)"
   ]
  },
  {
   "cell_type": "code",
   "execution_count": 22,
   "metadata": {},
   "outputs": [],
   "source": [
    "# Replace the string 'Std wo' by 'Std' using the regular expression '\\s*' between the spaces\n",
    "df_wrangler_compass_std_wo['Security'] = df_wrangler_compass_std_wo['Security'].str.replace(r'Std\\s*w/o\\s*power\\s*windows\\s*&\\s*power\\s*locks', 'Std', regex=True)"
   ]
  },
  {
   "cell_type": "code",
   "execution_count": 23,
   "metadata": {},
   "outputs": [],
   "source": [
    "# Drop the indexes found in the list\n",
    "df_jeep_dropped_indexes = df_jeep.drop(indexes_string_with_list + indexes_string_wo_list)"
   ]
  },
  {
   "cell_type": "code",
   "execution_count": 24,
   "metadata": {},
   "outputs": [],
   "source": [
    "# Concatenate the df's\n",
    "df_jeep_compass_wrangler_updated = pd.concat([df_jeep_dropped_indexes, df_wrangler_compass_std_with, df_wrangler_compass_std_wo])"
   ]
  },
  {
   "cell_type": "code",
   "execution_count": 25,
   "metadata": {},
   "outputs": [],
   "source": [
    "# Sort the df by the column 'Year'\n",
    "df_jeep_sorted = df_jeep_compass_wrangler_updated.sort_values(by='Year')"
   ]
  },
  {
   "cell_type": "code",
   "execution_count": 26,
   "metadata": {},
   "outputs": [],
   "source": [
    "# Create a list w/ strings/values from column 'ParameterReset'\n",
    "jeep_pr_list = strings_from_column(df_jeep_compass_wrangler_updated, 'ParameterReset')"
   ]
  },
  {
   "cell_type": "code",
   "execution_count": 27,
   "metadata": {},
   "outputs": [
    {
     "data": {
      "text/plain": [
       "{'Sentry Key Immobilizer System = Standard equipment',\n",
       " nan,\n",
       " '“SKREES” Sentry Key Remote Entry System (same as SKIS, the key remote entry module was combined with the Sentry Key Immobilizer Module, it’s still Sentry Key)'}"
      ]
     },
     "execution_count": 27,
     "metadata": {},
     "output_type": "execute_result"
    }
   ],
   "source": [
    "# Print the list\n",
    "jeep_pr_list"
   ]
  },
  {
   "cell_type": "markdown",
   "metadata": {},
   "source": [
    "No changes are needed, just need to fill out the null values."
   ]
  },
  {
   "cell_type": "code",
   "execution_count": 28,
   "metadata": {},
   "outputs": [
    {
     "name": "stderr",
     "output_type": "stream",
     "text": [
      "C:\\Users\\Weverson Barbieri\\AppData\\Local\\Temp\\ipykernel_12240\\1315897324.py:2: FutureWarning: A value is trying to be set on a copy of a DataFrame or Series through chained assignment using an inplace method.\n",
      "The behavior will change in pandas 3.0. This inplace method will never work because the intermediate object on which we are setting values always behaves as a copy.\n",
      "\n",
      "For example, when doing 'df[col].method(value, inplace=True)', try using 'df.method({col: value}, inplace=True)' or df[col] = df[col].method(value) instead, to perform the operation inplace on the original object.\n",
      "\n",
      "\n",
      "  df_jeep_sorted['ParameterReset'].fillna('Information not available', inplace=True)\n"
     ]
    }
   ],
   "source": [
    "# Fill out null values at column 'ParameterReset'\n",
    "df_jeep_sorted['ParameterReset'].fillna('Information not available', inplace=True)"
   ]
  },
  {
   "cell_type": "code",
   "execution_count": 29,
   "metadata": {},
   "outputs": [],
   "source": [
    "# Change the column 'ParameterReset' for 'Security System Addiotional info' as parameter reset is only for Ford\n",
    "df_jeep_change_column = df_jeep_sorted.rename(columns={'ParameterReset': 'Jeep Security System Addiotional Info'})"
   ]
  },
  {
   "cell_type": "code",
   "execution_count": 30,
   "metadata": {},
   "outputs": [
    {
     "data": {
      "text/plain": [
       "Index(['Year', 'Make', 'Model', 'Security',\n",
       "       'Jeep Security System Addiotional Info'],\n",
       "      dtype='object')"
      ]
     },
     "execution_count": 30,
     "metadata": {},
     "output_type": "execute_result"
    }
   ],
   "source": [
    "df_jeep_change_column.columns"
   ]
  },
  {
   "cell_type": "code",
   "execution_count": 264,
   "metadata": {},
   "outputs": [],
   "source": [
    "# Download the df to a excel file\n",
    "df_jeep_updated.to_excel('df_jeep_updated.xlsx')"
   ]
  }
 ],
 "metadata": {
  "kernelspec": {
   "display_name": "Python 3",
   "language": "python",
   "name": "python3"
  },
  "language_info": {
   "codemirror_mode": {
    "name": "ipython",
    "version": 3
   },
   "file_extension": ".py",
   "mimetype": "text/x-python",
   "name": "python",
   "nbconvert_exporter": "python",
   "pygments_lexer": "ipython3",
   "version": "3.12.2"
  }
 },
 "nbformat": 4,
 "nbformat_minor": 2
}
