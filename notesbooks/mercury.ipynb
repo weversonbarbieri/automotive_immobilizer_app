{
 "cells": [
  {
   "cell_type": "code",
   "execution_count": 1,
   "id": "8dea93c9",
   "metadata": {},
   "outputs": [],
   "source": [
    "import pandas as pd\n",
    "import os\n",
    "from supabase import create_client, Client"
   ]
  },
  {
   "cell_type": "code",
   "execution_count": 29,
   "id": "da3def89",
   "metadata": {},
   "outputs": [],
   "source": [
    "# Get Supabase URL from environment variable\n",
    "url: str = os.environ.get(\"NEXT_PUBLIC_SUPABASE_URL\")\n",
    "# Get Supabase anonymous key from environment variable \n",
    "key: str = os.environ.get(\"NEXT_PUBLIC_SUPABASE_ANON_KEY\")"
   ]
  },
  {
   "cell_type": "code",
   "execution_count": 30,
   "id": "b7665a4f",
   "metadata": {},
   "outputs": [],
   "source": [
    "# Initialize Supabase client with URL and anonymous key\n",
    "Supabase: Client = create_client(url, key)"
   ]
  },
  {
   "cell_type": "code",
   "execution_count": 31,
   "id": "ecb68147",
   "metadata": {},
   "outputs": [],
   "source": [
    "# Query all records from year_make_model_table in Supabase and store the response \n",
    "response = (Supabase.table(\"year_make_model_table\").select(\"*\").execute())"
   ]
  },
  {
   "cell_type": "code",
   "execution_count": 32,
   "id": "bf50f7ec",
   "metadata": {},
   "outputs": [],
   "source": [
    "# Store the queried data from Supabase response into a variable\n",
    "year_make_model_data = response.data"
   ]
  },
  {
   "cell_type": "code",
   "execution_count": 33,
   "id": "2d33012e",
   "metadata": {},
   "outputs": [],
   "source": [
    "# Convert the data to dataframe format\n",
    "df = pd.DataFrame(year_make_model_data)"
   ]
  },
  {
   "cell_type": "code",
   "execution_count": 34,
   "id": "fb15ccc5",
   "metadata": {},
   "outputs": [],
   "source": [
    "# Converting all values in column Model to string, as some of models are numbers, for instance BMWs 318, 328, 525\n",
    "df = df.astype({'model':'string'})"
   ]
  },
  {
   "cell_type": "code",
   "execution_count": 35,
   "id": "716abeee",
   "metadata": {},
   "outputs": [
    {
     "name": "stdout",
     "output_type": "stream",
     "text": [
      "<class 'pandas.core.frame.DataFrame'>\n",
      "RangeIndex: 1000 entries, 0 to 999\n",
      "Data columns (total 8 columns):\n",
      " #   Column           Non-Null Count  Dtype \n",
      "---  ------           --------------  ----- \n",
      " 0   id               1000 non-null   int64 \n",
      " 1   year             1000 non-null   object\n",
      " 2   make             1000 non-null   object\n",
      " 3   model            1000 non-null   string\n",
      " 4   security         767 non-null    object\n",
      " 5   parameter_reset  267 non-null    object\n",
      " 6   created_at       1000 non-null   object\n",
      " 7   updated_at       1000 non-null   object\n",
      "dtypes: int64(1), object(6), string(1)\n",
      "memory usage: 62.6+ KB\n"
     ]
    }
   ],
   "source": [
    "# Confirm if the Dtype from the column Model changed to string.\n",
    "df.info()"
   ]
  },
  {
   "cell_type": "code",
   "execution_count": 36,
   "id": "a9379171",
   "metadata": {},
   "outputs": [],
   "source": [
    "# Drop unnecessary columns\n",
    "df_dropped_columns = df.drop(columns=['id', 'created_at', 'updated_at'])"
   ]
  },
  {
   "cell_type": "code",
   "execution_count": 37,
   "id": "3cc8ccce",
   "metadata": {},
   "outputs": [],
   "source": [
    "# Function to create a df based on the make\n",
    "def create_df_make(make, df):\n",
    "    df_make_filtered = df[df['make'] == make]\n",
    "    return df_make_filtered"
   ]
  },
  {
   "cell_type": "code",
   "execution_count": 38,
   "id": "a761d499",
   "metadata": {},
   "outputs": [],
   "source": [
    "# Create the df with Mercury data\n",
    "df_mercury = create_df_make('Mercury', df_dropped_columns)"
   ]
  },
  {
   "cell_type": "code",
   "execution_count": 39,
   "id": "83f5a428",
   "metadata": {},
   "outputs": [
    {
     "name": "stdout",
     "output_type": "stream",
     "text": [
      "<class 'pandas.core.frame.DataFrame'>\n",
      "Index: 24 entries, 204 to 929\n",
      "Data columns (total 5 columns):\n",
      " #   Column           Non-Null Count  Dtype \n",
      "---  ------           --------------  ----- \n",
      " 0   year             24 non-null     object\n",
      " 1   make             24 non-null     object\n",
      " 2   model            24 non-null     string\n",
      " 3   security         24 non-null     object\n",
      " 4   parameter_reset  24 non-null     object\n",
      "dtypes: object(4), string(1)\n",
      "memory usage: 1.1+ KB\n"
     ]
    }
   ],
   "source": [
    "# Print the df info\n",
    "df_mercury.info()"
   ]
  },
  {
   "cell_type": "code",
   "execution_count": 40,
   "id": "e30d1882",
   "metadata": {},
   "outputs": [
    {
     "data": {
      "text/plain": [
       "model\n",
       "Grand Marquis           5\n",
       "Mountaineer (4dr)       5\n",
       "Sable (Duratec only)    4\n",
       "Cougar                  4\n",
       "Mystique (V-6 only)     3\n",
       "Sable                   3\n",
       "Name: count, dtype: Int64"
      ]
     },
     "execution_count": 40,
     "metadata": {},
     "output_type": "execute_result"
    }
   ],
   "source": [
    "# Show the data under column model\n",
    "df_mercury['model'].value_counts() "
   ]
  },
  {
   "cell_type": "markdown",
   "id": "64c6b65f",
   "metadata": {},
   "source": [
    "### Note: there's no need to modify the model names as shown above"
   ]
  },
  {
   "cell_type": "code",
   "execution_count": 41,
   "id": "d8aa79b5",
   "metadata": {},
   "outputs": [],
   "source": [
    "# Show the data under column security\n",
    "mercury_pats_type_list = df_mercury['security'].value_counts()"
   ]
  },
  {
   "cell_type": "markdown",
   "id": "268c5f50",
   "metadata": {},
   "source": [
    "### Security Column Data Analysis\n",
    "After analyzing all data within the 'security' column, it was identified two combined pieces of information that need to be separated:\n",
    "\n",
    "1. Security system name and theft module location\n",
    "2. Multiple security systems defined by manufacturing date appearing in the same row"
   ]
  },
  {
   "cell_type": "code",
   "execution_count": 42,
   "id": "8b6c7444",
   "metadata": {},
   "outputs": [
    {
     "name": "stdout",
     "output_type": "stream",
     "text": [
      "<class 'pandas.core.frame.DataFrame'>\n",
      "RangeIndex: 1000 entries, 0 to 999\n",
      "Data columns (total 8 columns):\n",
      " #   Column           Non-Null Count  Dtype \n",
      "---  ------           --------------  ----- \n",
      " 0   id               1000 non-null   int64 \n",
      " 1   year             1000 non-null   object\n",
      " 2   make             1000 non-null   object\n",
      " 3   model            1000 non-null   string\n",
      " 4   security         767 non-null    object\n",
      " 5   parameter_reset  267 non-null    object\n",
      " 6   created_at       1000 non-null   object\n",
      " 7   updated_at       1000 non-null   object\n",
      "dtypes: int64(1), object(6), string(1)\n",
      "memory usage: 62.6+ KB\n"
     ]
    },
    {
     "name": "stderr",
     "output_type": "stream",
     "text": [
      "<>:9: SyntaxWarning: invalid escape sequence '\\)'\n",
      "C:\\Users\\Weverson Barbieri\\AppData\\Local\\Temp\\ipykernel_2832\\2269462474.py:9: SyntaxWarning: invalid escape sequence '\\)'\n",
      "  df_make_security_type[['pats_type', 'pats_module_location']] = df_make_security_type['security'].str.split('(', n=1, expand=True).replace({'\\)': ''}, regex=True)\n",
      "C:\\Users\\Weverson Barbieri\\AppData\\Local\\Temp\\ipykernel_2832\\2269462474.py:9: SettingWithCopyWarning: \n",
      "A value is trying to be set on a copy of a slice from a DataFrame.\n",
      "Try using .loc[row_indexer,col_indexer] = value instead\n",
      "\n",
      "See the caveats in the documentation: https://pandas.pydata.org/pandas-docs/stable/user_guide/indexing.html#returning-a-view-versus-a-copy\n",
      "  df_make_security_type[['pats_type', 'pats_module_location']] = df_make_security_type['security'].str.split('(', n=1, expand=True).replace({'\\)': ''}, regex=True)\n",
      "C:\\Users\\Weverson Barbieri\\AppData\\Local\\Temp\\ipykernel_2832\\2269462474.py:9: SettingWithCopyWarning: \n",
      "A value is trying to be set on a copy of a slice from a DataFrame.\n",
      "Try using .loc[row_indexer,col_indexer] = value instead\n",
      "\n",
      "See the caveats in the documentation: https://pandas.pydata.org/pandas-docs/stable/user_guide/indexing.html#returning-a-view-versus-a-copy\n",
      "  df_make_security_type[['pats_type', 'pats_module_location']] = df_make_security_type['security'].str.split('(', n=1, expand=True).replace({'\\)': ''}, regex=True)\n",
      "C:\\Users\\Weverson Barbieri\\AppData\\Local\\Temp\\ipykernel_2832\\2269462474.py:9: SettingWithCopyWarning: \n",
      "A value is trying to be set on a copy of a slice from a DataFrame.\n",
      "Try using .loc[row_indexer,col_indexer] = value instead\n",
      "\n",
      "See the caveats in the documentation: https://pandas.pydata.org/pandas-docs/stable/user_guide/indexing.html#returning-a-view-versus-a-copy\n",
      "  df_make_security_type[['pats_type', 'pats_module_location']] = df_make_security_type['security'].str.split('(', n=1, expand=True).replace({'\\)': ''}, regex=True)\n",
      "C:\\Users\\Weverson Barbieri\\AppData\\Local\\Temp\\ipykernel_2832\\2269462474.py:9: SettingWithCopyWarning: \n",
      "A value is trying to be set on a copy of a slice from a DataFrame.\n",
      "Try using .loc[row_indexer,col_indexer] = value instead\n",
      "\n",
      "See the caveats in the documentation: https://pandas.pydata.org/pandas-docs/stable/user_guide/indexing.html#returning-a-view-versus-a-copy\n",
      "  df_make_security_type[['pats_type', 'pats_module_location']] = df_make_security_type['security'].str.split('(', n=1, expand=True).replace({'\\)': ''}, regex=True)\n",
      "C:\\Users\\Weverson Barbieri\\AppData\\Local\\Temp\\ipykernel_2832\\2269462474.py:9: SettingWithCopyWarning: \n",
      "A value is trying to be set on a copy of a slice from a DataFrame.\n",
      "Try using .loc[row_indexer,col_indexer] = value instead\n",
      "\n",
      "See the caveats in the documentation: https://pandas.pydata.org/pandas-docs/stable/user_guide/indexing.html#returning-a-view-versus-a-copy\n",
      "  df_make_security_type[['pats_type', 'pats_module_location']] = df_make_security_type['security'].str.split('(', n=1, expand=True).replace({'\\)': ''}, regex=True)\n",
      "C:\\Users\\Weverson Barbieri\\AppData\\Local\\Temp\\ipykernel_2832\\2269462474.py:9: SettingWithCopyWarning: \n",
      "A value is trying to be set on a copy of a slice from a DataFrame.\n",
      "Try using .loc[row_indexer,col_indexer] = value instead\n",
      "\n",
      "See the caveats in the documentation: https://pandas.pydata.org/pandas-docs/stable/user_guide/indexing.html#returning-a-view-versus-a-copy\n",
      "  df_make_security_type[['pats_type', 'pats_module_location']] = df_make_security_type['security'].str.split('(', n=1, expand=True).replace({'\\)': ''}, regex=True)\n",
      "C:\\Users\\Weverson Barbieri\\AppData\\Local\\Temp\\ipykernel_2832\\2269462474.py:9: SettingWithCopyWarning: \n",
      "A value is trying to be set on a copy of a slice from a DataFrame.\n",
      "Try using .loc[row_indexer,col_indexer] = value instead\n",
      "\n",
      "See the caveats in the documentation: https://pandas.pydata.org/pandas-docs/stable/user_guide/indexing.html#returning-a-view-versus-a-copy\n",
      "  df_make_security_type[['pats_type', 'pats_module_location']] = df_make_security_type['security'].str.split('(', n=1, expand=True).replace({'\\)': ''}, regex=True)\n",
      "C:\\Users\\Weverson Barbieri\\AppData\\Local\\Temp\\ipykernel_2832\\2269462474.py:9: SettingWithCopyWarning: \n",
      "A value is trying to be set on a copy of a slice from a DataFrame.\n",
      "Try using .loc[row_indexer,col_indexer] = value instead\n",
      "\n",
      "See the caveats in the documentation: https://pandas.pydata.org/pandas-docs/stable/user_guide/indexing.html#returning-a-view-versus-a-copy\n",
      "  df_make_security_type[['pats_type', 'pats_module_location']] = df_make_security_type['security'].str.split('(', n=1, expand=True).replace({'\\)': ''}, regex=True)\n",
      "<>:19: SyntaxWarning: invalid escape sequence '\\)'\n",
      "C:\\Users\\Weverson Barbieri\\AppData\\Local\\Temp\\ipykernel_2832\\2316733318.py:19: SyntaxWarning: invalid escape sequence '\\)'\n",
      "  df_make_built_date_exploded_lines[['pats_type', 'pats_module_location']] = df_make_built_date_exploded_lines['security'].str.split('(', n=1, expand=True).replace({'\\)': ''}, regex=True)\n",
      "C:\\Users\\Weverson Barbieri\\AppData\\Local\\Temp\\ipykernel_2832\\2316733318.py:4: SettingWithCopyWarning: \n",
      "A value is trying to be set on a copy of a slice from a DataFrame.\n",
      "Try using .loc[row_indexer,col_indexer] = value instead\n",
      "\n",
      "See the caveats in the documentation: https://pandas.pydata.org/pandas-docs/stable/user_guide/indexing.html#returning-a-view-versus-a-copy\n",
      "  df_make_filtered['Built Date'] = df_make_filtered['security'].str.contains(built_date, case=False)\n",
      "C:\\Users\\Weverson Barbieri\\AppData\\Local\\Temp\\ipykernel_2832\\2316733318.py:10: SettingWithCopyWarning: \n",
      "A value is trying to be set on a copy of a slice from a DataFrame.\n",
      "Try using .loc[row_indexer,col_indexer] = value instead\n",
      "\n",
      "See the caveats in the documentation: https://pandas.pydata.org/pandas-docs/stable/user_guide/indexing.html#returning-a-view-versus-a-copy\n",
      "  df_make_filtered_built_date['security'] = df_make_filtered_built_date['security'].str.split('\\n')\n",
      "C:\\Users\\Weverson Barbieri\\AppData\\Local\\Temp\\ipykernel_2832\\2316733318.py:4: SettingWithCopyWarning: \n",
      "A value is trying to be set on a copy of a slice from a DataFrame.\n",
      "Try using .loc[row_indexer,col_indexer] = value instead\n",
      "\n",
      "See the caveats in the documentation: https://pandas.pydata.org/pandas-docs/stable/user_guide/indexing.html#returning-a-view-versus-a-copy\n",
      "  df_make_filtered['Built Date'] = df_make_filtered['security'].str.contains(built_date, case=False)\n",
      "C:\\Users\\Weverson Barbieri\\AppData\\Local\\Temp\\ipykernel_2832\\2316733318.py:10: SettingWithCopyWarning: \n",
      "A value is trying to be set on a copy of a slice from a DataFrame.\n",
      "Try using .loc[row_indexer,col_indexer] = value instead\n",
      "\n",
      "See the caveats in the documentation: https://pandas.pydata.org/pandas-docs/stable/user_guide/indexing.html#returning-a-view-versus-a-copy\n",
      "  df_make_filtered_built_date['security'] = df_make_filtered_built_date['security'].str.split('\\n')\n"
     ]
    }
   ],
   "source": [
    "# Import the functions from Ford notebook as changes needed in the Mecury df are basically the same done on the Ford df \n",
    "%run df_ford.ipynb"
   ]
  },
  {
   "cell_type": "code",
   "execution_count": 43,
   "id": "14bd16d1",
   "metadata": {},
   "outputs": [
    {
     "data": {
      "text/plain": [
       "security\n",
       "PATS Type B (Stand Alone PATS Module)                                                                                                                   11\n",
       "PATS Type E (Powertrain Control Module)                                                                                                                 10\n",
       "PATS Type A (Stand Alone PATS Module)                                                                                                                    2\n",
       "Built February 1st 1998 or Earlier: PATS Type A (Stand Alone PATS Module)\\nBuilt February 2nd 1998 or Later: PATS Type E (Powertrain Control Module)     1\n",
       "Name: count, dtype: int64"
      ]
     },
     "execution_count": 43,
     "metadata": {},
     "output_type": "execute_result"
    }
   ],
   "source": [
    "# Print the pats type list\n",
    "mercury_pats_type_list"
   ]
  },
  {
   "cell_type": "code",
   "execution_count": 44,
   "id": "08eb42ad",
   "metadata": {},
   "outputs": [
    {
     "name": "stderr",
     "output_type": "stream",
     "text": [
      "C:\\Users\\Weverson Barbieri\\AppData\\Local\\Temp\\ipykernel_2832\\2269462474.py:9: SettingWithCopyWarning: \n",
      "A value is trying to be set on a copy of a slice from a DataFrame.\n",
      "Try using .loc[row_indexer,col_indexer] = value instead\n",
      "\n",
      "See the caveats in the documentation: https://pandas.pydata.org/pandas-docs/stable/user_guide/indexing.html#returning-a-view-versus-a-copy\n",
      "  df_make_security_type[['pats_type', 'pats_module_location']] = df_make_security_type['security'].str.split('(', n=1, expand=True).replace({'\\)': ''}, regex=True)\n",
      "C:\\Users\\Weverson Barbieri\\AppData\\Local\\Temp\\ipykernel_2832\\2269462474.py:9: SettingWithCopyWarning: \n",
      "A value is trying to be set on a copy of a slice from a DataFrame.\n",
      "Try using .loc[row_indexer,col_indexer] = value instead\n",
      "\n",
      "See the caveats in the documentation: https://pandas.pydata.org/pandas-docs/stable/user_guide/indexing.html#returning-a-view-versus-a-copy\n",
      "  df_make_security_type[['pats_type', 'pats_module_location']] = df_make_security_type['security'].str.split('(', n=1, expand=True).replace({'\\)': ''}, regex=True)\n"
     ]
    }
   ],
   "source": [
    "# Call the fuction to split the pats type b and module location info \n",
    "df_pats_b = split_security_info('PATS Type B (Stand Alone PATS Module)', df_mercury)"
   ]
  },
  {
   "cell_type": "code",
   "execution_count": 45,
   "id": "52dce87d",
   "metadata": {},
   "outputs": [
    {
     "name": "stderr",
     "output_type": "stream",
     "text": [
      "C:\\Users\\Weverson Barbieri\\AppData\\Local\\Temp\\ipykernel_2832\\2269462474.py:9: SettingWithCopyWarning: \n",
      "A value is trying to be set on a copy of a slice from a DataFrame.\n",
      "Try using .loc[row_indexer,col_indexer] = value instead\n",
      "\n",
      "See the caveats in the documentation: https://pandas.pydata.org/pandas-docs/stable/user_guide/indexing.html#returning-a-view-versus-a-copy\n",
      "  df_make_security_type[['pats_type', 'pats_module_location']] = df_make_security_type['security'].str.split('(', n=1, expand=True).replace({'\\)': ''}, regex=True)\n",
      "C:\\Users\\Weverson Barbieri\\AppData\\Local\\Temp\\ipykernel_2832\\2269462474.py:9: SettingWithCopyWarning: \n",
      "A value is trying to be set on a copy of a slice from a DataFrame.\n",
      "Try using .loc[row_indexer,col_indexer] = value instead\n",
      "\n",
      "See the caveats in the documentation: https://pandas.pydata.org/pandas-docs/stable/user_guide/indexing.html#returning-a-view-versus-a-copy\n",
      "  df_make_security_type[['pats_type', 'pats_module_location']] = df_make_security_type['security'].str.split('(', n=1, expand=True).replace({'\\)': ''}, regex=True)\n"
     ]
    }
   ],
   "source": [
    "# Call the fuction to split the pats type e and module location info \n",
    "df_pats_e = split_security_info('PATS Type E (Powertrain Control Module)', df_mercury)"
   ]
  },
  {
   "cell_type": "code",
   "execution_count": 46,
   "id": "62dbd4e7",
   "metadata": {},
   "outputs": [
    {
     "name": "stderr",
     "output_type": "stream",
     "text": [
      "C:\\Users\\Weverson Barbieri\\AppData\\Local\\Temp\\ipykernel_2832\\2269462474.py:9: SettingWithCopyWarning: \n",
      "A value is trying to be set on a copy of a slice from a DataFrame.\n",
      "Try using .loc[row_indexer,col_indexer] = value instead\n",
      "\n",
      "See the caveats in the documentation: https://pandas.pydata.org/pandas-docs/stable/user_guide/indexing.html#returning-a-view-versus-a-copy\n",
      "  df_make_security_type[['pats_type', 'pats_module_location']] = df_make_security_type['security'].str.split('(', n=1, expand=True).replace({'\\)': ''}, regex=True)\n",
      "C:\\Users\\Weverson Barbieri\\AppData\\Local\\Temp\\ipykernel_2832\\2269462474.py:9: SettingWithCopyWarning: \n",
      "A value is trying to be set on a copy of a slice from a DataFrame.\n",
      "Try using .loc[row_indexer,col_indexer] = value instead\n",
      "\n",
      "See the caveats in the documentation: https://pandas.pydata.org/pandas-docs/stable/user_guide/indexing.html#returning-a-view-versus-a-copy\n",
      "  df_make_security_type[['pats_type', 'pats_module_location']] = df_make_security_type['security'].str.split('(', n=1, expand=True).replace({'\\)': ''}, regex=True)\n"
     ]
    }
   ],
   "source": [
    "# Call the fuction to split the pats type a and module location info\n",
    "df_pats_a = split_security_info('PATS Type A (Stand Alone PATS Module)', df_mercury)"
   ]
  },
  {
   "cell_type": "code",
   "execution_count": 47,
   "id": "b3bb4fbd",
   "metadata": {},
   "outputs": [
    {
     "name": "stderr",
     "output_type": "stream",
     "text": [
      "C:\\Users\\Weverson Barbieri\\AppData\\Local\\Temp\\ipykernel_2832\\2316733318.py:10: SettingWithCopyWarning: \n",
      "A value is trying to be set on a copy of a slice from a DataFrame.\n",
      "Try using .loc[row_indexer,col_indexer] = value instead\n",
      "\n",
      "See the caveats in the documentation: https://pandas.pydata.org/pandas-docs/stable/user_guide/indexing.html#returning-a-view-versus-a-copy\n",
      "  df_make_filtered_built_date['security'] = df_make_filtered_built_date['security'].str.split('\\n')\n"
     ]
    }
   ],
   "source": [
    "# Call the function to create a df containing the string 'Built July' \n",
    "df_mercury_built_february = separate_pats_type_pats_ecu_location('Built February', df_mercury)"
   ]
  },
  {
   "cell_type": "code",
   "execution_count": 48,
   "id": "2a73e308",
   "metadata": {},
   "outputs": [],
   "source": [
    "# Regex to get the date information from the 'pats type' column\n",
    "df_mercury_built_february_info = df_mercury_built_february['security'].str.extract(r'^(.*?):\\s*P')"
   ]
  },
  {
   "cell_type": "code",
   "execution_count": 49,
   "id": "383341c7",
   "metadata": {},
   "outputs": [],
   "source": [
    "# Convert the df to list\n",
    "mercury_built_february_info_list = df_mercury_built_february_info[0].to_list()"
   ]
  },
  {
   "cell_type": "code",
   "execution_count": 50,
   "id": "6927e8c3",
   "metadata": {},
   "outputs": [
    {
     "data": {
      "text/plain": [
       "['Built February 1st 1998 or Earlier', 'Built February 2nd 1998 or Later']"
      ]
     },
     "execution_count": 50,
     "metadata": {},
     "output_type": "execute_result"
    }
   ],
   "source": [
    "# Print the data list to see the result\n",
    "mercury_built_february_info_list"
   ]
  },
  {
   "cell_type": "code",
   "execution_count": null,
   "id": "cf670f22",
   "metadata": {},
   "outputs": [],
   "source": [
    "# Call the function to update the models with the built date\n",
    "df_mercury_built_february_updated_models = update_models_with_built_date_info(df_mercury_built_february)"
   ]
  },
  {
   "cell_type": "code",
   "execution_count": null,
   "id": "60effc97",
   "metadata": {},
   "outputs": [],
   "source": [
    "# Use the regex to keep all data after PATS string and remove all data before PATS string.\n",
    "df_mercury_built_february_updated_models['pats_type'] = df_mercury_built_february_updated_models['pats_type'].str.extract(r'(?:.*?:)?\\s*(PATS.*)')"
   ]
  },
  {
   "cell_type": "code",
   "execution_count": 66,
   "id": "db61d165",
   "metadata": {},
   "outputs": [],
   "source": [
    "# Drop security column\n",
    "df_mercury_built_february_final_version = df_mercury_built_february_updated_models.drop(columns=['security'])"
   ]
  },
  {
   "cell_type": "code",
   "execution_count": 67,
   "id": "4f44f61f",
   "metadata": {},
   "outputs": [
    {
     "data": {
      "text/html": [
       "<div>\n",
       "<style scoped>\n",
       "    .dataframe tbody tr th:only-of-type {\n",
       "        vertical-align: middle;\n",
       "    }\n",
       "\n",
       "    .dataframe tbody tr th {\n",
       "        vertical-align: top;\n",
       "    }\n",
       "\n",
       "    .dataframe thead th {\n",
       "        text-align: right;\n",
       "    }\n",
       "</style>\n",
       "<table border=\"1\" class=\"dataframe\">\n",
       "  <thead>\n",
       "    <tr style=\"text-align: right;\">\n",
       "      <th></th>\n",
       "      <th>year</th>\n",
       "      <th>make</th>\n",
       "      <th>model</th>\n",
       "      <th>parameter_reset</th>\n",
       "      <th>pats_type</th>\n",
       "      <th>pats_module_location</th>\n",
       "    </tr>\n",
       "  </thead>\n",
       "  <tbody>\n",
       "    <tr>\n",
       "      <th>0</th>\n",
       "      <td>1998</td>\n",
       "      <td>Mercury</td>\n",
       "      <td>Mystique (V-6 only) / Built July 23rd 2000 or ...</td>\n",
       "      <td>Parameter Reset Not Required</td>\n",
       "      <td>PATS Type A</td>\n",
       "      <td>Stand Alone PATS Module</td>\n",
       "    </tr>\n",
       "    <tr>\n",
       "      <th>1</th>\n",
       "      <td>1998</td>\n",
       "      <td>Mercury</td>\n",
       "      <td>Mystique (V-6 only) / Built July 24th 2000 or ...</td>\n",
       "      <td>Parameter Reset Not Required</td>\n",
       "      <td>PATS Type E</td>\n",
       "      <td>Powertrain Control Module</td>\n",
       "    </tr>\n",
       "  </tbody>\n",
       "</table>\n",
       "</div>"
      ],
      "text/plain": [
       "   year     make                                              model  \\\n",
       "0  1998  Mercury  Mystique (V-6 only) / Built July 23rd 2000 or ...   \n",
       "1  1998  Mercury  Mystique (V-6 only) / Built July 24th 2000 or ...   \n",
       "\n",
       "                parameter_reset     pats_type       pats_module_location  \n",
       "0  Parameter Reset Not Required  PATS Type A     Stand Alone PATS Module  \n",
       "1  Parameter Reset Not Required  PATS Type E   Powertrain Control Module  "
      ]
     },
     "execution_count": 67,
     "metadata": {},
     "output_type": "execute_result"
    }
   ],
   "source": [
    "# Print the results\n",
    "df_mercury_built_february_final_version"
   ]
  },
  {
   "cell_type": "code",
   "execution_count": 68,
   "id": "9c3c93f7",
   "metadata": {},
   "outputs": [],
   "source": [
    "# Concatenate all dfs after modifications\n",
    "df_mercury_concatenated = pd.concat([df_pats_a, df_pats_b, df_pats_e, df_mercury_built_february_final_version])"
   ]
  },
  {
   "cell_type": "code",
   "execution_count": 69,
   "id": "fc24c451",
   "metadata": {},
   "outputs": [],
   "source": [
    "# Sort the df based on the year\n",
    "df_mercury_final_version = df_mercury_concatenated.sort_values(['year'])"
   ]
  },
  {
   "cell_type": "code",
   "execution_count": null,
   "id": "82727288",
   "metadata": {},
   "outputs": [],
   "source": [
    "# Export the Mercury df to csv file\n",
    "df_mercury_final_version.to_csv('C:\\Language_Projects\\Language_Projects\\Python\\Flagship_1\\Immo_Assistant.app\\dataframe_csv_files\\df_mercury.csv', index=False)"
   ]
  }
 ],
 "metadata": {
  "kernelspec": {
   "display_name": "Python 3",
   "language": "python",
   "name": "python3"
  },
  "language_info": {
   "codemirror_mode": {
    "name": "ipython",
    "version": 3
   },
   "file_extension": ".py",
   "mimetype": "text/x-python",
   "name": "python",
   "nbconvert_exporter": "python",
   "pygments_lexer": "ipython3",
   "version": "3.12.2"
  }
 },
 "nbformat": 4,
 "nbformat_minor": 5
}
