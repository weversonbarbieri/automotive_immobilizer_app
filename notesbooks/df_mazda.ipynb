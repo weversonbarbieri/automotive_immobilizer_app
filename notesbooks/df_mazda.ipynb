{
 "cells": [
  {
   "cell_type": "code",
   "execution_count": 3,
   "metadata": {},
   "outputs": [],
   "source": [
    "import pandas as pd"
   ]
  },
  {
   "cell_type": "code",
   "execution_count": 7,
   "metadata": {},
   "outputs": [
    {
     "name": "stderr",
     "output_type": "stream",
     "text": [
      "<>:2: SyntaxWarning: invalid escape sequence '\\L'\n",
      "<>:2: SyntaxWarning: invalid escape sequence '\\L'\n",
      "C:\\Users\\Weverson Barbieri\\AppData\\Local\\Temp\\ipykernel_21712\\507487594.py:2: SyntaxWarning: invalid escape sequence '\\L'\n",
      "  df = pd.read_excel('C:\\Language_Projects\\Language_Projects\\Python\\Flagship_1\\Immo_Assistant.app\\data\\year_make_model_df.xlsx')\n"
     ]
    }
   ],
   "source": [
    "# Read the DataFrame and save it in the variable df.\n",
    "df = pd.read_excel('C:\\Language_Projects\\Language_Projects\\Python\\Flagship_1\\Immo_Assistant.app\\data\\year_make_model_df.xlsx')"
   ]
  },
  {
   "cell_type": "code",
   "execution_count": 10,
   "metadata": {},
   "outputs": [],
   "source": [
    "# Filter the Mazda and store into a variable\n",
    "df_mazda = df[df['Make'] == 'Mazda']"
   ]
  },
  {
   "cell_type": "code",
   "execution_count": 11,
   "metadata": {},
   "outputs": [],
   "source": [
    "# Create a list to store the rows with caractere \\n\n",
    "mazda_caractere_list = []\n",
    "# Create a list to store the indexes to be removed \n",
    "mazda_caractere_index_list = []\n",
    "\n",
    "# Loop in the lines of the df_mazda to find the caractere \\n\n",
    "for index, row in df_mazda.iterrows():\n",
    "    # Condition when finding '\\n' in the rows of column 'Security'\n",
    "    if '\\n' in row['Security']:\n",
    "        # Store the rows with the said caractere in the list \n",
    "        mazda_caractere_list.append(row)\n",
    "        # Store the indexes numbers containing the said caractere\n",
    "        mazda_caractere_index_list.append(index)\n",
    "\n",
    "# Change 'mazda_caractere_list' to dataframe\n",
    "df_mazda_w_caract = pd.DataFrame(mazda_caractere_list)"
   ]
  },
  {
   "cell_type": "code",
   "execution_count": 12,
   "metadata": {},
   "outputs": [
    {
     "data": {
      "text/html": [
       "<div>\n",
       "<style scoped>\n",
       "    .dataframe tbody tr th:only-of-type {\n",
       "        vertical-align: middle;\n",
       "    }\n",
       "\n",
       "    .dataframe tbody tr th {\n",
       "        vertical-align: top;\n",
       "    }\n",
       "\n",
       "    .dataframe thead th {\n",
       "        text-align: right;\n",
       "    }\n",
       "</style>\n",
       "<table border=\"1\" class=\"dataframe\">\n",
       "  <thead>\n",
       "    <tr style=\"text-align: right;\">\n",
       "      <th></th>\n",
       "      <th>Year</th>\n",
       "      <th>Make</th>\n",
       "      <th>Model</th>\n",
       "      <th>Security</th>\n",
       "      <th>ParameterReset</th>\n",
       "    </tr>\n",
       "  </thead>\n",
       "  <tbody>\n",
       "    <tr>\n",
       "      <th>1670</th>\n",
       "      <td>2006</td>\n",
       "      <td>Mazda</td>\n",
       "      <td>Mazda6</td>\n",
       "      <td>Keyed Ignition: M-B\\nAdvanced Keyless: M-D</td>\n",
       "      <td>Parameter Reset Not Required</td>\n",
       "    </tr>\n",
       "    <tr>\n",
       "      <th>1672</th>\n",
       "      <td>2006</td>\n",
       "      <td>Mazda</td>\n",
       "      <td>MX-5 (Miata)</td>\n",
       "      <td>Advanced Keyless Entry w/ Keyless Start): M-D\\nKeyless Entry w/ Keyed Ignition: M-C</td>\n",
       "      <td>Parameter Reset Required</td>\n",
       "    </tr>\n",
       "    <tr>\n",
       "      <th>1673</th>\n",
       "      <td>2006</td>\n",
       "      <td>Mazda</td>\n",
       "      <td>RX-8</td>\n",
       "      <td>Keyed Ignition: M-C\\nAdvanced Keyless: M-D</td>\n",
       "      <td>Parameter Reset Required</td>\n",
       "    </tr>\n",
       "    <tr>\n",
       "      <th>1899</th>\n",
       "      <td>2007</td>\n",
       "      <td>Mazda</td>\n",
       "      <td>CX-7</td>\n",
       "      <td>Keyed Ignition: M-C\\nAdvanced Keyless: MD</td>\n",
       "      <td>Parameter Reset Required</td>\n",
       "    </tr>\n",
       "    <tr>\n",
       "      <th>1900</th>\n",
       "      <td>2007</td>\n",
       "      <td>Mazda</td>\n",
       "      <td>CX-9</td>\n",
       "      <td>Keyed Ignition: M-C\\nAdvanced Keyless: M-D</td>\n",
       "      <td>Parameter Reset Required</td>\n",
       "    </tr>\n",
       "  </tbody>\n",
       "</table>\n",
       "</div>"
      ],
      "text/plain": [
       "      Year   Make         Model  \\\n",
       "1670  2006  Mazda        Mazda6   \n",
       "1672  2006  Mazda  MX-5 (Miata)   \n",
       "1673  2006  Mazda          RX-8   \n",
       "1899  2007  Mazda          CX-7   \n",
       "1900  2007  Mazda          CX-9   \n",
       "\n",
       "                                                                                 Security  \\\n",
       "1670                                           Keyed Ignition: M-B\\nAdvanced Keyless: M-D   \n",
       "1672  Advanced Keyless Entry w/ Keyless Start): M-D\\nKeyless Entry w/ Keyed Ignition: M-C   \n",
       "1673                                           Keyed Ignition: M-C\\nAdvanced Keyless: M-D   \n",
       "1899                                            Keyed Ignition: M-C\\nAdvanced Keyless: MD   \n",
       "1900                                           Keyed Ignition: M-C\\nAdvanced Keyless: M-D   \n",
       "\n",
       "                    ParameterReset  \n",
       "1670  Parameter Reset Not Required  \n",
       "1672      Parameter Reset Required  \n",
       "1673      Parameter Reset Required  \n",
       "1899      Parameter Reset Required  \n",
       "1900      Parameter Reset Required  "
      ]
     },
     "execution_count": 12,
     "metadata": {},
     "output_type": "execute_result"
    }
   ],
   "source": [
    "# Check if the df is correct\n",
    "df_mazda_w_caract.head()"
   ]
  },
  {
   "cell_type": "code",
   "execution_count": 13,
   "metadata": {},
   "outputs": [],
   "source": [
    "# Split the security types in 2 lines (keeping year/model), using the caractere '\\n' as delimiter\n",
    "df_mazda_w_caract = df_mazda_w_caract.assign(Security=df_mazda_w_caract['Security'].str.split('\\n')).explode('Security')"
   ]
  },
  {
   "cell_type": "code",
   "execution_count": 14,
   "metadata": {},
   "outputs": [],
   "source": [
    "# Clear the df_mazda by removing the rows containing the caractere '\\n' based on the index list\n",
    "df_mazda = df_mazda.drop(index=mazda_caractere_index_list) "
   ]
  },
  {
   "cell_type": "code",
   "execution_count": 15,
   "metadata": {},
   "outputs": [],
   "source": [
    "# Concatenate the dataframe after splitting lines with the main df_mazda\n",
    "df_mazda_updated = pd.concat([df_mazda_w_caract, df_mazda])"
   ]
  },
  {
   "cell_type": "code",
   "execution_count": 16,
   "metadata": {},
   "outputs": [],
   "source": [
    "# Sort the dataframe using the column 'Year' and reset index\n",
    "df_mazda_updated = df_mazda_updated.sort_values(['Year']).reset_index().drop(columns=['index'])"
   ]
  }
 ],
 "metadata": {
  "kernelspec": {
   "display_name": "Python 3",
   "language": "python",
   "name": "python3"
  },
  "language_info": {
   "codemirror_mode": {
    "name": "ipython",
    "version": 3
   },
   "file_extension": ".py",
   "mimetype": "text/x-python",
   "name": "python",
   "nbconvert_exporter": "python",
   "pygments_lexer": "ipython3",
   "version": "3.12.2"
  }
 },
 "nbformat": 4,
 "nbformat_minor": 2
}
